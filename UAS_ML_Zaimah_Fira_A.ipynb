{
  "cells": [
    {
      "cell_type": "markdown",
      "metadata": {
        "id": "view-in-github",
        "colab_type": "text"
      },
      "source": [
        "<a href=\"https://colab.research.google.com/github/zaimahfira/Project/blob/main/UAS_ML_Zaimah_Fira_A.ipynb\" target=\"_parent\"><img src=\"https://colab.research.google.com/assets/colab-badge.svg\" alt=\"Open In Colab\"/></a>"
      ]
    },
    {
      "cell_type": "markdown",
      "source": [
        "## Import Library"
      ],
      "metadata": {
        "id": "zS1BBmKS_urw"
      },
      "id": "zS1BBmKS_urw"
    },
    {
      "cell_type": "code",
      "execution_count": null,
      "id": "66a5ace3",
      "metadata": {
        "execution": {
          "iopub.execute_input": "2022-10-15T12:34:55.095298Z",
          "iopub.status.busy": "2022-10-15T12:34:55.094690Z",
          "iopub.status.idle": "2022-10-15T12:34:57.754242Z",
          "shell.execute_reply": "2022-10-15T12:34:57.752832Z"
        },
        "papermill": {
          "duration": 2.682186,
          "end_time": "2022-10-15T12:34:57.757704",
          "exception": false,
          "start_time": "2022-10-15T12:34:55.075518",
          "status": "completed"
        },
        "tags": [],
        "id": "66a5ace3"
      },
      "outputs": [],
      "source": [
        "import numpy as np\n",
        "import pandas as pd\n",
        "import seaborn as sns\n",
        "from sklearn.model_selection import train_test_split, GridSearchCV\n",
        "from sklearn.metrics import mean_squared_error, r2_score\n",
        "import matplotlib.pyplot as plt\n",
        "from sklearn.preprocessing import scale, StandardScaler,LabelEncoder\n",
        "from sklearn.model_selection import train_test_split, GridSearchCV,cross_val_score\n",
        "from sklearn.metrics import confusion_matrix, accuracy_score, mean_squared_error, r2_score, roc_auc_score, roc_curve,classification_report\n",
        "from sklearn.naive_bayes import GaussianNB\n",
        "import warnings\n",
        "warnings.filterwarnings(\"ignore\")\n",
        "\n",
        "from scipy import stats\n",
        "from sklearn.ensemble import RandomForestClassifier\n",
        "from sklearn.pipeline import Pipeline\n",
        "from sklearn.preprocessing import  StandardScaler"
      ]
    },
    {
      "cell_type": "markdown",
      "id": "448b3cca",
      "metadata": {
        "papermill": {
          "duration": 0.015737,
          "end_time": "2022-10-15T12:34:57.790312",
          "exception": false,
          "start_time": "2022-10-15T12:34:57.774575",
          "status": "completed"
        },
        "tags": [],
        "id": "448b3cca"
      },
      "source": [
        "## Load Data dan Ekplorasi Data"
      ]
    },
    {
      "cell_type": "code",
      "execution_count": null,
      "id": "2dc84f8e",
      "metadata": {
        "execution": {
          "iopub.execute_input": "2022-10-15T12:34:57.826576Z",
          "iopub.status.busy": "2022-10-15T12:34:57.826190Z",
          "iopub.status.idle": "2022-10-15T12:34:57.949781Z",
          "shell.execute_reply": "2022-10-15T12:34:57.948614Z"
        },
        "papermill": {
          "duration": 0.144609,
          "end_time": "2022-10-15T12:34:57.952330",
          "exception": false,
          "start_time": "2022-10-15T12:34:57.807721",
          "status": "completed"
        },
        "tags": [],
        "colab": {
          "base_uri": "https://localhost:8080/",
          "height": 629
        },
        "id": "2dc84f8e",
        "outputId": "714a0d29-8797-4deb-ef42-67ce626774cc"
      },
      "outputs": [
        {
          "output_type": "execute_result",
          "data": {
            "text/plain": [
              "   Row ID        Order ID  Order Date   Ship Date       Ship Mode Customer ID  \\\n",
              "0       1  CA-2016-152156   11/8/2016  11/11/2016    Second Class    CG-12520   \n",
              "1       2  CA-2016-152156   11/8/2016  11/11/2016    Second Class    CG-12520   \n",
              "2       3  CA-2016-138688   6/12/2016   6/16/2016    Second Class    DV-13045   \n",
              "3       4  US-2015-108966  10/11/2015  10/18/2015  Standard Class    SO-20335   \n",
              "4       5  US-2015-108966  10/11/2015  10/18/2015  Standard Class    SO-20335   \n",
              "\n",
              "     Customer Name    Segment        Country             City  ...  \\\n",
              "0      Claire Gute   Consumer  United States        Henderson  ...   \n",
              "1      Claire Gute   Consumer  United States        Henderson  ...   \n",
              "2  Darrin Van Huff  Corporate  United States      Los Angeles  ...   \n",
              "3   Sean O'Donnell   Consumer  United States  Fort Lauderdale  ...   \n",
              "4   Sean O'Donnell   Consumer  United States  Fort Lauderdale  ...   \n",
              "\n",
              "  Postal Code  Region       Product ID         Category Sub-Category  \\\n",
              "0       42420   South  FUR-BO-10001798        Furniture    Bookcases   \n",
              "1       42420   South  FUR-CH-10000454        Furniture       Chairs   \n",
              "2       90036    West  OFF-LA-10000240  Office Supplies       Labels   \n",
              "3       33311   South  FUR-TA-10000577        Furniture       Tables   \n",
              "4       33311   South  OFF-ST-10000760  Office Supplies      Storage   \n",
              "\n",
              "                                        Product Name     Sales  Quantity  \\\n",
              "0                  Bush Somerset Collection Bookcase  261.9600         2   \n",
              "1  Hon Deluxe Fabric Upholstered Stacking Chairs,...  731.9400         3   \n",
              "2  Self-Adhesive Address Labels for Typewriters b...   14.6200         2   \n",
              "3      Bretford CR4500 Series Slim Rectangular Table  957.5775         5   \n",
              "4                     Eldon Fold 'N Roll Cart System   22.3680         2   \n",
              "\n",
              "   Discount    Profit  \n",
              "0      0.00   41.9136  \n",
              "1      0.00  219.5820  \n",
              "2      0.00    6.8714  \n",
              "3      0.45 -383.0310  \n",
              "4      0.20    2.5164  \n",
              "\n",
              "[5 rows x 21 columns]"
            ],
            "text/html": [
              "\n",
              "  <div id=\"df-3b322677-0e0f-46cb-a1f0-01039284c35f\">\n",
              "    <div class=\"colab-df-container\">\n",
              "      <div>\n",
              "<style scoped>\n",
              "    .dataframe tbody tr th:only-of-type {\n",
              "        vertical-align: middle;\n",
              "    }\n",
              "\n",
              "    .dataframe tbody tr th {\n",
              "        vertical-align: top;\n",
              "    }\n",
              "\n",
              "    .dataframe thead th {\n",
              "        text-align: right;\n",
              "    }\n",
              "</style>\n",
              "<table border=\"1\" class=\"dataframe\">\n",
              "  <thead>\n",
              "    <tr style=\"text-align: right;\">\n",
              "      <th></th>\n",
              "      <th>Row ID</th>\n",
              "      <th>Order ID</th>\n",
              "      <th>Order Date</th>\n",
              "      <th>Ship Date</th>\n",
              "      <th>Ship Mode</th>\n",
              "      <th>Customer ID</th>\n",
              "      <th>Customer Name</th>\n",
              "      <th>Segment</th>\n",
              "      <th>Country</th>\n",
              "      <th>City</th>\n",
              "      <th>...</th>\n",
              "      <th>Postal Code</th>\n",
              "      <th>Region</th>\n",
              "      <th>Product ID</th>\n",
              "      <th>Category</th>\n",
              "      <th>Sub-Category</th>\n",
              "      <th>Product Name</th>\n",
              "      <th>Sales</th>\n",
              "      <th>Quantity</th>\n",
              "      <th>Discount</th>\n",
              "      <th>Profit</th>\n",
              "    </tr>\n",
              "  </thead>\n",
              "  <tbody>\n",
              "    <tr>\n",
              "      <th>0</th>\n",
              "      <td>1</td>\n",
              "      <td>CA-2016-152156</td>\n",
              "      <td>11/8/2016</td>\n",
              "      <td>11/11/2016</td>\n",
              "      <td>Second Class</td>\n",
              "      <td>CG-12520</td>\n",
              "      <td>Claire Gute</td>\n",
              "      <td>Consumer</td>\n",
              "      <td>United States</td>\n",
              "      <td>Henderson</td>\n",
              "      <td>...</td>\n",
              "      <td>42420</td>\n",
              "      <td>South</td>\n",
              "      <td>FUR-BO-10001798</td>\n",
              "      <td>Furniture</td>\n",
              "      <td>Bookcases</td>\n",
              "      <td>Bush Somerset Collection Bookcase</td>\n",
              "      <td>261.9600</td>\n",
              "      <td>2</td>\n",
              "      <td>0.00</td>\n",
              "      <td>41.9136</td>\n",
              "    </tr>\n",
              "    <tr>\n",
              "      <th>1</th>\n",
              "      <td>2</td>\n",
              "      <td>CA-2016-152156</td>\n",
              "      <td>11/8/2016</td>\n",
              "      <td>11/11/2016</td>\n",
              "      <td>Second Class</td>\n",
              "      <td>CG-12520</td>\n",
              "      <td>Claire Gute</td>\n",
              "      <td>Consumer</td>\n",
              "      <td>United States</td>\n",
              "      <td>Henderson</td>\n",
              "      <td>...</td>\n",
              "      <td>42420</td>\n",
              "      <td>South</td>\n",
              "      <td>FUR-CH-10000454</td>\n",
              "      <td>Furniture</td>\n",
              "      <td>Chairs</td>\n",
              "      <td>Hon Deluxe Fabric Upholstered Stacking Chairs,...</td>\n",
              "      <td>731.9400</td>\n",
              "      <td>3</td>\n",
              "      <td>0.00</td>\n",
              "      <td>219.5820</td>\n",
              "    </tr>\n",
              "    <tr>\n",
              "      <th>2</th>\n",
              "      <td>3</td>\n",
              "      <td>CA-2016-138688</td>\n",
              "      <td>6/12/2016</td>\n",
              "      <td>6/16/2016</td>\n",
              "      <td>Second Class</td>\n",
              "      <td>DV-13045</td>\n",
              "      <td>Darrin Van Huff</td>\n",
              "      <td>Corporate</td>\n",
              "      <td>United States</td>\n",
              "      <td>Los Angeles</td>\n",
              "      <td>...</td>\n",
              "      <td>90036</td>\n",
              "      <td>West</td>\n",
              "      <td>OFF-LA-10000240</td>\n",
              "      <td>Office Supplies</td>\n",
              "      <td>Labels</td>\n",
              "      <td>Self-Adhesive Address Labels for Typewriters b...</td>\n",
              "      <td>14.6200</td>\n",
              "      <td>2</td>\n",
              "      <td>0.00</td>\n",
              "      <td>6.8714</td>\n",
              "    </tr>\n",
              "    <tr>\n",
              "      <th>3</th>\n",
              "      <td>4</td>\n",
              "      <td>US-2015-108966</td>\n",
              "      <td>10/11/2015</td>\n",
              "      <td>10/18/2015</td>\n",
              "      <td>Standard Class</td>\n",
              "      <td>SO-20335</td>\n",
              "      <td>Sean O'Donnell</td>\n",
              "      <td>Consumer</td>\n",
              "      <td>United States</td>\n",
              "      <td>Fort Lauderdale</td>\n",
              "      <td>...</td>\n",
              "      <td>33311</td>\n",
              "      <td>South</td>\n",
              "      <td>FUR-TA-10000577</td>\n",
              "      <td>Furniture</td>\n",
              "      <td>Tables</td>\n",
              "      <td>Bretford CR4500 Series Slim Rectangular Table</td>\n",
              "      <td>957.5775</td>\n",
              "      <td>5</td>\n",
              "      <td>0.45</td>\n",
              "      <td>-383.0310</td>\n",
              "    </tr>\n",
              "    <tr>\n",
              "      <th>4</th>\n",
              "      <td>5</td>\n",
              "      <td>US-2015-108966</td>\n",
              "      <td>10/11/2015</td>\n",
              "      <td>10/18/2015</td>\n",
              "      <td>Standard Class</td>\n",
              "      <td>SO-20335</td>\n",
              "      <td>Sean O'Donnell</td>\n",
              "      <td>Consumer</td>\n",
              "      <td>United States</td>\n",
              "      <td>Fort Lauderdale</td>\n",
              "      <td>...</td>\n",
              "      <td>33311</td>\n",
              "      <td>South</td>\n",
              "      <td>OFF-ST-10000760</td>\n",
              "      <td>Office Supplies</td>\n",
              "      <td>Storage</td>\n",
              "      <td>Eldon Fold 'N Roll Cart System</td>\n",
              "      <td>22.3680</td>\n",
              "      <td>2</td>\n",
              "      <td>0.20</td>\n",
              "      <td>2.5164</td>\n",
              "    </tr>\n",
              "  </tbody>\n",
              "</table>\n",
              "<p>5 rows × 21 columns</p>\n",
              "</div>\n",
              "      <button class=\"colab-df-convert\" onclick=\"convertToInteractive('df-3b322677-0e0f-46cb-a1f0-01039284c35f')\"\n",
              "              title=\"Convert this dataframe to an interactive table.\"\n",
              "              style=\"display:none;\">\n",
              "        \n",
              "  <svg xmlns=\"http://www.w3.org/2000/svg\" height=\"24px\"viewBox=\"0 0 24 24\"\n",
              "       width=\"24px\">\n",
              "    <path d=\"M0 0h24v24H0V0z\" fill=\"none\"/>\n",
              "    <path d=\"M18.56 5.44l.94 2.06.94-2.06 2.06-.94-2.06-.94-.94-2.06-.94 2.06-2.06.94zm-11 1L8.5 8.5l.94-2.06 2.06-.94-2.06-.94L8.5 2.5l-.94 2.06-2.06.94zm10 10l.94 2.06.94-2.06 2.06-.94-2.06-.94-.94-2.06-.94 2.06-2.06.94z\"/><path d=\"M17.41 7.96l-1.37-1.37c-.4-.4-.92-.59-1.43-.59-.52 0-1.04.2-1.43.59L10.3 9.45l-7.72 7.72c-.78.78-.78 2.05 0 2.83L4 21.41c.39.39.9.59 1.41.59.51 0 1.02-.2 1.41-.59l7.78-7.78 2.81-2.81c.8-.78.8-2.07 0-2.86zM5.41 20L4 18.59l7.72-7.72 1.47 1.35L5.41 20z\"/>\n",
              "  </svg>\n",
              "      </button>\n",
              "      \n",
              "  <style>\n",
              "    .colab-df-container {\n",
              "      display:flex;\n",
              "      flex-wrap:wrap;\n",
              "      gap: 12px;\n",
              "    }\n",
              "\n",
              "    .colab-df-convert {\n",
              "      background-color: #E8F0FE;\n",
              "      border: none;\n",
              "      border-radius: 50%;\n",
              "      cursor: pointer;\n",
              "      display: none;\n",
              "      fill: #1967D2;\n",
              "      height: 32px;\n",
              "      padding: 0 0 0 0;\n",
              "      width: 32px;\n",
              "    }\n",
              "\n",
              "    .colab-df-convert:hover {\n",
              "      background-color: #E2EBFA;\n",
              "      box-shadow: 0px 1px 2px rgba(60, 64, 67, 0.3), 0px 1px 3px 1px rgba(60, 64, 67, 0.15);\n",
              "      fill: #174EA6;\n",
              "    }\n",
              "\n",
              "    [theme=dark] .colab-df-convert {\n",
              "      background-color: #3B4455;\n",
              "      fill: #D2E3FC;\n",
              "    }\n",
              "\n",
              "    [theme=dark] .colab-df-convert:hover {\n",
              "      background-color: #434B5C;\n",
              "      box-shadow: 0px 1px 3px 1px rgba(0, 0, 0, 0.15);\n",
              "      filter: drop-shadow(0px 1px 2px rgba(0, 0, 0, 0.3));\n",
              "      fill: #FFFFFF;\n",
              "    }\n",
              "  </style>\n",
              "\n",
              "      <script>\n",
              "        const buttonEl =\n",
              "          document.querySelector('#df-3b322677-0e0f-46cb-a1f0-01039284c35f button.colab-df-convert');\n",
              "        buttonEl.style.display =\n",
              "          google.colab.kernel.accessAllowed ? 'block' : 'none';\n",
              "\n",
              "        async function convertToInteractive(key) {\n",
              "          const element = document.querySelector('#df-3b322677-0e0f-46cb-a1f0-01039284c35f');\n",
              "          const dataTable =\n",
              "            await google.colab.kernel.invokeFunction('convertToInteractive',\n",
              "                                                     [key], {});\n",
              "          if (!dataTable) return;\n",
              "\n",
              "          const docLinkHtml = 'Like what you see? Visit the ' +\n",
              "            '<a target=\"_blank\" href=https://colab.research.google.com/notebooks/data_table.ipynb>data table notebook</a>'\n",
              "            + ' to learn more about interactive tables.';\n",
              "          element.innerHTML = '';\n",
              "          dataTable['output_type'] = 'display_data';\n",
              "          await google.colab.output.renderOutput(dataTable, element);\n",
              "          const docLink = document.createElement('div');\n",
              "          docLink.innerHTML = docLinkHtml;\n",
              "          element.appendChild(docLink);\n",
              "        }\n",
              "      </script>\n",
              "    </div>\n",
              "  </div>\n",
              "  "
            ]
          },
          "metadata": {},
          "execution_count": 2
        }
      ],
      "source": [
        "#Import dataset\n",
        "store = pd.read_csv('/content/Sample - Superstore.csv',encoding='cp1252')\n",
        "store.head()"
      ]
    },
    {
      "cell_type": "code",
      "execution_count": null,
      "id": "3ae9f7d5",
      "metadata": {
        "execution": {
          "iopub.execute_input": "2022-10-15T12:34:58.025374Z",
          "iopub.status.busy": "2022-10-15T12:34:58.024969Z",
          "iopub.status.idle": "2022-10-15T12:34:58.032152Z",
          "shell.execute_reply": "2022-10-15T12:34:58.030936Z"
        },
        "papermill": {
          "duration": 0.027938,
          "end_time": "2022-10-15T12:34:58.034476",
          "exception": false,
          "start_time": "2022-10-15T12:34:58.006538",
          "status": "completed"
        },
        "tags": [],
        "colab": {
          "base_uri": "https://localhost:8080/"
        },
        "id": "3ae9f7d5",
        "outputId": "f3a98fea-a0c8-4ae2-f300-e56e0b0b574d"
      },
      "outputs": [
        {
          "output_type": "execute_result",
          "data": {
            "text/plain": [
              "(9994, 21)"
            ]
          },
          "metadata": {},
          "execution_count": 3
        }
      ],
      "source": [
        "#Menghitung total baris dan kolom dataset\n",
        "store.shape"
      ]
    },
    {
      "cell_type": "code",
      "execution_count": null,
      "id": "f405cd98",
      "metadata": {
        "execution": {
          "iopub.execute_input": "2022-10-15T12:34:58.163606Z",
          "iopub.status.busy": "2022-10-15T12:34:58.162666Z",
          "iopub.status.idle": "2022-10-15T12:34:58.192609Z",
          "shell.execute_reply": "2022-10-15T12:34:58.191267Z"
        },
        "papermill": {
          "duration": 0.050495,
          "end_time": "2022-10-15T12:34:58.194769",
          "exception": false,
          "start_time": "2022-10-15T12:34:58.144274",
          "status": "completed"
        },
        "tags": [],
        "colab": {
          "base_uri": "https://localhost:8080/"
        },
        "id": "f405cd98",
        "outputId": "2c6a50f7-eebd-4fec-b537-4459f09e1db5"
      },
      "outputs": [
        {
          "output_type": "stream",
          "name": "stdout",
          "text": [
            "<class 'pandas.core.frame.DataFrame'>\n",
            "RangeIndex: 9994 entries, 0 to 9993\n",
            "Data columns (total 21 columns):\n",
            " #   Column         Non-Null Count  Dtype  \n",
            "---  ------         --------------  -----  \n",
            " 0   Row ID         9994 non-null   int64  \n",
            " 1   Order ID       9994 non-null   object \n",
            " 2   Order Date     9994 non-null   object \n",
            " 3   Ship Date      9994 non-null   object \n",
            " 4   Ship Mode      9994 non-null   object \n",
            " 5   Customer ID    9994 non-null   object \n",
            " 6   Customer Name  9994 non-null   object \n",
            " 7   Segment        9994 non-null   object \n",
            " 8   Country        9994 non-null   object \n",
            " 9   City           9994 non-null   object \n",
            " 10  State          9994 non-null   object \n",
            " 11  Postal Code    9994 non-null   int64  \n",
            " 12  Region         9994 non-null   object \n",
            " 13  Product ID     9994 non-null   object \n",
            " 14  Category       9994 non-null   object \n",
            " 15  Sub-Category   9994 non-null   object \n",
            " 16  Product Name   9994 non-null   object \n",
            " 17  Sales          9994 non-null   float64\n",
            " 18  Quantity       9994 non-null   int64  \n",
            " 19  Discount       9994 non-null   float64\n",
            " 20  Profit         9994 non-null   float64\n",
            "dtypes: float64(3), int64(3), object(15)\n",
            "memory usage: 1.6+ MB\n"
          ]
        }
      ],
      "source": [
        "#Menampilkan info tabel\n",
        "store.info()"
      ]
    },
    {
      "cell_type": "code",
      "source": [
        "#Memeriksa nilai yang hilang\n",
        "store.isna().sum()"
      ],
      "metadata": {
        "colab": {
          "base_uri": "https://localhost:8080/"
        },
        "id": "7HwLxey_7Y6Q",
        "outputId": "0d1d4a5e-997e-494c-a6a0-1b9cff9caece"
      },
      "id": "7HwLxey_7Y6Q",
      "execution_count": null,
      "outputs": [
        {
          "output_type": "execute_result",
          "data": {
            "text/plain": [
              "Row ID           0\n",
              "Order ID         0\n",
              "Order Date       0\n",
              "Ship Date        0\n",
              "Ship Mode        0\n",
              "Customer ID      0\n",
              "Customer Name    0\n",
              "Segment          0\n",
              "Country          0\n",
              "City             0\n",
              "State            0\n",
              "Postal Code      0\n",
              "Region           0\n",
              "Product ID       0\n",
              "Category         0\n",
              "Sub-Category     0\n",
              "Product Name     0\n",
              "Sales            0\n",
              "Quantity         0\n",
              "Discount         0\n",
              "Profit           0\n",
              "dtype: int64"
            ]
          },
          "metadata": {},
          "execution_count": 5
        }
      ]
    },
    {
      "cell_type": "code",
      "source": [
        "#Mengecek duplikat kolom\n",
        "store.duplicated().sum()"
      ],
      "metadata": {
        "colab": {
          "base_uri": "https://localhost:8080/"
        },
        "id": "klLLjJMJtnQH",
        "outputId": "527cfcf4-628c-4e3f-f613-44b60bb1d696"
      },
      "id": "klLLjJMJtnQH",
      "execution_count": null,
      "outputs": [
        {
          "output_type": "execute_result",
          "data": {
            "text/plain": [
              "0"
            ]
          },
          "metadata": {},
          "execution_count": 6
        }
      ]
    },
    {
      "cell_type": "code",
      "execution_count": null,
      "id": "195d4bb6",
      "metadata": {
        "execution": {
          "iopub.execute_input": "2022-10-15T12:34:58.269619Z",
          "iopub.status.busy": "2022-10-15T12:34:58.268548Z",
          "iopub.status.idle": "2022-10-15T12:34:58.657949Z",
          "shell.execute_reply": "2022-10-15T12:34:58.656795Z"
        },
        "papermill": {
          "duration": 0.410514,
          "end_time": "2022-10-15T12:34:58.660460",
          "exception": false,
          "start_time": "2022-10-15T12:34:58.249946",
          "status": "completed"
        },
        "tags": [],
        "colab": {
          "base_uri": "https://localhost:8080/",
          "height": 335
        },
        "id": "195d4bb6",
        "outputId": "54512f2c-0c60-46b9-da05-32311196ace7"
      },
      "outputs": [
        {
          "output_type": "execute_result",
          "data": {
            "text/plain": [
              "<matplotlib.axes._subplots.AxesSubplot at 0x7f893ce1bf40>"
            ]
          },
          "metadata": {},
          "execution_count": 7
        },
        {
          "output_type": "display_data",
          "data": {
            "text/plain": [
              "<Figure size 432x288 with 2 Axes>"
            ],
            "image/png": "[encoded data removed]"
          },
          "metadata": {
            "needs_background": "light"
          }
        }
      ],
      "source": [
        "#Menampilkan relasi kolom\n",
        "sns.heatmap(store.corr(), annot =True)"
      ]
    },
    {
      "cell_type": "code",
      "execution_count": null,
      "id": "ebd5da81",
      "metadata": {
        "execution": {
          "iopub.execute_input": "2022-10-15T12:35:18.409036Z",
          "iopub.status.busy": "2022-10-15T12:35:18.408614Z",
          "iopub.status.idle": "2022-10-15T12:35:18.418594Z",
          "shell.execute_reply": "2022-10-15T12:35:18.417413Z"
        },
        "papermill": {
          "duration": 0.035712,
          "end_time": "2022-10-15T12:35:18.421401",
          "exception": false,
          "start_time": "2022-10-15T12:35:18.385689",
          "status": "completed"
        },
        "tags": [],
        "id": "ebd5da81"
      },
      "outputs": [],
      "source": [
        "#Membuat conditional statement pada kolom profit\n",
        "p = store['Profit'].values.astype('O')\n",
        "\n",
        "for j in range(len(p)):\n",
        "    if p[j] > 0:\n",
        "        p[j] = 'Gain'\n",
        "    elif p[j] < 0:\n",
        "        p[j] = 'Loss'\n",
        "    else:\n",
        "        p[j] = 'Nil'"
      ]
    },
    {
      "cell_type": "markdown",
      "id": "0e3e2893",
      "metadata": {
        "papermill": {
          "duration": 0.021316,
          "end_time": "2022-10-15T12:35:18.465606",
          "exception": false,
          "start_time": "2022-10-15T12:35:18.444290",
          "status": "completed"
        },
        "tags": [],
        "id": "0e3e2893"
      },
      "source": [
        "#### **Column Profit**"
      ]
    },
    {
      "cell_type": "code",
      "execution_count": null,
      "id": "c8dd6f50",
      "metadata": {
        "execution": {
          "iopub.execute_input": "2022-10-15T12:35:18.510116Z",
          "iopub.status.busy": "2022-10-15T12:35:18.508989Z",
          "iopub.status.idle": "2022-10-15T12:35:18.740558Z",
          "shell.execute_reply": "2022-10-15T12:35:18.739323Z"
        },
        "papermill": {
          "duration": 0.256261,
          "end_time": "2022-10-15T12:35:18.743095",
          "exception": false,
          "start_time": "2022-10-15T12:35:18.486834",
          "status": "completed"
        },
        "tags": [],
        "colab": {
          "base_uri": "https://localhost:8080/",
          "height": 390
        },
        "id": "c8dd6f50",
        "outputId": "6a4cf551-9223-42ef-de2a-a0e7ba4f8b0c"
      },
      "outputs": [
        {
          "output_type": "execute_result",
          "data": {
            "text/plain": [
              "<matplotlib.axes._subplots.AxesSubplot at 0x7f893ce09c10>"
            ]
          },
          "metadata": {},
          "execution_count": 9
        },
        {
          "output_type": "display_data",
          "data": {
            "text/plain": [
              "<Figure size 1440x432 with 1 Axes>"
            ],
            "image/png": "[encoded data removed]"
          },
          "metadata": {
            "needs_background": "light"
          }
        }
      ],
      "source": [
        "#Menampilkan diagram jumlah pada kolom profit\n",
        "n_bins = 20\n",
        "plt.figure(figsize = (20, 6))\n",
        "store['Profit'].hist(bins = n_bins)"
      ]
    },
    {
      "cell_type": "code",
      "execution_count": null,
      "id": "e04df7b3",
      "metadata": {
        "execution": {
          "iopub.execute_input": "2022-10-15T12:35:18.832719Z",
          "iopub.status.busy": "2022-10-15T12:35:18.831759Z",
          "iopub.status.idle": "2022-10-15T12:35:18.841266Z",
          "shell.execute_reply": "2022-10-15T12:35:18.839844Z"
        },
        "papermill": {
          "duration": 0.033286,
          "end_time": "2022-10-15T12:35:18.843518",
          "exception": false,
          "start_time": "2022-10-15T12:35:18.810232",
          "status": "completed"
        },
        "tags": [],
        "colab": {
          "base_uri": "https://localhost:8080/"
        },
        "id": "e04df7b3",
        "outputId": "cf6603bb-5b1d-47d1-9fb5-ab7aa873a95c"
      },
      "outputs": [
        {
          "output_type": "stream",
          "name": "stdout",
          "text": [
            "Mean Profit: 29\n",
            "Median Profit: 9\n",
            "Highest Profit: 8400\n",
            "Lowest Profit: -6600\n"
          ]
        }
      ],
      "source": [
        "#Menampilkan Mean, Median, Maximum & Minimum kolom Profit\n",
        "print(\"Mean Profit:\", round(store['Profit'].mean()))\n",
        "\n",
        "print(\"Median Profit:\", round(store['Profit'].median()))\n",
        "\n",
        "print(\"Highest Profit:\", round(store['Profit'].max()))\n",
        "\n",
        "print(\"Lowest Profit:\", round(store['Profit'].min()))"
      ]
    },
    {
      "cell_type": "code",
      "execution_count": null,
      "id": "ef5a726a",
      "metadata": {
        "execution": {
          "iopub.execute_input": "2022-10-15T12:35:18.933620Z",
          "iopub.status.busy": "2022-10-15T12:35:18.932588Z",
          "iopub.status.idle": "2022-10-15T12:35:18.943293Z",
          "shell.execute_reply": "2022-10-15T12:35:18.942395Z"
        },
        "papermill": {
          "duration": 0.036479,
          "end_time": "2022-10-15T12:35:18.945326",
          "exception": false,
          "start_time": "2022-10-15T12:35:18.908847",
          "status": "completed"
        },
        "tags": [],
        "colab": {
          "base_uri": "https://localhost:8080/"
        },
        "id": "ef5a726a",
        "outputId": "7cd297ab-23ad-41a8-8ab3-8c13747850ba"
      },
      "outputs": [
        {
          "output_type": "execute_result",
          "data": {
            "text/plain": [
              "6826    8399.9760\n",
              "8153    6719.9808\n",
              "4190    5039.9856\n",
              "9039    4946.3700\n",
              "4098    4630.4755\n",
              "Name: Profit, dtype: float64"
            ]
          },
          "metadata": {},
          "execution_count": 11
        }
      ],
      "source": [
        "#Menampilkan 5 nilai tertinggi kolom profit\n",
        "store['Profit'].sort_values(ascending = False)[:5]"
      ]
    },
    {
      "cell_type": "code",
      "execution_count": null,
      "id": "4062f5e1",
      "metadata": {
        "execution": {
          "iopub.execute_input": "2022-10-15T12:35:19.033179Z",
          "iopub.status.busy": "2022-10-15T12:35:19.032093Z",
          "iopub.status.idle": "2022-10-15T12:35:19.042779Z",
          "shell.execute_reply": "2022-10-15T12:35:19.041701Z"
        },
        "papermill": {
          "duration": 0.035762,
          "end_time": "2022-10-15T12:35:19.045056",
          "exception": false,
          "start_time": "2022-10-15T12:35:19.009294",
          "status": "completed"
        },
        "tags": [],
        "colab": {
          "base_uri": "https://localhost:8080/"
        },
        "id": "4062f5e1",
        "outputId": "7fdb32ad-5365-45e6-8f4b-2afb47deacdc"
      },
      "outputs": [
        {
          "output_type": "execute_result",
          "data": {
            "text/plain": [
              "7772   -6599.9780\n",
              "683    -3839.9904\n",
              "9774   -3701.8928\n",
              "3011   -3399.9800\n",
              "4991   -2929.4845\n",
              "Name: Profit, dtype: float64"
            ]
          },
          "metadata": {},
          "execution_count": 12
        }
      ],
      "source": [
        "#Menampilkan 5 nilai terendah kolom profit\n",
        "store['Profit'].sort_values()[:5]"
      ]
    },
    {
      "cell_type": "markdown",
      "id": "5f195208",
      "metadata": {
        "papermill": {
          "duration": 0.02119,
          "end_time": "2022-10-15T12:35:19.088179",
          "exception": false,
          "start_time": "2022-10-15T12:35:19.066989",
          "status": "completed"
        },
        "tags": [],
        "id": "5f195208"
      },
      "source": [
        "#### **Menampilkan kolom yang termasuk Categorical**"
      ]
    },
    {
      "cell_type": "code",
      "execution_count": null,
      "id": "7a988ab9",
      "metadata": {
        "execution": {
          "iopub.execute_input": "2022-10-15T12:35:19.132485Z",
          "iopub.status.busy": "2022-10-15T12:35:19.131706Z",
          "iopub.status.idle": "2022-10-15T12:35:19.718025Z",
          "shell.execute_reply": "2022-10-15T12:35:19.717106Z"
        },
        "papermill": {
          "duration": 0.610687,
          "end_time": "2022-10-15T12:35:19.720224",
          "exception": false,
          "start_time": "2022-10-15T12:35:19.109537",
          "status": "completed"
        },
        "tags": [],
        "colab": {
          "base_uri": "https://localhost:8080/"
        },
        "id": "7a988ab9",
        "outputId": "ec09ddf0-12fe-4e37-eb4b-13164ea4a5cb"
      },
      "outputs": [
        {
          "output_type": "execute_result",
          "data": {
            "text/plain": [
              "Text(0.5, 1.0, 'Category')"
            ]
          },
          "metadata": {},
          "execution_count": 13
        },
        {
          "output_type": "display_data",
          "data": {
            "text/plain": [
              "<Figure size 432x288 with 0 Axes>"
            ]
          },
          "metadata": {}
        },
        {
          "output_type": "display_data",
          "data": {
            "text/plain": [
              "<Figure size 1440x576 with 4 Axes>"
            ],
            "image/png": "[encoded data removed]"
          },
          "metadata": {
            "needs_background": "light"
          }
        }
      ],
      "source": [
        "plt.figure(1)\n",
        "plt.figure(figsize=(20,8))\n",
        "# Column (Ship Mode)\n",
        "plt.subplot(221)\n",
        "store['Ship Mode'].value_counts().plot(kind='bar',color='crimson',rot=0)\n",
        "plt.title('Ship Mode')\n",
        "# Column (Segment)\n",
        "plt.subplot(222)\n",
        "store['Segment'].value_counts().plot(kind='bar',color='orange',rot=0)\n",
        "plt.title('Segment')\n",
        "# Column (Region)\n",
        "plt.subplot(223)\n",
        "store['Region'].value_counts().plot(kind='bar',color='green',rot=0)\n",
        "plt.title('Region')\n",
        "# Column (Category)\n",
        "plt.subplot(224)\n",
        "store['Category'].value_counts().plot(kind='bar',color='blue',rot=0)\n",
        "plt.title('Category')"
      ]
    },
    {
      "cell_type": "markdown",
      "id": "09ace4df",
      "metadata": {
        "papermill": {
          "duration": 0.023518,
          "end_time": "2022-10-15T12:35:19.767848",
          "exception": false,
          "start_time": "2022-10-15T12:35:19.744330",
          "status": "completed"
        },
        "tags": [],
        "id": "09ace4df"
      },
      "source": [
        "\n",
        "**Plot di atas menggambarkan**\n",
        "* Pengiriman melalui Kelas Standar paling banyak digunakan.\n",
        "* Consumer paling banyak membeli produk\n",
        "* Wilayah Barat memiliki lebih banyak Pelanggan daripada wilayah lain.\n",
        "* Office Supplies adalah produk yang banyak dipesan."
      ]
    },
    {
      "cell_type": "code",
      "execution_count": null,
      "id": "4ad9602f",
      "metadata": {
        "execution": {
          "iopub.execute_input": "2022-10-15T12:35:19.816720Z",
          "iopub.status.busy": "2022-10-15T12:35:19.816279Z",
          "iopub.status.idle": "2022-10-15T12:35:20.165964Z",
          "shell.execute_reply": "2022-10-15T12:35:20.164609Z"
        },
        "papermill": {
          "duration": 0.37719,
          "end_time": "2022-10-15T12:35:20.168680",
          "exception": false,
          "start_time": "2022-10-15T12:35:19.791490",
          "status": "completed"
        },
        "tags": [],
        "colab": {
          "base_uri": "https://localhost:8080/"
        },
        "id": "4ad9602f",
        "outputId": "f8313f84-c552-4667-9407-6931f3cab574"
      },
      "outputs": [
        {
          "output_type": "execute_result",
          "data": {
            "text/plain": [
              "Text(0.5, 1.0, 'Sub-Category')"
            ]
          },
          "metadata": {},
          "execution_count": 14
        },
        {
          "output_type": "display_data",
          "data": {
            "text/plain": [
              "<Figure size 1440x432 with 1 Axes>"
            ],
            "image/png": "[encoded data removed]"
          },
          "metadata": {
            "needs_background": "light"
          }
        }
      ],
      "source": [
        "# Column (Sub-Category)\n",
        "plt.figure(figsize=(20,6))\n",
        "store['Sub-Category'].value_counts().plot(kind='bar',color='red',rot=0)\n",
        "plt.title('Sub-Category')"
      ]
    },
    {
      "cell_type": "markdown",
      "id": "f602f823",
      "metadata": {
        "papermill": {
          "duration": 0.024958,
          "end_time": "2022-10-15T12:35:20.218185",
          "exception": false,
          "start_time": "2022-10-15T12:35:20.193227",
          "status": "completed"
        },
        "tags": [],
        "id": "f602f823"
      },
      "source": [
        "Sub-category yang banyak dipesan adalah Binders"
      ]
    },
    {
      "cell_type": "markdown",
      "id": "715341f5",
      "metadata": {
        "papermill": {
          "duration": 0.023537,
          "end_time": "2022-10-15T12:35:20.265626",
          "exception": false,
          "start_time": "2022-10-15T12:35:20.242089",
          "status": "completed"
        },
        "tags": [],
        "id": "715341f5"
      },
      "source": [
        "#### **Menampilkan kolom yang termasuk Numerical**"
      ]
    },
    {
      "cell_type": "code",
      "execution_count": null,
      "id": "0b66ba5f",
      "metadata": {
        "execution": {
          "iopub.execute_input": "2022-10-15T12:35:20.314097Z",
          "iopub.status.busy": "2022-10-15T12:35:20.313683Z",
          "iopub.status.idle": "2022-10-15T12:35:21.097312Z",
          "shell.execute_reply": "2022-10-15T12:35:21.096177Z"
        },
        "papermill": {
          "duration": 0.810753,
          "end_time": "2022-10-15T12:35:21.099649",
          "exception": false,
          "start_time": "2022-10-15T12:35:20.288896",
          "status": "completed"
        },
        "tags": [],
        "colab": {
          "base_uri": "https://localhost:8080/",
          "height": 419
        },
        "id": "0b66ba5f",
        "outputId": "2cc4090d-9f20-456c-94ab-087bbeee17e6"
      },
      "outputs": [
        {
          "output_type": "display_data",
          "data": {
            "text/plain": [
              "<Figure size 432x288 with 0 Axes>"
            ]
          },
          "metadata": {}
        },
        {
          "output_type": "display_data",
          "data": {
            "text/plain": [
              "<Figure size 1440x432 with 3 Axes>"
            ],
            "image/png": "[encoded data removed]"
          },
          "metadata": {
            "needs_background": "light"
          }
        }
      ],
      "source": [
        "plt.figure(1)\n",
        "plt.figure(figsize=(20,6))\n",
        "plt.subplots_adjust(left=0.1,bottom=0.1,right=0.9,top=0.9,wspace=0.2,hspace=0.4)\n",
        "# Column (Sales)\n",
        "plt.subplot(221)\n",
        "sns.distplot(store['Sales'])\n",
        "plt.title('Sales')\n",
        "# Column (Quantity)\n",
        "plt.subplot(222)\n",
        "sns.distplot(store['Quantity'])\n",
        "plt.title('Quantity')\n",
        "# Column (Discount)\n",
        "plt.subplot(223)\n",
        "sns.distplot(store['Discount'])\n",
        "plt.title('Discount')\n",
        "plt.show()"
      ]
    },
    {
      "cell_type": "markdown",
      "id": "d53838ca",
      "metadata": {
        "papermill": {
          "duration": 0.024478,
          "end_time": "2022-10-15T12:35:21.148446",
          "exception": false,
          "start_time": "2022-10-15T12:35:21.123968",
          "status": "completed"
        },
        "tags": [],
        "id": "d53838ca"
      },
      "source": [
        "#### **Membandingkan Target Column dan Categorical Column**"
      ]
    },
    {
      "cell_type": "code",
      "execution_count": null,
      "id": "b7f201e0",
      "metadata": {
        "execution": {
          "iopub.execute_input": "2022-10-15T12:35:21.197963Z",
          "iopub.status.busy": "2022-10-15T12:35:21.197519Z",
          "iopub.status.idle": "2022-10-15T12:35:22.482295Z",
          "shell.execute_reply": "2022-10-15T12:35:22.481010Z"
        },
        "papermill": {
          "duration": 1.312532,
          "end_time": "2022-10-15T12:35:22.484742",
          "exception": false,
          "start_time": "2022-10-15T12:35:21.172210",
          "status": "completed"
        },
        "tags": [],
        "colab": {
          "base_uri": "https://localhost:8080/"
        },
        "id": "b7f201e0",
        "outputId": "cf6cb23e-9373-42c0-f51f-0ca87b05f507"
      },
      "outputs": [
        {
          "output_type": "execute_result",
          "data": {
            "text/plain": [
              "Text(0.5, 1.0, 'Category vs Profit')"
            ]
          },
          "metadata": {},
          "execution_count": 16
        },
        {
          "output_type": "display_data",
          "data": {
            "text/plain": [
              "<Figure size 432x288 with 0 Axes>"
            ]
          },
          "metadata": {}
        },
        {
          "output_type": "display_data",
          "data": {
            "text/plain": [
              "<Figure size 1440x576 with 4 Axes>"
            ],
            "image/png": "[encoded data removed]"
          },
          "metadata": {
            "needs_background": "light"
          }
        }
      ],
      "source": [
        "plt.figure(1)\n",
        "plt.figure(figsize = (20, 8))\n",
        "plt.subplots_adjust(left=0.1,bottom=0.1,right=0.9,top=0.9,wspace=0.2,hspace=0.4)\n",
        "# Column (Ship Mode vs Profit)\n",
        "plt.subplot(221)\n",
        "sns.barplot(x = store['Ship Mode'], y = store['Profit'], palette = \"nipy_spectral\")\n",
        "plt.title('Ship Mode vs Profit')\n",
        "# Column (Segment vs Profit)\n",
        "plt.subplot(222)\n",
        "sns.barplot(x = store['Segment'], y = store['Profit'], palette = \"nipy_spectral\")\n",
        "plt.title('Segment vs Profit')\n",
        "# Column (Region vs Profit)\n",
        "plt.subplot(223)\n",
        "sns.barplot(x = store['Region'], y = store['Profit'], palette = \"nipy_spectral\")\n",
        "plt.title('Region vs Profit')\n",
        "# Column (Category vs Profit)\n",
        "plt.subplot(224)\n",
        "sns.barplot(x = store['Category'], y = store['Profit'], palette = \"nipy_spectral\")\n",
        "plt.title('Category vs Profit')"
      ]
    },
    {
      "cell_type": "markdown",
      "id": "3ab2c144",
      "metadata": {
        "papermill": {
          "duration": 0.02421,
          "end_time": "2022-10-15T12:35:22.532907",
          "exception": false,
          "start_time": "2022-10-15T12:35:22.508697",
          "status": "completed"
        },
        "tags": [],
        "id": "3ab2c144"
      },
      "source": [
        "**Insights from above plots**\n",
        "* First Class shipping mode has marginly high profit than other shipping modes.\n",
        "* Customers of Home Office types generate more profit.\n",
        "* Profit is more in western region.\n",
        "* Technology product category has high profit."
      ]
    },
    {
      "cell_type": "code",
      "execution_count": null,
      "id": "bbef3a3f",
      "metadata": {
        "execution": {
          "iopub.execute_input": "2022-10-15T12:35:22.582176Z",
          "iopub.status.busy": "2022-10-15T12:35:22.581473Z",
          "iopub.status.idle": "2022-10-15T12:35:23.393954Z",
          "shell.execute_reply": "2022-10-15T12:35:23.392833Z"
        },
        "papermill": {
          "duration": 0.840045,
          "end_time": "2022-10-15T12:35:23.396318",
          "exception": false,
          "start_time": "2022-10-15T12:35:22.556273",
          "status": "completed"
        },
        "tags": [],
        "colab": {
          "base_uri": "https://localhost:8080/"
        },
        "id": "bbef3a3f",
        "outputId": "88134bef-41a4-4fdd-8006-8e7b09d80a70"
      },
      "outputs": [
        {
          "output_type": "execute_result",
          "data": {
            "text/plain": [
              "Text(0.5, 1.0, 'Sub-Category')"
            ]
          },
          "metadata": {},
          "execution_count": 17
        },
        {
          "output_type": "display_data",
          "data": {
            "text/plain": [
              "<Figure size 1440x432 with 1 Axes>"
            ],
            "image/png": "[encoded data removed]"
          },
          "metadata": {
            "needs_background": "light"
          }
        }
      ],
      "source": [
        "# Column (Sub-Category vs Profit)\n",
        "plt.figure(figsize=(20,6))\n",
        "sns.barplot(x = store['Sub-Category'], y = store['Profit'], palette = \"nipy_spectral\")\n",
        "plt.title('Sub-Category')"
      ]
    },
    {
      "cell_type": "markdown",
      "id": "c206d135",
      "metadata": {
        "papermill": {
          "duration": 0.026959,
          "end_time": "2022-10-15T12:35:23.448157",
          "exception": false,
          "start_time": "2022-10-15T12:35:23.421198",
          "status": "completed"
        },
        "tags": [],
        "id": "c206d135"
      },
      "source": [
        "#### **Membandingkan Target Column dan Numerical Column**"
      ]
    },
    {
      "cell_type": "code",
      "execution_count": null,
      "id": "ab36e5b6",
      "metadata": {
        "execution": {
          "iopub.execute_input": "2022-10-15T12:35:23.500125Z",
          "iopub.status.busy": "2022-10-15T12:35:23.499706Z",
          "iopub.status.idle": "2022-10-15T12:35:24.097145Z",
          "shell.execute_reply": "2022-10-15T12:35:24.095836Z"
        },
        "papermill": {
          "duration": 0.625837,
          "end_time": "2022-10-15T12:35:24.099908",
          "exception": false,
          "start_time": "2022-10-15T12:35:23.474071",
          "status": "completed"
        },
        "tags": [],
        "colab": {
          "base_uri": "https://localhost:8080/"
        },
        "id": "ab36e5b6",
        "outputId": "a9755ca5-8d42-4c18-8a23-21b5a6b15ca1"
      },
      "outputs": [
        {
          "output_type": "execute_result",
          "data": {
            "text/plain": [
              "Text(0, 0.5, 'Profit')"
            ]
          },
          "metadata": {},
          "execution_count": 18
        },
        {
          "output_type": "display_data",
          "data": {
            "text/plain": [
              "<Figure size 432x288 with 0 Axes>"
            ]
          },
          "metadata": {}
        },
        {
          "output_type": "display_data",
          "data": {
            "text/plain": [
              "<Figure size 1440x432 with 3 Axes>"
            ],
            "image/png": "[encoded data removed]"
          },
          "metadata": {
            "needs_background": "light"
          }
        }
      ],
      "source": [
        "plt.figure(1)\n",
        "plt.figure(figsize = (20, 6))\n",
        "# Column (Sales vs Profit)\n",
        "plt.subplot(221)\n",
        "plt.ticklabel_format(style = 'plain')\n",
        "plt.scatter(store['Sales'], store['Profit'])\n",
        "plt.xlabel('Sales')\n",
        "plt.ylabel('Profit')\n",
        "# Column (Quantity vs Profit)\n",
        "plt.subplot(222)\n",
        "plt.ticklabel_format(style = 'plain')\n",
        "plt.scatter(store['Quantity'], store['Profit'])\n",
        "plt.xlabel('Quantity')\n",
        "plt.ylabel('Profit')\n",
        "# Column (Discount vs Profit)\n",
        "plt.subplot(223)\n",
        "plt.ticklabel_format(style = 'plain')\n",
        "plt.scatter(store['Discount'], store['Profit'])\n",
        "plt.xlabel('Discount')\n",
        "plt.ylabel('Profit')"
      ]
    },
    {
      "cell_type": "markdown",
      "id": "2ab7a850",
      "metadata": {
        "papermill": {
          "duration": 0.024183,
          "end_time": "2022-10-15T12:35:24.149073",
          "exception": false,
          "start_time": "2022-10-15T12:35:24.124890",
          "status": "completed"
        },
        "tags": [],
        "id": "2ab7a850"
      },
      "source": [
        "### Menyikirkan Outliner dengan menggunakan boxplot"
      ]
    },
    {
      "cell_type": "code",
      "execution_count": null,
      "id": "f7dc242d",
      "metadata": {
        "execution": {
          "iopub.execute_input": "2022-10-15T12:35:24.199859Z",
          "iopub.status.busy": "2022-10-15T12:35:24.199459Z",
          "iopub.status.idle": "2022-10-15T12:35:24.212833Z",
          "shell.execute_reply": "2022-10-15T12:35:24.211785Z"
        },
        "papermill": {
          "duration": 0.041573,
          "end_time": "2022-10-15T12:35:24.214985",
          "exception": false,
          "start_time": "2022-10-15T12:35:24.173412",
          "status": "completed"
        },
        "tags": [],
        "colab": {
          "base_uri": "https://localhost:8080/",
          "height": 206
        },
        "id": "f7dc242d",
        "outputId": "942e7258-0315-404e-a832-4952cf081a3b"
      },
      "outputs": [
        {
          "output_type": "execute_result",
          "data": {
            "text/plain": [
              "      Sales  Quantity  Discount    Profit\n",
              "0  261.9600         2      0.00   41.9136\n",
              "1  731.9400         3      0.00  219.5820\n",
              "2   14.6200         2      0.00    6.8714\n",
              "3  957.5775         5      0.45 -383.0310\n",
              "4   22.3680         2      0.20    2.5164"
            ],
            "text/html": [
              "\n",
              "  <div id=\"df-342f9302-f5fc-44a4-be66-8fc8d2f6ef25\">\n",
              "    <div class=\"colab-df-container\">\n",
              "      <div>\n",
              "<style scoped>\n",
              "    .dataframe tbody tr th:only-of-type {\n",
              "        vertical-align: middle;\n",
              "    }\n",
              "\n",
              "    .dataframe tbody tr th {\n",
              "        vertical-align: top;\n",
              "    }\n",
              "\n",
              "    .dataframe thead th {\n",
              "        text-align: right;\n",
              "    }\n",
              "</style>\n",
              "<table border=\"1\" class=\"dataframe\">\n",
              "  <thead>\n",
              "    <tr style=\"text-align: right;\">\n",
              "      <th></th>\n",
              "      <th>Sales</th>\n",
              "      <th>Quantity</th>\n",
              "      <th>Discount</th>\n",
              "      <th>Profit</th>\n",
              "    </tr>\n",
              "  </thead>\n",
              "  <tbody>\n",
              "    <tr>\n",
              "      <th>0</th>\n",
              "      <td>261.9600</td>\n",
              "      <td>2</td>\n",
              "      <td>0.00</td>\n",
              "      <td>41.9136</td>\n",
              "    </tr>\n",
              "    <tr>\n",
              "      <th>1</th>\n",
              "      <td>731.9400</td>\n",
              "      <td>3</td>\n",
              "      <td>0.00</td>\n",
              "      <td>219.5820</td>\n",
              "    </tr>\n",
              "    <tr>\n",
              "      <th>2</th>\n",
              "      <td>14.6200</td>\n",
              "      <td>2</td>\n",
              "      <td>0.00</td>\n",
              "      <td>6.8714</td>\n",
              "    </tr>\n",
              "    <tr>\n",
              "      <th>3</th>\n",
              "      <td>957.5775</td>\n",
              "      <td>5</td>\n",
              "      <td>0.45</td>\n",
              "      <td>-383.0310</td>\n",
              "    </tr>\n",
              "    <tr>\n",
              "      <th>4</th>\n",
              "      <td>22.3680</td>\n",
              "      <td>2</td>\n",
              "      <td>0.20</td>\n",
              "      <td>2.5164</td>\n",
              "    </tr>\n",
              "  </tbody>\n",
              "</table>\n",
              "</div>\n",
              "      <button class=\"colab-df-convert\" onclick=\"convertToInteractive('df-342f9302-f5fc-44a4-be66-8fc8d2f6ef25')\"\n",
              "              title=\"Convert this dataframe to an interactive table.\"\n",
              "              style=\"display:none;\">\n",
              "        \n",
              "  <svg xmlns=\"http://www.w3.org/2000/svg\" height=\"24px\"viewBox=\"0 0 24 24\"\n",
              "       width=\"24px\">\n",
              "    <path d=\"M0 0h24v24H0V0z\" fill=\"none\"/>\n",
              "    <path d=\"M18.56 5.44l.94 2.06.94-2.06 2.06-.94-2.06-.94-.94-2.06-.94 2.06-2.06.94zm-11 1L8.5 8.5l.94-2.06 2.06-.94-2.06-.94L8.5 2.5l-.94 2.06-2.06.94zm10 10l.94 2.06.94-2.06 2.06-.94-2.06-.94-.94-2.06-.94 2.06-2.06.94z\"/><path d=\"M17.41 7.96l-1.37-1.37c-.4-.4-.92-.59-1.43-.59-.52 0-1.04.2-1.43.59L10.3 9.45l-7.72 7.72c-.78.78-.78 2.05 0 2.83L4 21.41c.39.39.9.59 1.41.59.51 0 1.02-.2 1.41-.59l7.78-7.78 2.81-2.81c.8-.78.8-2.07 0-2.86zM5.41 20L4 18.59l7.72-7.72 1.47 1.35L5.41 20z\"/>\n",
              "  </svg>\n",
              "      </button>\n",
              "      \n",
              "  <style>\n",
              "    .colab-df-container {\n",
              "      display:flex;\n",
              "      flex-wrap:wrap;\n",
              "      gap: 12px;\n",
              "    }\n",
              "\n",
              "    .colab-df-convert {\n",
              "      background-color: #E8F0FE;\n",
              "      border: none;\n",
              "      border-radius: 50%;\n",
              "      cursor: pointer;\n",
              "      display: none;\n",
              "      fill: #1967D2;\n",
              "      height: 32px;\n",
              "      padding: 0 0 0 0;\n",
              "      width: 32px;\n",
              "    }\n",
              "\n",
              "    .colab-df-convert:hover {\n",
              "      background-color: #E2EBFA;\n",
              "      box-shadow: 0px 1px 2px rgba(60, 64, 67, 0.3), 0px 1px 3px 1px rgba(60, 64, 67, 0.15);\n",
              "      fill: #174EA6;\n",
              "    }\n",
              "\n",
              "    [theme=dark] .colab-df-convert {\n",
              "      background-color: #3B4455;\n",
              "      fill: #D2E3FC;\n",
              "    }\n",
              "\n",
              "    [theme=dark] .colab-df-convert:hover {\n",
              "      background-color: #434B5C;\n",
              "      box-shadow: 0px 1px 3px 1px rgba(0, 0, 0, 0.15);\n",
              "      filter: drop-shadow(0px 1px 2px rgba(0, 0, 0, 0.3));\n",
              "      fill: #FFFFFF;\n",
              "    }\n",
              "  </style>\n",
              "\n",
              "      <script>\n",
              "        const buttonEl =\n",
              "          document.querySelector('#df-342f9302-f5fc-44a4-be66-8fc8d2f6ef25 button.colab-df-convert');\n",
              "        buttonEl.style.display =\n",
              "          google.colab.kernel.accessAllowed ? 'block' : 'none';\n",
              "\n",
              "        async function convertToInteractive(key) {\n",
              "          const element = document.querySelector('#df-342f9302-f5fc-44a4-be66-8fc8d2f6ef25');\n",
              "          const dataTable =\n",
              "            await google.colab.kernel.invokeFunction('convertToInteractive',\n",
              "                                                     [key], {});\n",
              "          if (!dataTable) return;\n",
              "\n",
              "          const docLinkHtml = 'Like what you see? Visit the ' +\n",
              "            '<a target=\"_blank\" href=https://colab.research.google.com/notebooks/data_table.ipynb>data table notebook</a>'\n",
              "            + ' to learn more about interactive tables.';\n",
              "          element.innerHTML = '';\n",
              "          dataTable['output_type'] = 'display_data';\n",
              "          await google.colab.output.renderOutput(dataTable, element);\n",
              "          const docLink = document.createElement('div');\n",
              "          docLink.innerHTML = docLinkHtml;\n",
              "          element.appendChild(docLink);\n",
              "        }\n",
              "      </script>\n",
              "    </div>\n",
              "  </div>\n",
              "  "
            ]
          },
          "metadata": {},
          "execution_count": 19
        }
      ],
      "source": [
        "ot_store = store[['Sales','Quantity','Discount','Profit']]\n",
        "ot_store.head()"
      ]
    },
    {
      "cell_type": "code",
      "execution_count": null,
      "id": "902a9c87",
      "metadata": {
        "execution": {
          "iopub.execute_input": "2022-10-15T12:35:24.266032Z",
          "iopub.status.busy": "2022-10-15T12:35:24.265026Z",
          "iopub.status.idle": "2022-10-15T12:35:24.294541Z",
          "shell.execute_reply": "2022-10-15T12:35:24.293417Z"
        },
        "papermill": {
          "duration": 0.057277,
          "end_time": "2022-10-15T12:35:24.296951",
          "exception": false,
          "start_time": "2022-10-15T12:35:24.239674",
          "status": "completed"
        },
        "tags": [],
        "id": "902a9c87"
      },
      "outputs": [],
      "source": [
        "fitted_data1, fitted_lambda = stats.boxcox(ot_store['Sales'])\n",
        "store['Sales']=fitted_data1\n",
        "fitted_data2, fitted_lambda = stats.boxcox(ot_store['Quantity'])\n",
        "store['Quantity']=fitted_data2"
      ]
    },
    {
      "cell_type": "code",
      "execution_count": null,
      "id": "a2631181",
      "metadata": {
        "execution": {
          "iopub.execute_input": "2022-10-15T12:35:24.346590Z",
          "iopub.status.busy": "2022-10-15T12:35:24.346179Z",
          "iopub.status.idle": "2022-10-15T12:35:24.650816Z",
          "shell.execute_reply": "2022-10-15T12:35:24.649780Z"
        },
        "papermill": {
          "duration": 0.332174,
          "end_time": "2022-10-15T12:35:24.653391",
          "exception": false,
          "start_time": "2022-10-15T12:35:24.321217",
          "status": "completed"
        },
        "tags": [],
        "colab": {
          "base_uri": "https://localhost:8080/",
          "height": 409
        },
        "id": "a2631181",
        "outputId": "375dbc6d-64fa-46f5-f599-3e8e22f3bdc0"
      },
      "outputs": [
        {
          "output_type": "execute_result",
          "data": {
            "text/plain": [
              "<matplotlib.axes._subplots.AxesSubplot at 0x7f893a4acf70>"
            ]
          },
          "metadata": {},
          "execution_count": 21
        },
        {
          "output_type": "display_data",
          "data": {
            "text/plain": [
              "<Figure size 432x288 with 0 Axes>"
            ]
          },
          "metadata": {}
        },
        {
          "output_type": "display_data",
          "data": {
            "text/plain": [
              "<Figure size 1440x432 with 2 Axes>"
            ],
            "image/png": "[encoded data removed]"
          },
          "metadata": {
            "needs_background": "light"
          }
        }
      ],
      "source": [
        "plt.figure(1)\n",
        "plt.figure(figsize = (20, 6))\n",
        "plt.subplot(121)\n",
        "store['Sales'].plot(kind='box')\n",
        "plt.subplot(122)\n",
        "store['Quantity'].plot(kind='box')"
      ]
    },
    {
      "cell_type": "markdown",
      "id": "2420775d",
      "metadata": {
        "papermill": {
          "duration": 0.025841,
          "end_time": "2022-10-15T12:35:24.756032",
          "exception": false,
          "start_time": "2022-10-15T12:35:24.730191",
          "status": "completed"
        },
        "tags": [],
        "id": "2420775d"
      },
      "source": [
        "## **Model Klasifikasi**"
      ]
    },
    {
      "cell_type": "markdown",
      "id": "039f1564",
      "metadata": {
        "papermill": {
          "duration": 0.024538,
          "end_time": "2022-10-15T12:35:24.807708",
          "exception": false,
          "start_time": "2022-10-15T12:35:24.783170",
          "status": "completed"
        },
        "tags": [],
        "id": "039f1564"
      },
      "source": [
        "#### **Kolom target yaitu Output_Profit yang dijadikan sebagai model klasifikasi**"
      ]
    },
    {
      "cell_type": "code",
      "execution_count": null,
      "id": "a88d61aa",
      "metadata": {
        "execution": {
          "iopub.execute_input": "2022-10-15T12:35:24.859081Z",
          "iopub.status.busy": "2022-10-15T12:35:24.858614Z",
          "iopub.status.idle": "2022-10-15T12:35:24.869592Z",
          "shell.execute_reply": "2022-10-15T12:35:24.868776Z"
        },
        "papermill": {
          "duration": 0.03927,
          "end_time": "2022-10-15T12:35:24.871547",
          "exception": false,
          "start_time": "2022-10-15T12:35:24.832277",
          "status": "completed"
        },
        "tags": [],
        "colab": {
          "base_uri": "https://localhost:8080/"
        },
        "id": "a88d61aa",
        "outputId": "892f8dbb-d6a0-4f3a-f01b-79734dd7c406"
      },
      "outputs": [
        {
          "output_type": "execute_result",
          "data": {
            "text/plain": [
              "{'Gain': 8058, 'Loss': 1871, 'Nil': 65}"
            ]
          },
          "metadata": {},
          "execution_count": 22
        }
      ],
      "source": [
        "#Menampilkan jumlah pembagian kolom profit\n",
        "unique, counts = np.unique(p, return_counts=True)\n",
        "dict(zip(unique, counts))"
      ]
    },
    {
      "cell_type": "code",
      "execution_count": null,
      "id": "b396202a",
      "metadata": {
        "execution": {
          "iopub.execute_input": "2022-10-15T12:35:24.924016Z",
          "iopub.status.busy": "2022-10-15T12:35:24.923376Z",
          "iopub.status.idle": "2022-10-15T12:35:24.928095Z",
          "shell.execute_reply": "2022-10-15T12:35:24.927404Z"
        },
        "papermill": {
          "duration": 0.03381,
          "end_time": "2022-10-15T12:35:24.930139",
          "exception": false,
          "start_time": "2022-10-15T12:35:24.896329",
          "status": "completed"
        },
        "tags": [],
        "id": "b396202a"
      },
      "outputs": [],
      "source": [
        "store['Output_Profit']=p"
      ]
    },
    {
      "cell_type": "code",
      "execution_count": null,
      "id": "ab2e0f6c",
      "metadata": {
        "execution": {
          "iopub.execute_input": "2022-10-15T12:35:24.981174Z",
          "iopub.status.busy": "2022-10-15T12:35:24.980784Z",
          "iopub.status.idle": "2022-10-15T12:35:24.990732Z",
          "shell.execute_reply": "2022-10-15T12:35:24.989957Z"
        },
        "papermill": {
          "duration": 0.038293,
          "end_time": "2022-10-15T12:35:24.993004",
          "exception": false,
          "start_time": "2022-10-15T12:35:24.954711",
          "status": "completed"
        },
        "tags": [],
        "id": "ab2e0f6c"
      },
      "outputs": [],
      "source": [
        "store = store.drop(['Profit'],axis=1)"
      ]
    },
    {
      "cell_type": "code",
      "execution_count": null,
      "id": "08acf889",
      "metadata": {
        "execution": {
          "iopub.execute_input": "2022-10-15T12:35:25.044798Z",
          "iopub.status.busy": "2022-10-15T12:35:25.044020Z",
          "iopub.status.idle": "2022-10-15T12:35:25.066608Z",
          "shell.execute_reply": "2022-10-15T12:35:25.065442Z"
        },
        "papermill": {
          "duration": 0.05107,
          "end_time": "2022-10-15T12:35:25.068938",
          "exception": false,
          "start_time": "2022-10-15T12:35:25.017868",
          "status": "completed"
        },
        "tags": [],
        "colab": {
          "base_uri": "https://localhost:8080/"
        },
        "id": "08acf889",
        "outputId": "f675460f-457b-42a6-cee7-c42b121cf4c2"
      },
      "outputs": [
        {
          "output_type": "execute_result",
          "data": {
            "text/plain": [
              "   Row ID        Order ID  Order Date   Ship Date       Ship Mode Customer ID  \\\n",
              "0       1  CA-2016-152156   11/8/2016  11/11/2016    Second Class    CG-12520   \n",
              "1       2  CA-2016-152156   11/8/2016  11/11/2016    Second Class    CG-12520   \n",
              "2       3  CA-2016-138688   6/12/2016   6/16/2016    Second Class    DV-13045   \n",
              "3       4  US-2015-108966  10/11/2015  10/18/2015  Standard Class    SO-20335   \n",
              "4       5  US-2015-108966  10/11/2015  10/18/2015  Standard Class    SO-20335   \n",
              "\n",
              "     Customer Name    Segment        Country             City  ...  \\\n",
              "0      Claire Gute   Consumer  United States        Henderson  ...   \n",
              "1      Claire Gute   Consumer  United States        Henderson  ...   \n",
              "2  Darrin Van Huff  Corporate  United States      Los Angeles  ...   \n",
              "3   Sean O'Donnell   Consumer  United States  Fort Lauderdale  ...   \n",
              "4   Sean O'Donnell   Consumer  United States  Fort Lauderdale  ...   \n",
              "\n",
              "  Postal Code  Region       Product ID         Category Sub-Category  \\\n",
              "0       42420   South  FUR-BO-10001798        Furniture    Bookcases   \n",
              "1       42420   South  FUR-CH-10000454        Furniture       Chairs   \n",
              "2       90036    West  OFF-LA-10000240  Office Supplies       Labels   \n",
              "3       33311   South  FUR-TA-10000577        Furniture       Tables   \n",
              "4       33311   South  OFF-ST-10000760  Office Supplies      Storage   \n",
              "\n",
              "                                        Product Name     Sales  Quantity  \\\n",
              "0                  Bush Somerset Collection Bookcase  4.866793  0.717567   \n",
              "1  Hon Deluxe Fabric Upholstered Stacking Chairs,...  5.627292  1.160800   \n",
              "2  Self-Adhesive Address Labels for Typewriters b...  2.511953  0.717567   \n",
              "3      Bretford CR4500 Series Slim Rectangular Table  5.819876  1.745231   \n",
              "4                     Eldon Fold 'N Roll Cart System  2.880434  0.717567   \n",
              "\n",
              "   Discount  Output_Profit  \n",
              "0      0.00           Gain  \n",
              "1      0.00           Gain  \n",
              "2      0.00           Gain  \n",
              "3      0.45           Loss  \n",
              "4      0.20           Gain  \n",
              "\n",
              "[5 rows x 21 columns]"
            ],
            "text/html": [
              "\n",
              "  <div id=\"df-73a26694-17d2-4523-9263-171bbad3581b\">\n",
              "    <div class=\"colab-df-container\">\n",
              "      <div>\n",
              "<style scoped>\n",
              "    .dataframe tbody tr th:only-of-type {\n",
              "        vertical-align: middle;\n",
              "    }\n",
              "\n",
              "    .dataframe tbody tr th {\n",
              "        vertical-align: top;\n",
              "    }\n",
              "\n",
              "    .dataframe thead th {\n",
              "        text-align: right;\n",
              "    }\n",
              "</style>\n",
              "<table border=\"1\" class=\"dataframe\">\n",
              "  <thead>\n",
              "    <tr style=\"text-align: right;\">\n",
              "      <th></th>\n",
              "      <th>Row ID</th>\n",
              "      <th>Order ID</th>\n",
              "      <th>Order Date</th>\n",
              "      <th>Ship Date</th>\n",
              "      <th>Ship Mode</th>\n",
              "      <th>Customer ID</th>\n",
              "      <th>Customer Name</th>\n",
              "      <th>Segment</th>\n",
              "      <th>Country</th>\n",
              "      <th>City</th>\n",
              "      <th>...</th>\n",
              "      <th>Postal Code</th>\n",
              "      <th>Region</th>\n",
              "      <th>Product ID</th>\n",
              "      <th>Category</th>\n",
              "      <th>Sub-Category</th>\n",
              "      <th>Product Name</th>\n",
              "      <th>Sales</th>\n",
              "      <th>Quantity</th>\n",
              "      <th>Discount</th>\n",
              "      <th>Output_Profit</th>\n",
              "    </tr>\n",
              "  </thead>\n",
              "  <tbody>\n",
              "    <tr>\n",
              "      <th>0</th>\n",
              "      <td>1</td>\n",
              "      <td>CA-2016-152156</td>\n",
              "      <td>11/8/2016</td>\n",
              "      <td>11/11/2016</td>\n",
              "      <td>Second Class</td>\n",
              "      <td>CG-12520</td>\n",
              "      <td>Claire Gute</td>\n",
              "      <td>Consumer</td>\n",
              "      <td>United States</td>\n",
              "      <td>Henderson</td>\n",
              "      <td>...</td>\n",
              "      <td>42420</td>\n",
              "      <td>South</td>\n",
              "      <td>FUR-BO-10001798</td>\n",
              "      <td>Furniture</td>\n",
              "      <td>Bookcases</td>\n",
              "      <td>Bush Somerset Collection Bookcase</td>\n",
              "      <td>4.866793</td>\n",
              "      <td>0.717567</td>\n",
              "      <td>0.00</td>\n",
              "      <td>Gain</td>\n",
              "    </tr>\n",
              "    <tr>\n",
              "      <th>1</th>\n",
              "      <td>2</td>\n",
              "      <td>CA-2016-152156</td>\n",
              "      <td>11/8/2016</td>\n",
              "      <td>11/11/2016</td>\n",
              "      <td>Second Class</td>\n",
              "      <td>CG-12520</td>\n",
              "      <td>Claire Gute</td>\n",
              "      <td>Consumer</td>\n",
              "      <td>United States</td>\n",
              "      <td>Henderson</td>\n",
              "      <td>...</td>\n",
              "      <td>42420</td>\n",
              "      <td>South</td>\n",
              "      <td>FUR-CH-10000454</td>\n",
              "      <td>Furniture</td>\n",
              "      <td>Chairs</td>\n",
              "      <td>Hon Deluxe Fabric Upholstered Stacking Chairs,...</td>\n",
              "      <td>5.627292</td>\n",
              "      <td>1.160800</td>\n",
              "      <td>0.00</td>\n",
              "      <td>Gain</td>\n",
              "    </tr>\n",
              "    <tr>\n",
              "      <th>2</th>\n",
              "      <td>3</td>\n",
              "      <td>CA-2016-138688</td>\n",
              "      <td>6/12/2016</td>\n",
              "      <td>6/16/2016</td>\n",
              "      <td>Second Class</td>\n",
              "      <td>DV-13045</td>\n",
              "      <td>Darrin Van Huff</td>\n",
              "      <td>Corporate</td>\n",
              "      <td>United States</td>\n",
              "      <td>Los Angeles</td>\n",
              "      <td>...</td>\n",
              "      <td>90036</td>\n",
              "      <td>West</td>\n",
              "      <td>OFF-LA-10000240</td>\n",
              "      <td>Office Supplies</td>\n",
              "      <td>Labels</td>\n",
              "      <td>Self-Adhesive Address Labels for Typewriters b...</td>\n",
              "      <td>2.511953</td>\n",
              "      <td>0.717567</td>\n",
              "      <td>0.00</td>\n",
              "      <td>Gain</td>\n",
              "    </tr>\n",
              "    <tr>\n",
              "      <th>3</th>\n",
              "      <td>4</td>\n",
              "      <td>US-2015-108966</td>\n",
              "      <td>10/11/2015</td>\n",
              "      <td>10/18/2015</td>\n",
              "      <td>Standard Class</td>\n",
              "      <td>SO-20335</td>\n",
              "      <td>Sean O'Donnell</td>\n",
              "      <td>Consumer</td>\n",
              "      <td>United States</td>\n",
              "      <td>Fort Lauderdale</td>\n",
              "      <td>...</td>\n",
              "      <td>33311</td>\n",
              "      <td>South</td>\n",
              "      <td>FUR-TA-10000577</td>\n",
              "      <td>Furniture</td>\n",
              "      <td>Tables</td>\n",
              "      <td>Bretford CR4500 Series Slim Rectangular Table</td>\n",
              "      <td>5.819876</td>\n",
              "      <td>1.745231</td>\n",
              "      <td>0.45</td>\n",
              "      <td>Loss</td>\n",
              "    </tr>\n",
              "    <tr>\n",
              "      <th>4</th>\n",
              "      <td>5</td>\n",
              "      <td>US-2015-108966</td>\n",
              "      <td>10/11/2015</td>\n",
              "      <td>10/18/2015</td>\n",
              "      <td>Standard Class</td>\n",
              "      <td>SO-20335</td>\n",
              "      <td>Sean O'Donnell</td>\n",
              "      <td>Consumer</td>\n",
              "      <td>United States</td>\n",
              "      <td>Fort Lauderdale</td>\n",
              "      <td>...</td>\n",
              "      <td>33311</td>\n",
              "      <td>South</td>\n",
              "      <td>OFF-ST-10000760</td>\n",
              "      <td>Office Supplies</td>\n",
              "      <td>Storage</td>\n",
              "      <td>Eldon Fold 'N Roll Cart System</td>\n",
              "      <td>2.880434</td>\n",
              "      <td>0.717567</td>\n",
              "      <td>0.20</td>\n",
              "      <td>Gain</td>\n",
              "    </tr>\n",
              "  </tbody>\n",
              "</table>\n",
              "<p>5 rows × 21 columns</p>\n",
              "</div>\n",
              "      <button class=\"colab-df-convert\" onclick=\"convertToInteractive('df-73a26694-17d2-4523-9263-171bbad3581b')\"\n",
              "              title=\"Convert this dataframe to an interactive table.\"\n",
              "              style=\"display:none;\">\n",
              "        \n",
              "  <svg xmlns=\"http://www.w3.org/2000/svg\" height=\"24px\"viewBox=\"0 0 24 24\"\n",
              "       width=\"24px\">\n",
              "    <path d=\"M0 0h24v24H0V0z\" fill=\"none\"/>\n",
              "    <path d=\"M18.56 5.44l.94 2.06.94-2.06 2.06-.94-2.06-.94-.94-2.06-.94 2.06-2.06.94zm-11 1L8.5 8.5l.94-2.06 2.06-.94-2.06-.94L8.5 2.5l-.94 2.06-2.06.94zm10 10l.94 2.06.94-2.06 2.06-.94-2.06-.94-.94-2.06-.94 2.06-2.06.94z\"/><path d=\"M17.41 7.96l-1.37-1.37c-.4-.4-.92-.59-1.43-.59-.52 0-1.04.2-1.43.59L10.3 9.45l-7.72 7.72c-.78.78-.78 2.05 0 2.83L4 21.41c.39.39.9.59 1.41.59.51 0 1.02-.2 1.41-.59l7.78-7.78 2.81-2.81c.8-.78.8-2.07 0-2.86zM5.41 20L4 18.59l7.72-7.72 1.47 1.35L5.41 20z\"/>\n",
              "  </svg>\n",
              "      </button>\n",
              "      \n",
              "  <style>\n",
              "    .colab-df-container {\n",
              "      display:flex;\n",
              "      flex-wrap:wrap;\n",
              "      gap: 12px;\n",
              "    }\n",
              "\n",
              "    .colab-df-convert {\n",
              "      background-color: #E8F0FE;\n",
              "      border: none;\n",
              "      border-radius: 50%;\n",
              "      cursor: pointer;\n",
              "      display: none;\n",
              "      fill: #1967D2;\n",
              "      height: 32px;\n",
              "      padding: 0 0 0 0;\n",
              "      width: 32px;\n",
              "    }\n",
              "\n",
              "    .colab-df-convert:hover {\n",
              "      background-color: #E2EBFA;\n",
              "      box-shadow: 0px 1px 2px rgba(60, 64, 67, 0.3), 0px 1px 3px 1px rgba(60, 64, 67, 0.15);\n",
              "      fill: #174EA6;\n",
              "    }\n",
              "\n",
              "    [theme=dark] .colab-df-convert {\n",
              "      background-color: #3B4455;\n",
              "      fill: #D2E3FC;\n",
              "    }\n",
              "\n",
              "    [theme=dark] .colab-df-convert:hover {\n",
              "      background-color: #434B5C;\n",
              "      box-shadow: 0px 1px 3px 1px rgba(0, 0, 0, 0.15);\n",
              "      filter: drop-shadow(0px 1px 2px rgba(0, 0, 0, 0.3));\n",
              "      fill: #FFFFFF;\n",
              "    }\n",
              "  </style>\n",
              "\n",
              "      <script>\n",
              "        const buttonEl =\n",
              "          document.querySelector('#df-73a26694-17d2-4523-9263-171bbad3581b button.colab-df-convert');\n",
              "        buttonEl.style.display =\n",
              "          google.colab.kernel.accessAllowed ? 'block' : 'none';\n",
              "\n",
              "        async function convertToInteractive(key) {\n",
              "          const element = document.querySelector('#df-73a26694-17d2-4523-9263-171bbad3581b');\n",
              "          const dataTable =\n",
              "            await google.colab.kernel.invokeFunction('convertToInteractive',\n",
              "                                                     [key], {});\n",
              "          if (!dataTable) return;\n",
              "\n",
              "          const docLinkHtml = 'Like what you see? Visit the ' +\n",
              "            '<a target=\"_blank\" href=https://colab.research.google.com/notebooks/data_table.ipynb>data table notebook</a>'\n",
              "            + ' to learn more about interactive tables.';\n",
              "          element.innerHTML = '';\n",
              "          dataTable['output_type'] = 'display_data';\n",
              "          await google.colab.output.renderOutput(dataTable, element);\n",
              "          const docLink = document.createElement('div');\n",
              "          docLink.innerHTML = docLinkHtml;\n",
              "          element.appendChild(docLink);\n",
              "        }\n",
              "      </script>\n",
              "    </div>\n",
              "  </div>\n",
              "  "
            ]
          },
          "metadata": {},
          "execution_count": 25
        }
      ],
      "source": [
        "store.head()"
      ]
    },
    {
      "cell_type": "code",
      "execution_count": null,
      "id": "4c80bebb",
      "metadata": {
        "execution": {
          "iopub.execute_input": "2022-10-15T12:35:25.123685Z",
          "iopub.status.busy": "2022-10-15T12:35:25.122819Z",
          "iopub.status.idle": "2022-10-15T12:35:25.127835Z",
          "shell.execute_reply": "2022-10-15T12:35:25.126944Z"
        },
        "papermill": {
          "duration": 0.035345,
          "end_time": "2022-10-15T12:35:25.129911",
          "exception": false,
          "start_time": "2022-10-15T12:35:25.094566",
          "status": "completed"
        },
        "tags": [],
        "id": "4c80bebb"
      },
      "outputs": [],
      "source": [
        "x = store"
      ]
    },
    {
      "cell_type": "code",
      "execution_count": null,
      "id": "6a79d916",
      "metadata": {
        "execution": {
          "iopub.execute_input": "2022-10-15T12:35:25.181904Z",
          "iopub.status.busy": "2022-10-15T12:35:25.181148Z",
          "iopub.status.idle": "2022-10-15T12:35:25.278624Z",
          "shell.execute_reply": "2022-10-15T12:35:25.277418Z"
        },
        "papermill": {
          "duration": 0.126075,
          "end_time": "2022-10-15T12:35:25.281261",
          "exception": false,
          "start_time": "2022-10-15T12:35:25.155186",
          "status": "completed"
        },
        "tags": [],
        "colab": {
          "base_uri": "https://localhost:8080/"
        },
        "id": "6a79d916",
        "outputId": "e430f113-fa1c-4e91-e222-443069540475"
      },
      "outputs": [
        {
          "output_type": "execute_result",
          "data": {
            "text/plain": [
              "   Row ID  Order ID  Order Date  Ship Date  Ship Mode  Customer ID  \\\n",
              "0       1      2500         304        219          2          143   \n",
              "1       2      2500         304        219          2          143   \n",
              "2       3      2296         835        906          2          237   \n",
              "3       4      4372          93        128          3          705   \n",
              "4       5      4372          93        128          3          705   \n",
              "\n",
              "   Customer Name  Segment  Country  City  ...  Postal Code  Region  \\\n",
              "0            166        0        0   194  ...        42420       2   \n",
              "1            166        0        0   194  ...        42420       2   \n",
              "2            201        1        0   266  ...        90036       3   \n",
              "3            687        0        0   153  ...        33311       2   \n",
              "4            687        0        0   153  ...        33311       2   \n",
              "\n",
              "   Product ID  Category  Sub-Category  Product Name     Sales  Quantity  \\\n",
              "0          12         0             4           386  4.866793  0.717567   \n",
              "1          55         0             5           839  5.627292  1.160800   \n",
              "2         946         1            10          1433  2.511953  0.717567   \n",
              "3         319         0            16           366  5.819876  1.745231   \n",
              "4        1316         1            14           573  2.880434  0.717567   \n",
              "\n",
              "   Discount  Output_Profit  \n",
              "0      0.00              0  \n",
              "1      0.00              0  \n",
              "2      0.00              0  \n",
              "3      0.45              1  \n",
              "4      0.20              0  \n",
              "\n",
              "[5 rows x 21 columns]"
            ],
            "text/html": [
              "\n",
              "  <div id=\"df-fc6ae494-8ee2-4b31-8578-a39984ae2cab\">\n",
              "    <div class=\"colab-df-container\">\n",
              "      <div>\n",
              "<style scoped>\n",
              "    .dataframe tbody tr th:only-of-type {\n",
              "        vertical-align: middle;\n",
              "    }\n",
              "\n",
              "    .dataframe tbody tr th {\n",
              "        vertical-align: top;\n",
              "    }\n",
              "\n",
              "    .dataframe thead th {\n",
              "        text-align: right;\n",
              "    }\n",
              "</style>\n",
              "<table border=\"1\" class=\"dataframe\">\n",
              "  <thead>\n",
              "    <tr style=\"text-align: right;\">\n",
              "      <th></th>\n",
              "      <th>Row ID</th>\n",
              "      <th>Order ID</th>\n",
              "      <th>Order Date</th>\n",
              "      <th>Ship Date</th>\n",
              "      <th>Ship Mode</th>\n",
              "      <th>Customer ID</th>\n",
              "      <th>Customer Name</th>\n",
              "      <th>Segment</th>\n",
              "      <th>Country</th>\n",
              "      <th>City</th>\n",
              "      <th>...</th>\n",
              "      <th>Postal Code</th>\n",
              "      <th>Region</th>\n",
              "      <th>Product ID</th>\n",
              "      <th>Category</th>\n",
              "      <th>Sub-Category</th>\n",
              "      <th>Product Name</th>\n",
              "      <th>Sales</th>\n",
              "      <th>Quantity</th>\n",
              "      <th>Discount</th>\n",
              "      <th>Output_Profit</th>\n",
              "    </tr>\n",
              "  </thead>\n",
              "  <tbody>\n",
              "    <tr>\n",
              "      <th>0</th>\n",
              "      <td>1</td>\n",
              "      <td>2500</td>\n",
              "      <td>304</td>\n",
              "      <td>219</td>\n",
              "      <td>2</td>\n",
              "      <td>143</td>\n",
              "      <td>166</td>\n",
              "      <td>0</td>\n",
              "      <td>0</td>\n",
              "      <td>194</td>\n",
              "      <td>...</td>\n",
              "      <td>42420</td>\n",
              "      <td>2</td>\n",
              "      <td>12</td>\n",
              "      <td>0</td>\n",
              "      <td>4</td>\n",
              "      <td>386</td>\n",
              "      <td>4.866793</td>\n",
              "      <td>0.717567</td>\n",
              "      <td>0.00</td>\n",
              "      <td>0</td>\n",
              "    </tr>\n",
              "    <tr>\n",
              "      <th>1</th>\n",
              "      <td>2</td>\n",
              "      <td>2500</td>\n",
              "      <td>304</td>\n",
              "      <td>219</td>\n",
              "      <td>2</td>\n",
              "      <td>143</td>\n",
              "      <td>166</td>\n",
              "      <td>0</td>\n",
              "      <td>0</td>\n",
              "      <td>194</td>\n",
              "      <td>...</td>\n",
              "      <td>42420</td>\n",
              "      <td>2</td>\n",
              "      <td>55</td>\n",
              "      <td>0</td>\n",
              "      <td>5</td>\n",
              "      <td>839</td>\n",
              "      <td>5.627292</td>\n",
              "      <td>1.160800</td>\n",
              "      <td>0.00</td>\n",
              "      <td>0</td>\n",
              "    </tr>\n",
              "    <tr>\n",
              "      <th>2</th>\n",
              "      <td>3</td>\n",
              "      <td>2296</td>\n",
              "      <td>835</td>\n",
              "      <td>906</td>\n",
              "      <td>2</td>\n",
              "      <td>237</td>\n",
              "      <td>201</td>\n",
              "      <td>1</td>\n",
              "      <td>0</td>\n",
              "      <td>266</td>\n",
              "      <td>...</td>\n",
              "      <td>90036</td>\n",
              "      <td>3</td>\n",
              "      <td>946</td>\n",
              "      <td>1</td>\n",
              "      <td>10</td>\n",
              "      <td>1433</td>\n",
              "      <td>2.511953</td>\n",
              "      <td>0.717567</td>\n",
              "      <td>0.00</td>\n",
              "      <td>0</td>\n",
              "    </tr>\n",
              "    <tr>\n",
              "      <th>3</th>\n",
              "      <td>4</td>\n",
              "      <td>4372</td>\n",
              "      <td>93</td>\n",
              "      <td>128</td>\n",
              "      <td>3</td>\n",
              "      <td>705</td>\n",
              "      <td>687</td>\n",
              "      <td>0</td>\n",
              "      <td>0</td>\n",
              "      <td>153</td>\n",
              "      <td>...</td>\n",
              "      <td>33311</td>\n",
              "      <td>2</td>\n",
              "      <td>319</td>\n",
              "      <td>0</td>\n",
              "      <td>16</td>\n",
              "      <td>366</td>\n",
              "      <td>5.819876</td>\n",
              "      <td>1.745231</td>\n",
              "      <td>0.45</td>\n",
              "      <td>1</td>\n",
              "    </tr>\n",
              "    <tr>\n",
              "      <th>4</th>\n",
              "      <td>5</td>\n",
              "      <td>4372</td>\n",
              "      <td>93</td>\n",
              "      <td>128</td>\n",
              "      <td>3</td>\n",
              "      <td>705</td>\n",
              "      <td>687</td>\n",
              "      <td>0</td>\n",
              "      <td>0</td>\n",
              "      <td>153</td>\n",
              "      <td>...</td>\n",
              "      <td>33311</td>\n",
              "      <td>2</td>\n",
              "      <td>1316</td>\n",
              "      <td>1</td>\n",
              "      <td>14</td>\n",
              "      <td>573</td>\n",
              "      <td>2.880434</td>\n",
              "      <td>0.717567</td>\n",
              "      <td>0.20</td>\n",
              "      <td>0</td>\n",
              "    </tr>\n",
              "  </tbody>\n",
              "</table>\n",
              "<p>5 rows × 21 columns</p>\n",
              "</div>\n",
              "      <button class=\"colab-df-convert\" onclick=\"convertToInteractive('df-fc6ae494-8ee2-4b31-8578-a39984ae2cab')\"\n",
              "              title=\"Convert this dataframe to an interactive table.\"\n",
              "              style=\"display:none;\">\n",
              "        \n",
              "  <svg xmlns=\"http://www.w3.org/2000/svg\" height=\"24px\"viewBox=\"0 0 24 24\"\n",
              "       width=\"24px\">\n",
              "    <path d=\"M0 0h24v24H0V0z\" fill=\"none\"/>\n",
              "    <path d=\"M18.56 5.44l.94 2.06.94-2.06 2.06-.94-2.06-.94-.94-2.06-.94 2.06-2.06.94zm-11 1L8.5 8.5l.94-2.06 2.06-.94-2.06-.94L8.5 2.5l-.94 2.06-2.06.94zm10 10l.94 2.06.94-2.06 2.06-.94-2.06-.94-.94-2.06-.94 2.06-2.06.94z\"/><path d=\"M17.41 7.96l-1.37-1.37c-.4-.4-.92-.59-1.43-.59-.52 0-1.04.2-1.43.59L10.3 9.45l-7.72 7.72c-.78.78-.78 2.05 0 2.83L4 21.41c.39.39.9.59 1.41.59.51 0 1.02-.2 1.41-.59l7.78-7.78 2.81-2.81c.8-.78.8-2.07 0-2.86zM5.41 20L4 18.59l7.72-7.72 1.47 1.35L5.41 20z\"/>\n",
              "  </svg>\n",
              "      </button>\n",
              "      \n",
              "  <style>\n",
              "    .colab-df-container {\n",
              "      display:flex;\n",
              "      flex-wrap:wrap;\n",
              "      gap: 12px;\n",
              "    }\n",
              "\n",
              "    .colab-df-convert {\n",
              "      background-color: #E8F0FE;\n",
              "      border: none;\n",
              "      border-radius: 50%;\n",
              "      cursor: pointer;\n",
              "      display: none;\n",
              "      fill: #1967D2;\n",
              "      height: 32px;\n",
              "      padding: 0 0 0 0;\n",
              "      width: 32px;\n",
              "    }\n",
              "\n",
              "    .colab-df-convert:hover {\n",
              "      background-color: #E2EBFA;\n",
              "      box-shadow: 0px 1px 2px rgba(60, 64, 67, 0.3), 0px 1px 3px 1px rgba(60, 64, 67, 0.15);\n",
              "      fill: #174EA6;\n",
              "    }\n",
              "\n",
              "    [theme=dark] .colab-df-convert {\n",
              "      background-color: #3B4455;\n",
              "      fill: #D2E3FC;\n",
              "    }\n",
              "\n",
              "    [theme=dark] .colab-df-convert:hover {\n",
              "      background-color: #434B5C;\n",
              "      box-shadow: 0px 1px 3px 1px rgba(0, 0, 0, 0.15);\n",
              "      filter: drop-shadow(0px 1px 2px rgba(0, 0, 0, 0.3));\n",
              "      fill: #FFFFFF;\n",
              "    }\n",
              "  </style>\n",
              "\n",
              "      <script>\n",
              "        const buttonEl =\n",
              "          document.querySelector('#df-fc6ae494-8ee2-4b31-8578-a39984ae2cab button.colab-df-convert');\n",
              "        buttonEl.style.display =\n",
              "          google.colab.kernel.accessAllowed ? 'block' : 'none';\n",
              "\n",
              "        async function convertToInteractive(key) {\n",
              "          const element = document.querySelector('#df-fc6ae494-8ee2-4b31-8578-a39984ae2cab');\n",
              "          const dataTable =\n",
              "            await google.colab.kernel.invokeFunction('convertToInteractive',\n",
              "                                                     [key], {});\n",
              "          if (!dataTable) return;\n",
              "\n",
              "          const docLinkHtml = 'Like what you see? Visit the ' +\n",
              "            '<a target=\"_blank\" href=https://colab.research.google.com/notebooks/data_table.ipynb>data table notebook</a>'\n",
              "            + ' to learn more about interactive tables.';\n",
              "          element.innerHTML = '';\n",
              "          dataTable['output_type'] = 'display_data';\n",
              "          await google.colab.output.renderOutput(dataTable, element);\n",
              "          const docLink = document.createElement('div');\n",
              "          docLink.innerHTML = docLinkHtml;\n",
              "          element.appendChild(docLink);\n",
              "        }\n",
              "      </script>\n",
              "    </div>\n",
              "  </div>\n",
              "  "
            ]
          },
          "metadata": {},
          "execution_count": 27
        }
      ],
      "source": [
        "#Mengganti kolom menjadi numerik\n",
        "x1 = x.select_dtypes('O')\n",
        "\n",
        "for col in x1.columns:\n",
        "    lb = LabelEncoder()\n",
        "    x[col] = lb.fit_transform(x1[col].values)\n",
        "x.head()"
      ]
    },
    {
      "cell_type": "code",
      "execution_count": null,
      "id": "ca1c70e3",
      "metadata": {
        "execution": {
          "iopub.execute_input": "2022-10-15T12:35:25.335131Z",
          "iopub.status.busy": "2022-10-15T12:35:25.334393Z",
          "iopub.status.idle": "2022-10-15T12:35:25.347762Z",
          "shell.execute_reply": "2022-10-15T12:35:25.346736Z"
        },
        "papermill": {
          "duration": 0.042919,
          "end_time": "2022-10-15T12:35:25.350213",
          "exception": false,
          "start_time": "2022-10-15T12:35:25.307294",
          "status": "completed"
        },
        "tags": [],
        "id": "ca1c70e3"
      },
      "outputs": [],
      "source": [
        "#Melakukan split data\n",
        "x = store.drop(['Output_Profit'],axis=1)\n",
        "y = store['Output_Profit']\n",
        "x_train, x_test, y_train, y_test = train_test_split(x, y)"
      ]
    },
    {
      "cell_type": "markdown",
      "source": [
        "### **Naive Bayes Classifier**"
      ],
      "metadata": {
        "id": "5Vl8LAHSvYR2"
      },
      "id": "5Vl8LAHSvYR2"
    },
    {
      "cell_type": "markdown",
      "source": [
        "######Melakukan Data Training"
      ],
      "metadata": {
        "id": "DB2NNkcQvkNl"
      },
      "id": "DB2NNkcQvkNl"
    },
    {
      "cell_type": "code",
      "source": [
        "x_train.head(5)"
      ],
      "metadata": {
        "colab": {
          "base_uri": "https://localhost:8080/",
          "height": 287
        },
        "id": "zSDqbM5OvdbA",
        "outputId": "d647b007-40e5-43b6-8113-43f48c70abb6"
      },
      "id": "zSDqbM5OvdbA",
      "execution_count": null,
      "outputs": [
        {
          "output_type": "execute_result",
          "data": {
            "text/plain": [
              "      Row ID  Order ID  Order Date  Ship Date  Ship Mode  Customer ID  \\\n",
              "3278    3279        37         697        755          2          307   \n",
              "1148    1149       973         694        737          1          554   \n",
              "4705    4706      2604         744        795          0           26   \n",
              "6735    6736      2057         616        677          3          115   \n",
              "9713    9714       183         290        213          3          495   \n",
              "\n",
              "      Customer Name  Segment  Country  City  State  Postal Code  Region  \\\n",
              "3278            311        1        0     4     44        22304       2   \n",
              "1148            554        0        0   242     20        48911       0   \n",
              "4705             59        0        0   506      5         6708       1   \n",
              "6735            111        0        0   438      3        94122       3   \n",
              "9713            488        0        0   374     36        19143       1   \n",
              "\n",
              "      Product ID  Category  Sub-Category  Product Name     Sales  Quantity  \\\n",
              "3278        1214         1            12          1746  2.406100  0.717567   \n",
              "1148         770         1             3            60  2.392394  0.717567   \n",
              "4705         979         1            10           229  2.511953  0.717567   \n",
              "6735         472         1             1            26  4.220359  1.160800   \n",
              "9713        1486         2             0          1459  3.581893  1.745231   \n",
              "\n",
              "      Discount  \n",
              "3278       0.0  \n",
              "1148       0.0  \n",
              "4705       0.0  \n",
              "6735       0.0  \n",
              "9713       0.2  "
            ],
            "text/html": [
              "\n",
              "  <div id=\"df-c6a699ad-f67b-4097-8c86-1140ae342192\">\n",
              "    <div class=\"colab-df-container\">\n",
              "      <div>\n",
              "<style scoped>\n",
              "    .dataframe tbody tr th:only-of-type {\n",
              "        vertical-align: middle;\n",
              "    }\n",
              "\n",
              "    .dataframe tbody tr th {\n",
              "        vertical-align: top;\n",
              "    }\n",
              "\n",
              "    .dataframe thead th {\n",
              "        text-align: right;\n",
              "    }\n",
              "</style>\n",
              "<table border=\"1\" class=\"dataframe\">\n",
              "  <thead>\n",
              "    <tr style=\"text-align: right;\">\n",
              "      <th></th>\n",
              "      <th>Row ID</th>\n",
              "      <th>Order ID</th>\n",
              "      <th>Order Date</th>\n",
              "      <th>Ship Date</th>\n",
              "      <th>Ship Mode</th>\n",
              "      <th>Customer ID</th>\n",
              "      <th>Customer Name</th>\n",
              "      <th>Segment</th>\n",
              "      <th>Country</th>\n",
              "      <th>City</th>\n",
              "      <th>State</th>\n",
              "      <th>Postal Code</th>\n",
              "      <th>Region</th>\n",
              "      <th>Product ID</th>\n",
              "      <th>Category</th>\n",
              "      <th>Sub-Category</th>\n",
              "      <th>Product Name</th>\n",
              "      <th>Sales</th>\n",
              "      <th>Quantity</th>\n",
              "      <th>Discount</th>\n",
              "    </tr>\n",
              "  </thead>\n",
              "  <tbody>\n",
              "    <tr>\n",
              "      <th>3278</th>\n",
              "      <td>3279</td>\n",
              "      <td>37</td>\n",
              "      <td>697</td>\n",
              "      <td>755</td>\n",
              "      <td>2</td>\n",
              "      <td>307</td>\n",
              "      <td>311</td>\n",
              "      <td>1</td>\n",
              "      <td>0</td>\n",
              "      <td>4</td>\n",
              "      <td>44</td>\n",
              "      <td>22304</td>\n",
              "      <td>2</td>\n",
              "      <td>1214</td>\n",
              "      <td>1</td>\n",
              "      <td>12</td>\n",
              "      <td>1746</td>\n",
              "      <td>2.406100</td>\n",
              "      <td>0.717567</td>\n",
              "      <td>0.0</td>\n",
              "    </tr>\n",
              "    <tr>\n",
              "      <th>1148</th>\n",
              "      <td>1149</td>\n",
              "      <td>973</td>\n",
              "      <td>694</td>\n",
              "      <td>737</td>\n",
              "      <td>1</td>\n",
              "      <td>554</td>\n",
              "      <td>554</td>\n",
              "      <td>0</td>\n",
              "      <td>0</td>\n",
              "      <td>242</td>\n",
              "      <td>20</td>\n",
              "      <td>48911</td>\n",
              "      <td>0</td>\n",
              "      <td>770</td>\n",
              "      <td>1</td>\n",
              "      <td>3</td>\n",
              "      <td>60</td>\n",
              "      <td>2.392394</td>\n",
              "      <td>0.717567</td>\n",
              "      <td>0.0</td>\n",
              "    </tr>\n",
              "    <tr>\n",
              "      <th>4705</th>\n",
              "      <td>4706</td>\n",
              "      <td>2604</td>\n",
              "      <td>744</td>\n",
              "      <td>795</td>\n",
              "      <td>0</td>\n",
              "      <td>26</td>\n",
              "      <td>59</td>\n",
              "      <td>0</td>\n",
              "      <td>0</td>\n",
              "      <td>506</td>\n",
              "      <td>5</td>\n",
              "      <td>6708</td>\n",
              "      <td>1</td>\n",
              "      <td>979</td>\n",
              "      <td>1</td>\n",
              "      <td>10</td>\n",
              "      <td>229</td>\n",
              "      <td>2.511953</td>\n",
              "      <td>0.717567</td>\n",
              "      <td>0.0</td>\n",
              "    </tr>\n",
              "    <tr>\n",
              "      <th>6735</th>\n",
              "      <td>6736</td>\n",
              "      <td>2057</td>\n",
              "      <td>616</td>\n",
              "      <td>677</td>\n",
              "      <td>3</td>\n",
              "      <td>115</td>\n",
              "      <td>111</td>\n",
              "      <td>0</td>\n",
              "      <td>0</td>\n",
              "      <td>438</td>\n",
              "      <td>3</td>\n",
              "      <td>94122</td>\n",
              "      <td>3</td>\n",
              "      <td>472</td>\n",
              "      <td>1</td>\n",
              "      <td>1</td>\n",
              "      <td>26</td>\n",
              "      <td>4.220359</td>\n",
              "      <td>1.160800</td>\n",
              "      <td>0.0</td>\n",
              "    </tr>\n",
              "    <tr>\n",
              "      <th>9713</th>\n",
              "      <td>9714</td>\n",
              "      <td>183</td>\n",
              "      <td>290</td>\n",
              "      <td>213</td>\n",
              "      <td>3</td>\n",
              "      <td>495</td>\n",
              "      <td>488</td>\n",
              "      <td>0</td>\n",
              "      <td>0</td>\n",
              "      <td>374</td>\n",
              "      <td>36</td>\n",
              "      <td>19143</td>\n",
              "      <td>1</td>\n",
              "      <td>1486</td>\n",
              "      <td>2</td>\n",
              "      <td>0</td>\n",
              "      <td>1459</td>\n",
              "      <td>3.581893</td>\n",
              "      <td>1.745231</td>\n",
              "      <td>0.2</td>\n",
              "    </tr>\n",
              "  </tbody>\n",
              "</table>\n",
              "</div>\n",
              "      <button class=\"colab-df-convert\" onclick=\"convertToInteractive('df-c6a699ad-f67b-4097-8c86-1140ae342192')\"\n",
              "              title=\"Convert this dataframe to an interactive table.\"\n",
              "              style=\"display:none;\">\n",
              "        \n",
              "  <svg xmlns=\"http://www.w3.org/2000/svg\" height=\"24px\"viewBox=\"0 0 24 24\"\n",
              "       width=\"24px\">\n",
              "    <path d=\"M0 0h24v24H0V0z\" fill=\"none\"/>\n",
              "    <path d=\"M18.56 5.44l.94 2.06.94-2.06 2.06-.94-2.06-.94-.94-2.06-.94 2.06-2.06.94zm-11 1L8.5 8.5l.94-2.06 2.06-.94-2.06-.94L8.5 2.5l-.94 2.06-2.06.94zm10 10l.94 2.06.94-2.06 2.06-.94-2.06-.94-.94-2.06-.94 2.06-2.06.94z\"/><path d=\"M17.41 7.96l-1.37-1.37c-.4-.4-.92-.59-1.43-.59-.52 0-1.04.2-1.43.59L10.3 9.45l-7.72 7.72c-.78.78-.78 2.05 0 2.83L4 21.41c.39.39.9.59 1.41.59.51 0 1.02-.2 1.41-.59l7.78-7.78 2.81-2.81c.8-.78.8-2.07 0-2.86zM5.41 20L4 18.59l7.72-7.72 1.47 1.35L5.41 20z\"/>\n",
              "  </svg>\n",
              "      </button>\n",
              "      \n",
              "  <style>\n",
              "    .colab-df-container {\n",
              "      display:flex;\n",
              "      flex-wrap:wrap;\n",
              "      gap: 12px;\n",
              "    }\n",
              "\n",
              "    .colab-df-convert {\n",
              "      background-color: #E8F0FE;\n",
              "      border: none;\n",
              "      border-radius: 50%;\n",
              "      cursor: pointer;\n",
              "      display: none;\n",
              "      fill: #1967D2;\n",
              "      height: 32px;\n",
              "      padding: 0 0 0 0;\n",
              "      width: 32px;\n",
              "    }\n",
              "\n",
              "    .colab-df-convert:hover {\n",
              "      background-color: #E2EBFA;\n",
              "      box-shadow: 0px 1px 2px rgba(60, 64, 67, 0.3), 0px 1px 3px 1px rgba(60, 64, 67, 0.15);\n",
              "      fill: #174EA6;\n",
              "    }\n",
              "\n",
              "    [theme=dark] .colab-df-convert {\n",
              "      background-color: #3B4455;\n",
              "      fill: #D2E3FC;\n",
              "    }\n",
              "\n",
              "    [theme=dark] .colab-df-convert:hover {\n",
              "      background-color: #434B5C;\n",
              "      box-shadow: 0px 1px 3px 1px rgba(0, 0, 0, 0.15);\n",
              "      filter: drop-shadow(0px 1px 2px rgba(0, 0, 0, 0.3));\n",
              "      fill: #FFFFFF;\n",
              "    }\n",
              "  </style>\n",
              "\n",
              "      <script>\n",
              "        const buttonEl =\n",
              "          document.querySelector('#df-c6a699ad-f67b-4097-8c86-1140ae342192 button.colab-df-convert');\n",
              "        buttonEl.style.display =\n",
              "          google.colab.kernel.accessAllowed ? 'block' : 'none';\n",
              "\n",
              "        async function convertToInteractive(key) {\n",
              "          const element = document.querySelector('#df-c6a699ad-f67b-4097-8c86-1140ae342192');\n",
              "          const dataTable =\n",
              "            await google.colab.kernel.invokeFunction('convertToInteractive',\n",
              "                                                     [key], {});\n",
              "          if (!dataTable) return;\n",
              "\n",
              "          const docLinkHtml = 'Like what you see? Visit the ' +\n",
              "            '<a target=\"_blank\" href=https://colab.research.google.com/notebooks/data_table.ipynb>data table notebook</a>'\n",
              "            + ' to learn more about interactive tables.';\n",
              "          element.innerHTML = '';\n",
              "          dataTable['output_type'] = 'display_data';\n",
              "          await google.colab.output.renderOutput(dataTable, element);\n",
              "          const docLink = document.createElement('div');\n",
              "          docLink.innerHTML = docLinkHtml;\n",
              "          element.appendChild(docLink);\n",
              "        }\n",
              "      </script>\n",
              "    </div>\n",
              "  </div>\n",
              "  "
            ]
          },
          "metadata": {},
          "execution_count": 29
        }
      ]
    },
    {
      "cell_type": "code",
      "source": [
        "#Menghitung jumlah kolom x train\n",
        "x_train.shape"
      ],
      "metadata": {
        "colab": {
          "base_uri": "https://localhost:8080/"
        },
        "id": "-rSKgt3Gvpse",
        "outputId": "d1e5a5f9-c254-4a69-f317-9bc309604420"
      },
      "id": "-rSKgt3Gvpse",
      "execution_count": null,
      "outputs": [
        {
          "output_type": "execute_result",
          "data": {
            "text/plain": [
              "(7495, 20)"
            ]
          },
          "metadata": {},
          "execution_count": 30
        }
      ]
    },
    {
      "cell_type": "code",
      "source": [
        "y_train.head(5)"
      ],
      "metadata": {
        "colab": {
          "base_uri": "https://localhost:8080/"
        },
        "id": "L8WWL9Thvv5m",
        "outputId": "ad221c1e-bd67-4995-f701-53b784aab271"
      },
      "id": "L8WWL9Thvv5m",
      "execution_count": null,
      "outputs": [
        {
          "output_type": "execute_result",
          "data": {
            "text/plain": [
              "3278    0\n",
              "1148    0\n",
              "4705    0\n",
              "6735    0\n",
              "9713    1\n",
              "Name: Output_Profit, dtype: int64"
            ]
          },
          "metadata": {},
          "execution_count": 31
        }
      ]
    },
    {
      "cell_type": "code",
      "source": [
        "#Menghitung jumlah kolom y train\n",
        "y_train.shape"
      ],
      "metadata": {
        "colab": {
          "base_uri": "https://localhost:8080/"
        },
        "id": "NLq8HF2Qv-aE",
        "outputId": "c3bd941b-439a-4a23-b3a0-5b9682e1c6aa"
      },
      "id": "NLq8HF2Qv-aE",
      "execution_count": null,
      "outputs": [
        {
          "output_type": "execute_result",
          "data": {
            "text/plain": [
              "(7495,)"
            ]
          },
          "metadata": {},
          "execution_count": 32
        }
      ]
    },
    {
      "cell_type": "code",
      "source": [
        "x_test.head(5)"
      ],
      "metadata": {
        "colab": {
          "base_uri": "https://localhost:8080/",
          "height": 287
        },
        "id": "ZNj-kfIUwIoQ",
        "outputId": "08349bf5-222b-4606-d942-f52b043a4bb6"
      },
      "id": "ZNj-kfIUwIoQ",
      "execution_count": null,
      "outputs": [
        {
          "output_type": "execute_result",
          "data": {
            "text/plain": [
              "      Row ID  Order ID  Order Date  Ship Date  Ship Mode  Customer ID  \\\n",
              "9179    9180      3930        1121       1114          3          386   \n",
              "911      912      3556        1173       1325          3           75   \n",
              "7781    7782      1222         606        546          3          289   \n",
              "9588    9589      3027         978       1066          3           63   \n",
              "4962    4963       665         602        643          0            4   \n",
              "\n",
              "      Customer Name  Segment  Country  City  State  Postal Code  Region  \\\n",
              "9179            365        0        0   517      3        92683       3   \n",
              "911              88        2        0   215     20        49201       0   \n",
              "7781            285        0        0    80     11        60623       0   \n",
              "9588             49        0        0   518     11        60090       0   \n",
              "4962              0        0        0   452     45        98103       3   \n",
              "\n",
              "      Product ID  Category  Sub-Category  Product Name     Sales  Quantity  \\\n",
              "9179        1768         2            13          1291  5.603158  1.160800   \n",
              "911         1403         1            14           643  5.090243  0.717567   \n",
              "7781         744         1             3           263  2.037790  1.160800   \n",
              "9588         481         1             2           888  4.272582  1.486283   \n",
              "4962         517         1             2          1138  2.690249  1.160800   \n",
              "\n",
              "      Discount  \n",
              "9179       0.2  \n",
              "911        0.0  \n",
              "7781       0.8  \n",
              "9588       0.2  \n",
              "4962       0.0  "
            ],
            "text/html": [
              "\n",
              "  <div id=\"df-4257a064-d770-47c6-8f1a-898594095f22\">\n",
              "    <div class=\"colab-df-container\">\n",
              "      <div>\n",
              "<style scoped>\n",
              "    .dataframe tbody tr th:only-of-type {\n",
              "        vertical-align: middle;\n",
              "    }\n",
              "\n",
              "    .dataframe tbody tr th {\n",
              "        vertical-align: top;\n",
              "    }\n",
              "\n",
              "    .dataframe thead th {\n",
              "        text-align: right;\n",
              "    }\n",
              "</style>\n",
              "<table border=\"1\" class=\"dataframe\">\n",
              "  <thead>\n",
              "    <tr style=\"text-align: right;\">\n",
              "      <th></th>\n",
              "      <th>Row ID</th>\n",
              "      <th>Order ID</th>\n",
              "      <th>Order Date</th>\n",
              "      <th>Ship Date</th>\n",
              "      <th>Ship Mode</th>\n",
              "      <th>Customer ID</th>\n",
              "      <th>Customer Name</th>\n",
              "      <th>Segment</th>\n",
              "      <th>Country</th>\n",
              "      <th>City</th>\n",
              "      <th>State</th>\n",
              "      <th>Postal Code</th>\n",
              "      <th>Region</th>\n",
              "      <th>Product ID</th>\n",
              "      <th>Category</th>\n",
              "      <th>Sub-Category</th>\n",
              "      <th>Product Name</th>\n",
              "      <th>Sales</th>\n",
              "      <th>Quantity</th>\n",
              "      <th>Discount</th>\n",
              "    </tr>\n",
              "  </thead>\n",
              "  <tbody>\n",
              "    <tr>\n",
              "      <th>9179</th>\n",
              "      <td>9180</td>\n",
              "      <td>3930</td>\n",
              "      <td>1121</td>\n",
              "      <td>1114</td>\n",
              "      <td>3</td>\n",
              "      <td>386</td>\n",
              "      <td>365</td>\n",
              "      <td>0</td>\n",
              "      <td>0</td>\n",
              "      <td>517</td>\n",
              "      <td>3</td>\n",
              "      <td>92683</td>\n",
              "      <td>3</td>\n",
              "      <td>1768</td>\n",
              "      <td>2</td>\n",
              "      <td>13</td>\n",
              "      <td>1291</td>\n",
              "      <td>5.603158</td>\n",
              "      <td>1.160800</td>\n",
              "      <td>0.2</td>\n",
              "    </tr>\n",
              "    <tr>\n",
              "      <th>911</th>\n",
              "      <td>912</td>\n",
              "      <td>3556</td>\n",
              "      <td>1173</td>\n",
              "      <td>1325</td>\n",
              "      <td>3</td>\n",
              "      <td>75</td>\n",
              "      <td>88</td>\n",
              "      <td>2</td>\n",
              "      <td>0</td>\n",
              "      <td>215</td>\n",
              "      <td>20</td>\n",
              "      <td>49201</td>\n",
              "      <td>0</td>\n",
              "      <td>1403</td>\n",
              "      <td>1</td>\n",
              "      <td>14</td>\n",
              "      <td>643</td>\n",
              "      <td>5.090243</td>\n",
              "      <td>0.717567</td>\n",
              "      <td>0.0</td>\n",
              "    </tr>\n",
              "    <tr>\n",
              "      <th>7781</th>\n",
              "      <td>7782</td>\n",
              "      <td>1222</td>\n",
              "      <td>606</td>\n",
              "      <td>546</td>\n",
              "      <td>3</td>\n",
              "      <td>289</td>\n",
              "      <td>285</td>\n",
              "      <td>0</td>\n",
              "      <td>0</td>\n",
              "      <td>80</td>\n",
              "      <td>11</td>\n",
              "      <td>60623</td>\n",
              "      <td>0</td>\n",
              "      <td>744</td>\n",
              "      <td>1</td>\n",
              "      <td>3</td>\n",
              "      <td>263</td>\n",
              "      <td>2.037790</td>\n",
              "      <td>1.160800</td>\n",
              "      <td>0.8</td>\n",
              "    </tr>\n",
              "    <tr>\n",
              "      <th>9588</th>\n",
              "      <td>9589</td>\n",
              "      <td>3027</td>\n",
              "      <td>978</td>\n",
              "      <td>1066</td>\n",
              "      <td>3</td>\n",
              "      <td>63</td>\n",
              "      <td>49</td>\n",
              "      <td>0</td>\n",
              "      <td>0</td>\n",
              "      <td>518</td>\n",
              "      <td>11</td>\n",
              "      <td>60090</td>\n",
              "      <td>0</td>\n",
              "      <td>481</td>\n",
              "      <td>1</td>\n",
              "      <td>2</td>\n",
              "      <td>888</td>\n",
              "      <td>4.272582</td>\n",
              "      <td>1.486283</td>\n",
              "      <td>0.2</td>\n",
              "    </tr>\n",
              "    <tr>\n",
              "      <th>4962</th>\n",
              "      <td>4963</td>\n",
              "      <td>665</td>\n",
              "      <td>602</td>\n",
              "      <td>643</td>\n",
              "      <td>0</td>\n",
              "      <td>4</td>\n",
              "      <td>0</td>\n",
              "      <td>0</td>\n",
              "      <td>0</td>\n",
              "      <td>452</td>\n",
              "      <td>45</td>\n",
              "      <td>98103</td>\n",
              "      <td>3</td>\n",
              "      <td>517</td>\n",
              "      <td>1</td>\n",
              "      <td>2</td>\n",
              "      <td>1138</td>\n",
              "      <td>2.690249</td>\n",
              "      <td>1.160800</td>\n",
              "      <td>0.0</td>\n",
              "    </tr>\n",
              "  </tbody>\n",
              "</table>\n",
              "</div>\n",
              "      <button class=\"colab-df-convert\" onclick=\"convertToInteractive('df-4257a064-d770-47c6-8f1a-898594095f22')\"\n",
              "              title=\"Convert this dataframe to an interactive table.\"\n",
              "              style=\"display:none;\">\n",
              "        \n",
              "  <svg xmlns=\"http://www.w3.org/2000/svg\" height=\"24px\"viewBox=\"0 0 24 24\"\n",
              "       width=\"24px\">\n",
              "    <path d=\"M0 0h24v24H0V0z\" fill=\"none\"/>\n",
              "    <path d=\"M18.56 5.44l.94 2.06.94-2.06 2.06-.94-2.06-.94-.94-2.06-.94 2.06-2.06.94zm-11 1L8.5 8.5l.94-2.06 2.06-.94-2.06-.94L8.5 2.5l-.94 2.06-2.06.94zm10 10l.94 2.06.94-2.06 2.06-.94-2.06-.94-.94-2.06-.94 2.06-2.06.94z\"/><path d=\"M17.41 7.96l-1.37-1.37c-.4-.4-.92-.59-1.43-.59-.52 0-1.04.2-1.43.59L10.3 9.45l-7.72 7.72c-.78.78-.78 2.05 0 2.83L4 21.41c.39.39.9.59 1.41.59.51 0 1.02-.2 1.41-.59l7.78-7.78 2.81-2.81c.8-.78.8-2.07 0-2.86zM5.41 20L4 18.59l7.72-7.72 1.47 1.35L5.41 20z\"/>\n",
              "  </svg>\n",
              "      </button>\n",
              "      \n",
              "  <style>\n",
              "    .colab-df-container {\n",
              "      display:flex;\n",
              "      flex-wrap:wrap;\n",
              "      gap: 12px;\n",
              "    }\n",
              "\n",
              "    .colab-df-convert {\n",
              "      background-color: #E8F0FE;\n",
              "      border: none;\n",
              "      border-radius: 50%;\n",
              "      cursor: pointer;\n",
              "      display: none;\n",
              "      fill: #1967D2;\n",
              "      height: 32px;\n",
              "      padding: 0 0 0 0;\n",
              "      width: 32px;\n",
              "    }\n",
              "\n",
              "    .colab-df-convert:hover {\n",
              "      background-color: #E2EBFA;\n",
              "      box-shadow: 0px 1px 2px rgba(60, 64, 67, 0.3), 0px 1px 3px 1px rgba(60, 64, 67, 0.15);\n",
              "      fill: #174EA6;\n",
              "    }\n",
              "\n",
              "    [theme=dark] .colab-df-convert {\n",
              "      background-color: #3B4455;\n",
              "      fill: #D2E3FC;\n",
              "    }\n",
              "\n",
              "    [theme=dark] .colab-df-convert:hover {\n",
              "      background-color: #434B5C;\n",
              "      box-shadow: 0px 1px 3px 1px rgba(0, 0, 0, 0.15);\n",
              "      filter: drop-shadow(0px 1px 2px rgba(0, 0, 0, 0.3));\n",
              "      fill: #FFFFFF;\n",
              "    }\n",
              "  </style>\n",
              "\n",
              "      <script>\n",
              "        const buttonEl =\n",
              "          document.querySelector('#df-4257a064-d770-47c6-8f1a-898594095f22 button.colab-df-convert');\n",
              "        buttonEl.style.display =\n",
              "          google.colab.kernel.accessAllowed ? 'block' : 'none';\n",
              "\n",
              "        async function convertToInteractive(key) {\n",
              "          const element = document.querySelector('#df-4257a064-d770-47c6-8f1a-898594095f22');\n",
              "          const dataTable =\n",
              "            await google.colab.kernel.invokeFunction('convertToInteractive',\n",
              "                                                     [key], {});\n",
              "          if (!dataTable) return;\n",
              "\n",
              "          const docLinkHtml = 'Like what you see? Visit the ' +\n",
              "            '<a target=\"_blank\" href=https://colab.research.google.com/notebooks/data_table.ipynb>data table notebook</a>'\n",
              "            + ' to learn more about interactive tables.';\n",
              "          element.innerHTML = '';\n",
              "          dataTable['output_type'] = 'display_data';\n",
              "          await google.colab.output.renderOutput(dataTable, element);\n",
              "          const docLink = document.createElement('div');\n",
              "          docLink.innerHTML = docLinkHtml;\n",
              "          element.appendChild(docLink);\n",
              "        }\n",
              "      </script>\n",
              "    </div>\n",
              "  </div>\n",
              "  "
            ]
          },
          "metadata": {},
          "execution_count": 33
        }
      ]
    },
    {
      "cell_type": "code",
      "source": [
        "#Menghitung jumlah kolom x test\n",
        "x_test.shape"
      ],
      "metadata": {
        "colab": {
          "base_uri": "https://localhost:8080/"
        },
        "id": "dZWhJ5t4wLjR",
        "outputId": "cd41ee90-8236-4c1a-f0c9-786700dfbf75"
      },
      "id": "dZWhJ5t4wLjR",
      "execution_count": null,
      "outputs": [
        {
          "output_type": "execute_result",
          "data": {
            "text/plain": [
              "(2499, 20)"
            ]
          },
          "metadata": {},
          "execution_count": 34
        }
      ]
    },
    {
      "cell_type": "code",
      "source": [
        "#Masukan model naive bayes\n",
        "gnb = GaussianNB()\n",
        "\n",
        "gnb.fit(x_train, y_train)"
      ],
      "metadata": {
        "colab": {
          "base_uri": "https://localhost:8080/"
        },
        "id": "lZnuXybQwSBH",
        "outputId": "67e47025-7f7f-443e-c66b-fc69cfd38fe5"
      },
      "id": "lZnuXybQwSBH",
      "execution_count": null,
      "outputs": [
        {
          "output_type": "execute_result",
          "data": {
            "text/plain": [
              "GaussianNB()"
            ]
          },
          "metadata": {},
          "execution_count": 35
        }
      ]
    },
    {
      "cell_type": "markdown",
      "source": [
        "######Melakukan Prediksi"
      ],
      "metadata": {
        "id": "6-wjW606wg59"
      },
      "id": "6-wjW606wg59"
    },
    {
      "cell_type": "code",
      "source": [
        "y_pred = gnb.predict(x_test)\n",
        "\n",
        "y_pred"
      ],
      "metadata": {
        "colab": {
          "base_uri": "https://localhost:8080/"
        },
        "id": "zdjTRZuIwjs_",
        "outputId": "d858f901-9a37-4b06-f475-b8b7eb421eb0"
      },
      "id": "zdjTRZuIwjs_",
      "execution_count": null,
      "outputs": [
        {
          "output_type": "execute_result",
          "data": {
            "text/plain": [
              "array([0, 0, 0, ..., 0, 0, 0])"
            ]
          },
          "metadata": {},
          "execution_count": 36
        }
      ]
    },
    {
      "cell_type": "code",
      "source": [
        "#Menampilkan hasil skor akurasi model\n",
        "print('Model accuracy score: {0:0.2f}'. format(accuracy_score(y_test, y_pred)))"
      ],
      "metadata": {
        "colab": {
          "base_uri": "https://localhost:8080/"
        },
        "id": "dEgTv8Uiwkyi",
        "outputId": "5c18aef5-989d-4ecb-d9d6-064dc6e1b75e"
      },
      "id": "dEgTv8Uiwkyi",
      "execution_count": null,
      "outputs": [
        {
          "output_type": "stream",
          "name": "stdout",
          "text": [
            "Model accuracy score: 0.84\n"
          ]
        }
      ]
    },
    {
      "cell_type": "markdown",
      "source": [
        "Di sini, y_test adalah label kelas sebenarnya dan y_pred adalah label kelas yang diprediksi dalam set pengujian."
      ],
      "metadata": {
        "id": "m7Sbenkyw6Sg"
      },
      "id": "m7Sbenkyw6Sg"
    },
    {
      "cell_type": "code",
      "source": [
        "#Membandingkan accuracy dari train-set and test-set\n",
        "\n",
        "y_pred_train = gnb.predict(x_train)\n",
        "\n",
        "y_pred_train"
      ],
      "metadata": {
        "colab": {
          "base_uri": "https://localhost:8080/"
        },
        "id": "fuhN3QZ9w7yI",
        "outputId": "05b10b64-50a6-4214-80c4-4101421f8f06"
      },
      "id": "fuhN3QZ9w7yI",
      "execution_count": null,
      "outputs": [
        {
          "output_type": "execute_result",
          "data": {
            "text/plain": [
              "array([0, 0, 0, ..., 0, 0, 0])"
            ]
          },
          "metadata": {},
          "execution_count": 38
        }
      ]
    },
    {
      "cell_type": "code",
      "source": [
        "#Menampilkan perbandingan akurasi\n",
        "print('Training set score: {:.4f}'.format(gnb.score(x_train, y_train)))\n",
        "\n",
        "print('Test set score: {:.4f}'.format(gnb.score(x_test, y_test)))"
      ],
      "metadata": {
        "colab": {
          "base_uri": "https://localhost:8080/"
        },
        "id": "wVM1HbbfxOnc",
        "outputId": "f401c48f-960f-4b8f-f5c5-5b1c53eb094f"
      },
      "id": "wVM1HbbfxOnc",
      "execution_count": null,
      "outputs": [
        {
          "output_type": "stream",
          "name": "stdout",
          "text": [
            "Training set score: 0.8316\n",
            "Test set score: 0.8391\n"
          ]
        }
      ]
    },
    {
      "cell_type": "markdown",
      "source": [
        "######Menghitung Probabilitas"
      ],
      "metadata": {
        "id": "n9eHBHkv79Yq"
      },
      "id": "n9eHBHkv79Yq"
    },
    {
      "cell_type": "code",
      "source": [
        "y_pred_prob = gnb.predict_proba(x_test)\n",
        "\n",
        "y_pred_prob"
      ],
      "metadata": {
        "colab": {
          "base_uri": "https://localhost:8080/"
        },
        "id": "LfEc0rQT8P9O",
        "outputId": "7cc22dc0-154e-4567-898e-831d3d6dcb09"
      },
      "id": "LfEc0rQT8P9O",
      "execution_count": null,
      "outputs": [
        {
          "output_type": "execute_result",
          "data": {
            "text/plain": [
              "array([[9.71363955e-01, 2.26592179e-02, 5.97682728e-03],\n",
              "       [8.46247045e-01, 1.46674791e-01, 7.07816354e-03],\n",
              "       [6.40792744e-01, 3.58575896e-01, 6.31359803e-04],\n",
              "       ...,\n",
              "       [5.16220088e-01, 4.81661148e-01, 2.11876410e-03],\n",
              "       [9.63279419e-01, 3.42643490e-02, 2.45623199e-03],\n",
              "       [9.55711706e-01, 4.02705209e-02, 4.01777353e-03]])"
            ]
          },
          "metadata": {},
          "execution_count": 40
        }
      ]
    },
    {
      "cell_type": "markdown",
      "id": "361275bf",
      "metadata": {
        "papermill": {
          "duration": 0.027186,
          "end_time": "2022-10-15T12:35:25.732033",
          "exception": false,
          "start_time": "2022-10-15T12:35:25.704847",
          "status": "completed"
        },
        "tags": [],
        "id": "361275bf"
      },
      "source": [
        "### **Random Forest Classifier Model**"
      ]
    },
    {
      "cell_type": "code",
      "execution_count": null,
      "id": "622aa6ef",
      "metadata": {
        "execution": {
          "iopub.execute_input": "2022-10-15T12:35:25.789317Z",
          "iopub.status.busy": "2022-10-15T12:35:25.788898Z",
          "iopub.status.idle": "2022-10-15T12:35:25.794530Z",
          "shell.execute_reply": "2022-10-15T12:35:25.793408Z"
        },
        "papermill": {
          "duration": 0.03718,
          "end_time": "2022-10-15T12:35:25.796755",
          "exception": false,
          "start_time": "2022-10-15T12:35:25.759575",
          "status": "completed"
        },
        "tags": [],
        "id": "622aa6ef"
      },
      "outputs": [],
      "source": [
        "cm_rfc = Pipeline([('std_scaler', StandardScaler()),('rfc_classifier',RandomForestClassifier(n_estimators=150,max_depth=7,random_state=5))])"
      ]
    },
    {
      "cell_type": "code",
      "execution_count": null,
      "id": "abf4775d",
      "metadata": {
        "execution": {
          "iopub.execute_input": "2022-10-15T12:35:25.852422Z",
          "iopub.status.busy": "2022-10-15T12:35:25.851960Z",
          "iopub.status.idle": "2022-10-15T12:35:27.344039Z",
          "shell.execute_reply": "2022-10-15T12:35:27.342901Z"
        },
        "papermill": {
          "duration": 1.522398,
          "end_time": "2022-10-15T12:35:27.346238",
          "exception": false,
          "start_time": "2022-10-15T12:35:25.823840",
          "status": "completed"
        },
        "tags": [],
        "id": "abf4775d",
        "colab": {
          "base_uri": "https://localhost:8080/"
        },
        "outputId": "d3bd2f44-8c3f-4669-d442-1d187fd5406c"
      },
      "outputs": [
        {
          "output_type": "execute_result",
          "data": {
            "text/plain": [
              "Pipeline(steps=[('std_scaler', StandardScaler()),\n",
              "                ('rfc_classifier',\n",
              "                 RandomForestClassifier(max_depth=7, n_estimators=150,\n",
              "                                        random_state=5))])"
            ]
          },
          "metadata": {},
          "execution_count": 42
        }
      ],
      "source": [
        "cm_rfc.fit(x_train, y_train)"
      ]
    },
    {
      "cell_type": "code",
      "execution_count": null,
      "id": "1649822c",
      "metadata": {
        "execution": {
          "iopub.execute_input": "2022-10-15T12:35:27.399436Z",
          "iopub.status.busy": "2022-10-15T12:35:27.398625Z",
          "iopub.status.idle": "2022-10-15T12:35:27.609722Z",
          "shell.execute_reply": "2022-10-15T12:35:27.608531Z"
        },
        "papermill": {
          "duration": 0.240735,
          "end_time": "2022-10-15T12:35:27.612385",
          "exception": false,
          "start_time": "2022-10-15T12:35:27.371650",
          "status": "completed"
        },
        "tags": [],
        "id": "1649822c",
        "colab": {
          "base_uri": "https://localhost:8080/"
        },
        "outputId": "e1726c2c-eeea-4083-c29b-3ffb013516ba"
      },
      "outputs": [
        {
          "output_type": "execute_result",
          "data": {
            "text/plain": [
              "(0.9399599733155437, 0.9391756702681072)"
            ]
          },
          "metadata": {},
          "execution_count": 43
        }
      ],
      "source": [
        "cm_rfc.score(x_train,y_train), cm_rfc.score(x_test,y_test)"
      ]
    },
    {
      "cell_type": "markdown",
      "id": "ac562ec6",
      "metadata": {
        "papermill": {
          "duration": 0.029759,
          "end_time": "2022-10-15T12:35:49.789017",
          "exception": false,
          "start_time": "2022-10-15T12:35:49.759258",
          "status": "completed"
        },
        "tags": [],
        "id": "ac562ec6"
      },
      "source": [
        "## **Conclusion**"
      ]
    },
    {
      "cell_type": "code",
      "execution_count": null,
      "id": "4e793ceb",
      "metadata": {
        "execution": {
          "iopub.execute_input": "2022-10-15T12:35:49.851962Z",
          "iopub.status.busy": "2022-10-15T12:35:49.850897Z",
          "iopub.status.idle": "2022-10-15T12:35:49.857694Z",
          "shell.execute_reply": "2022-10-15T12:35:49.856684Z"
        },
        "papermill": {
          "duration": 0.040651,
          "end_time": "2022-10-15T12:35:49.859961",
          "exception": false,
          "start_time": "2022-10-15T12:35:49.819310",
          "status": "completed"
        },
        "tags": [],
        "id": "4e793ceb"
      },
      "outputs": [],
      "source": [
        "#Membuat kolom perbandingan\n",
        "models = ['Naive Bayes','Random Forest']\n",
        "conclusion = pd.DataFrame(models,columns=['Models'])"
      ]
    },
    {
      "cell_type": "code",
      "execution_count": null,
      "id": "539056fb",
      "metadata": {
        "execution": {
          "iopub.execute_input": "2022-10-15T12:35:49.922899Z",
          "iopub.status.busy": "2022-10-15T12:35:49.921782Z",
          "iopub.status.idle": "2022-10-15T12:35:52.451231Z",
          "shell.execute_reply": "2022-10-15T12:35:52.450261Z"
        },
        "papermill": {
          "duration": 2.563607,
          "end_time": "2022-10-15T12:35:52.454021",
          "exception": false,
          "start_time": "2022-10-15T12:35:49.890414",
          "status": "completed"
        },
        "tags": [],
        "id": "539056fb"
      },
      "outputs": [],
      "source": [
        "m = [gnb,cm_rfc]\n",
        "train = []\n",
        "test = []\n",
        "for i in m:\n",
        "    train.append(i.score(x_train,y_train))\n",
        "    test.append(i.score(x_test,y_test))"
      ]
    },
    {
      "cell_type": "code",
      "execution_count": null,
      "id": "48454045",
      "metadata": {
        "execution": {
          "iopub.execute_input": "2022-10-15T12:35:52.516647Z",
          "iopub.status.busy": "2022-10-15T12:35:52.515950Z",
          "iopub.status.idle": "2022-10-15T12:35:52.521436Z",
          "shell.execute_reply": "2022-10-15T12:35:52.520611Z"
        },
        "papermill": {
          "duration": 0.038589,
          "end_time": "2022-10-15T12:35:52.523495",
          "exception": false,
          "start_time": "2022-10-15T12:35:52.484906",
          "status": "completed"
        },
        "tags": [],
        "id": "48454045"
      },
      "outputs": [],
      "source": [
        "conclusion['Train_score']=train\n",
        "conclusion['Test_score']=test"
      ]
    },
    {
      "cell_type": "code",
      "execution_count": null,
      "id": "8430c48a",
      "metadata": {
        "_kg_hide-input": false,
        "execution": {
          "iopub.execute_input": "2022-10-15T12:35:52.583475Z",
          "iopub.status.busy": "2022-10-15T12:35:52.582820Z",
          "iopub.status.idle": "2022-10-15T12:35:52.654579Z",
          "shell.execute_reply": "2022-10-15T12:35:52.653426Z"
        },
        "papermill": {
          "duration": 0.104663,
          "end_time": "2022-10-15T12:35:52.656852",
          "exception": false,
          "start_time": "2022-10-15T12:35:52.552189",
          "status": "completed"
        },
        "tags": [],
        "id": "8430c48a",
        "colab": {
          "base_uri": "https://localhost:8080/",
          "height": 112
        },
        "outputId": "818dc63f-19b3-4cbf-b05c-87273f8fd044"
      },
      "outputs": [
        {
          "output_type": "execute_result",
          "data": {
            "text/plain": [
              "<pandas.io.formats.style.Styler at 0x7f8937adf4c0>"
            ],
            "text/html": [
              "<style type=\"text/css\">\n",
              "#T_141ce_row1_col0, #T_141ce_row1_col1, #T_141ce_row1_col2 {\n",
              "  background-color: yellow;\n",
              "}\n",
              "</style>\n",
              "<table id=\"T_141ce_\" class=\"dataframe\">\n",
              "  <thead>\n",
              "    <tr>\n",
              "      <th class=\"blank level0\" >&nbsp;</th>\n",
              "      <th class=\"col_heading level0 col0\" >Models</th>\n",
              "      <th class=\"col_heading level0 col1\" >Train_score</th>\n",
              "      <th class=\"col_heading level0 col2\" >Test_score</th>\n",
              "    </tr>\n",
              "  </thead>\n",
              "  <tbody>\n",
              "    <tr>\n",
              "      <th id=\"T_141ce_level0_row0\" class=\"row_heading level0 row0\" >0</th>\n",
              "      <td id=\"T_141ce_row0_col0\" class=\"data row0 col0\" >Naive Bayes</td>\n",
              "      <td id=\"T_141ce_row0_col1\" class=\"data row0 col1\" >0.831621</td>\n",
              "      <td id=\"T_141ce_row0_col2\" class=\"data row0 col2\" >0.839136</td>\n",
              "    </tr>\n",
              "    <tr>\n",
              "      <th id=\"T_141ce_level0_row1\" class=\"row_heading level0 row1\" >1</th>\n",
              "      <td id=\"T_141ce_row1_col0\" class=\"data row1 col0\" >Random Forest</td>\n",
              "      <td id=\"T_141ce_row1_col1\" class=\"data row1 col1\" >0.939960</td>\n",
              "      <td id=\"T_141ce_row1_col2\" class=\"data row1 col2\" >0.939176</td>\n",
              "    </tr>\n",
              "  </tbody>\n",
              "</table>\n"
            ]
          },
          "metadata": {},
          "execution_count": 48
        }
      ],
      "source": [
        "#Menampilkan perbandingan hasil akurasi dari model naive bayes dan random forest\n",
        "conclusion.style.highlight_max()"
      ]
    }
  ],
  "metadata": {
    "kernelspec": {
      "display_name": "Python 3",
      "language": "python",
      "name": "python3"
    },
    "language_info": {
      "codemirror_mode": {
        "name": "ipython",
        "version": 3
      },
      "file_extension": ".py",
      "mimetype": "text/x-python",
      "name": "python",
      "nbconvert_exporter": "python",
      "pygments_lexer": "ipython3",
      "version": "3.7.12"
    },
    "papermill": {
      "default_parameters": {},
      "duration": 67.830087,
      "end_time": "2022-10-15T12:35:54.211939",
      "environment_variables": {},
      "exception": null,
      "input_path": "__notebook__.ipynb",
      "output_path": "__notebook__.ipynb",
      "parameters": {},
      "start_time": "2022-10-15T12:34:46.381852",
      "version": "2.3.4"
    },
    "colab": {
      "provenance": [],
      "collapsed_sections": [
        "5f195208",
        "d53838ca",
        "c206d135",
        "039f1564"
      ],
      "include_colab_link": true
    }
  },
  "nbformat": 4,
  "nbformat_minor": 5
}