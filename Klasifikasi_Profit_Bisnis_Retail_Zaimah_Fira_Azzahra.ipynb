{
  "cells": [
    {
      "cell_type": "markdown",
      "metadata": {
        "id": "view-in-github",
        "colab_type": "text"
      },
      "source": [
        "<a href=\"https://colab.research.google.com/github/zaimahfira/Project/blob/main/Klasifikasi_Profit_Bisnis_Retail_Zaimah_Fira_Azzahra.ipynb\" target=\"_parent\"><img src=\"https://colab.research.google.com/assets/colab-badge.svg\" alt=\"Open In Colab\"/></a>"
      ]
    },
    {
      "cell_type": "markdown",
      "source": [
        "## Import Library"
      ],
      "metadata": {
        "id": "zS1BBmKS_urw"
      },
      "id": "zS1BBmKS_urw"
    },
    {
      "cell_type": "code",
      "execution_count": null,
      "id": "66a5ace3",
      "metadata": {
        "execution": {
          "iopub.execute_input": "2022-10-15T12:34:55.095298Z",
          "iopub.status.busy": "2022-10-15T12:34:55.094690Z",
          "iopub.status.idle": "2022-10-15T12:34:57.754242Z",
          "shell.execute_reply": "2022-10-15T12:34:57.752832Z"
        },
        "papermill": {
          "duration": 2.682186,
          "end_time": "2022-10-15T12:34:57.757704",
          "exception": false,
          "start_time": "2022-10-15T12:34:55.075518",
          "status": "completed"
        },
        "tags": [],
        "id": "66a5ace3"
      },
      "outputs": [],
      "source": [
        "import numpy as np\n",
        "import pandas as pd\n",
        "import seaborn as sns\n",
        "from sklearn.model_selection import train_test_split, GridSearchCV\n",
        "from sklearn.metrics import mean_squared_error, r2_score\n",
        "import matplotlib.pyplot as plt\n",
        "from sklearn.preprocessing import scale, StandardScaler,LabelEncoder\n",
        "from sklearn.model_selection import train_test_split, GridSearchCV,cross_val_score\n",
        "from sklearn.metrics import confusion_matrix, accuracy_score, mean_squared_error, r2_score, roc_auc_score, roc_curve,classification_report\n",
        "from sklearn.naive_bayes import GaussianNB\n",
        "import warnings\n",
        "warnings.filterwarnings(\"ignore\")\n",
        "\n",
        "from scipy import stats\n",
        "from sklearn.ensemble import RandomForestClassifier\n",
        "from sklearn.pipeline import Pipeline\n",
        "from sklearn.preprocessing import  StandardScaler"
      ]
    },
    {
      "cell_type": "markdown",
      "id": "448b3cca",
      "metadata": {
        "papermill": {
          "duration": 0.015737,
          "end_time": "2022-10-15T12:34:57.790312",
          "exception": false,
          "start_time": "2022-10-15T12:34:57.774575",
          "status": "completed"
        },
        "tags": [],
        "id": "448b3cca"
      },
      "source": [
        "## Load Data dan Ekplorasi Data"
      ]
    },
    {
      "cell_type": "code",
      "execution_count": null,
      "id": "2dc84f8e",
      "metadata": {
        "execution": {
          "iopub.execute_input": "2022-10-15T12:34:57.826576Z",
          "iopub.status.busy": "2022-10-15T12:34:57.826190Z",
          "iopub.status.idle": "2022-10-15T12:34:57.949781Z",
          "shell.execute_reply": "2022-10-15T12:34:57.948614Z"
        },
        "papermill": {
          "duration": 0.144609,
          "end_time": "2022-10-15T12:34:57.952330",
          "exception": false,
          "start_time": "2022-10-15T12:34:57.807721",
          "status": "completed"
        },
        "tags": [],
        "colab": {
          "base_uri": "https://localhost:8080/",
          "height": 629
        },
        "id": "2dc84f8e",
        "outputId": "73cab3f3-2fe8-4338-a6c5-4bf14ea50d3d"
      },
      "outputs": [
        {
          "output_type": "execute_result",
          "data": {
            "text/plain": [
              "   Row ID        Order ID  Order Date   Ship Date       Ship Mode Customer ID  \\\n",
              "0       1  CA-2016-152156   11/8/2016  11/11/2016    Second Class    CG-12520   \n",
              "1       2  CA-2016-152156   11/8/2016  11/11/2016    Second Class    CG-12520   \n",
              "2       3  CA-2016-138688   6/12/2016   6/16/2016    Second Class    DV-13045   \n",
              "3       4  US-2015-108966  10/11/2015  10/18/2015  Standard Class    SO-20335   \n",
              "4       5  US-2015-108966  10/11/2015  10/18/2015  Standard Class    SO-20335   \n",
              "\n",
              "     Customer Name    Segment        Country             City  ...  \\\n",
              "0      Claire Gute   Consumer  United States        Henderson  ...   \n",
              "1      Claire Gute   Consumer  United States        Henderson  ...   \n",
              "2  Darrin Van Huff  Corporate  United States      Los Angeles  ...   \n",
              "3   Sean O'Donnell   Consumer  United States  Fort Lauderdale  ...   \n",
              "4   Sean O'Donnell   Consumer  United States  Fort Lauderdale  ...   \n",
              "\n",
              "  Postal Code  Region       Product ID         Category Sub-Category  \\\n",
              "0       42420   South  FUR-BO-10001798        Furniture    Bookcases   \n",
              "1       42420   South  FUR-CH-10000454        Furniture       Chairs   \n",
              "2       90036    West  OFF-LA-10000240  Office Supplies       Labels   \n",
              "3       33311   South  FUR-TA-10000577        Furniture       Tables   \n",
              "4       33311   South  OFF-ST-10000760  Office Supplies      Storage   \n",
              "\n",
              "                                        Product Name     Sales  Quantity  \\\n",
              "0                  Bush Somerset Collection Bookcase  261.9600         2   \n",
              "1  Hon Deluxe Fabric Upholstered Stacking Chairs,...  731.9400         3   \n",
              "2  Self-Adhesive Address Labels for Typewriters b...   14.6200         2   \n",
              "3      Bretford CR4500 Series Slim Rectangular Table  957.5775         5   \n",
              "4                     Eldon Fold 'N Roll Cart System   22.3680         2   \n",
              "\n",
              "   Discount    Profit  \n",
              "0      0.00   41.9136  \n",
              "1      0.00  219.5820  \n",
              "2      0.00    6.8714  \n",
              "3      0.45 -383.0310  \n",
              "4      0.20    2.5164  \n",
              "\n",
              "[5 rows x 21 columns]"
            ],
            "text/html": [
              "\n",
              "  <div id=\"df-d49c198a-b899-46ea-862f-d009aaf8646b\">\n",
              "    <div class=\"colab-df-container\">\n",
              "      <div>\n",
              "<style scoped>\n",
              "    .dataframe tbody tr th:only-of-type {\n",
              "        vertical-align: middle;\n",
              "    }\n",
              "\n",
              "    .dataframe tbody tr th {\n",
              "        vertical-align: top;\n",
              "    }\n",
              "\n",
              "    .dataframe thead th {\n",
              "        text-align: right;\n",
              "    }\n",
              "</style>\n",
              "<table border=\"1\" class=\"dataframe\">\n",
              "  <thead>\n",
              "    <tr style=\"text-align: right;\">\n",
              "      <th></th>\n",
              "      <th>Row ID</th>\n",
              "      <th>Order ID</th>\n",
              "      <th>Order Date</th>\n",
              "      <th>Ship Date</th>\n",
              "      <th>Ship Mode</th>\n",
              "      <th>Customer ID</th>\n",
              "      <th>Customer Name</th>\n",
              "      <th>Segment</th>\n",
              "      <th>Country</th>\n",
              "      <th>City</th>\n",
              "      <th>...</th>\n",
              "      <th>Postal Code</th>\n",
              "      <th>Region</th>\n",
              "      <th>Product ID</th>\n",
              "      <th>Category</th>\n",
              "      <th>Sub-Category</th>\n",
              "      <th>Product Name</th>\n",
              "      <th>Sales</th>\n",
              "      <th>Quantity</th>\n",
              "      <th>Discount</th>\n",
              "      <th>Profit</th>\n",
              "    </tr>\n",
              "  </thead>\n",
              "  <tbody>\n",
              "    <tr>\n",
              "      <th>0</th>\n",
              "      <td>1</td>\n",
              "      <td>CA-2016-152156</td>\n",
              "      <td>11/8/2016</td>\n",
              "      <td>11/11/2016</td>\n",
              "      <td>Second Class</td>\n",
              "      <td>CG-12520</td>\n",
              "      <td>Claire Gute</td>\n",
              "      <td>Consumer</td>\n",
              "      <td>United States</td>\n",
              "      <td>Henderson</td>\n",
              "      <td>...</td>\n",
              "      <td>42420</td>\n",
              "      <td>South</td>\n",
              "      <td>FUR-BO-10001798</td>\n",
              "      <td>Furniture</td>\n",
              "      <td>Bookcases</td>\n",
              "      <td>Bush Somerset Collection Bookcase</td>\n",
              "      <td>261.9600</td>\n",
              "      <td>2</td>\n",
              "      <td>0.00</td>\n",
              "      <td>41.9136</td>\n",
              "    </tr>\n",
              "    <tr>\n",
              "      <th>1</th>\n",
              "      <td>2</td>\n",
              "      <td>CA-2016-152156</td>\n",
              "      <td>11/8/2016</td>\n",
              "      <td>11/11/2016</td>\n",
              "      <td>Second Class</td>\n",
              "      <td>CG-12520</td>\n",
              "      <td>Claire Gute</td>\n",
              "      <td>Consumer</td>\n",
              "      <td>United States</td>\n",
              "      <td>Henderson</td>\n",
              "      <td>...</td>\n",
              "      <td>42420</td>\n",
              "      <td>South</td>\n",
              "      <td>FUR-CH-10000454</td>\n",
              "      <td>Furniture</td>\n",
              "      <td>Chairs</td>\n",
              "      <td>Hon Deluxe Fabric Upholstered Stacking Chairs,...</td>\n",
              "      <td>731.9400</td>\n",
              "      <td>3</td>\n",
              "      <td>0.00</td>\n",
              "      <td>219.5820</td>\n",
              "    </tr>\n",
              "    <tr>\n",
              "      <th>2</th>\n",
              "      <td>3</td>\n",
              "      <td>CA-2016-138688</td>\n",
              "      <td>6/12/2016</td>\n",
              "      <td>6/16/2016</td>\n",
              "      <td>Second Class</td>\n",
              "      <td>DV-13045</td>\n",
              "      <td>Darrin Van Huff</td>\n",
              "      <td>Corporate</td>\n",
              "      <td>United States</td>\n",
              "      <td>Los Angeles</td>\n",
              "      <td>...</td>\n",
              "      <td>90036</td>\n",
              "      <td>West</td>\n",
              "      <td>OFF-LA-10000240</td>\n",
              "      <td>Office Supplies</td>\n",
              "      <td>Labels</td>\n",
              "      <td>Self-Adhesive Address Labels for Typewriters b...</td>\n",
              "      <td>14.6200</td>\n",
              "      <td>2</td>\n",
              "      <td>0.00</td>\n",
              "      <td>6.8714</td>\n",
              "    </tr>\n",
              "    <tr>\n",
              "      <th>3</th>\n",
              "      <td>4</td>\n",
              "      <td>US-2015-108966</td>\n",
              "      <td>10/11/2015</td>\n",
              "      <td>10/18/2015</td>\n",
              "      <td>Standard Class</td>\n",
              "      <td>SO-20335</td>\n",
              "      <td>Sean O'Donnell</td>\n",
              "      <td>Consumer</td>\n",
              "      <td>United States</td>\n",
              "      <td>Fort Lauderdale</td>\n",
              "      <td>...</td>\n",
              "      <td>33311</td>\n",
              "      <td>South</td>\n",
              "      <td>FUR-TA-10000577</td>\n",
              "      <td>Furniture</td>\n",
              "      <td>Tables</td>\n",
              "      <td>Bretford CR4500 Series Slim Rectangular Table</td>\n",
              "      <td>957.5775</td>\n",
              "      <td>5</td>\n",
              "      <td>0.45</td>\n",
              "      <td>-383.0310</td>\n",
              "    </tr>\n",
              "    <tr>\n",
              "      <th>4</th>\n",
              "      <td>5</td>\n",
              "      <td>US-2015-108966</td>\n",
              "      <td>10/11/2015</td>\n",
              "      <td>10/18/2015</td>\n",
              "      <td>Standard Class</td>\n",
              "      <td>SO-20335</td>\n",
              "      <td>Sean O'Donnell</td>\n",
              "      <td>Consumer</td>\n",
              "      <td>United States</td>\n",
              "      <td>Fort Lauderdale</td>\n",
              "      <td>...</td>\n",
              "      <td>33311</td>\n",
              "      <td>South</td>\n",
              "      <td>OFF-ST-10000760</td>\n",
              "      <td>Office Supplies</td>\n",
              "      <td>Storage</td>\n",
              "      <td>Eldon Fold 'N Roll Cart System</td>\n",
              "      <td>22.3680</td>\n",
              "      <td>2</td>\n",
              "      <td>0.20</td>\n",
              "      <td>2.5164</td>\n",
              "    </tr>\n",
              "  </tbody>\n",
              "</table>\n",
              "<p>5 rows × 21 columns</p>\n",
              "</div>\n",
              "      <button class=\"colab-df-convert\" onclick=\"convertToInteractive('df-d49c198a-b899-46ea-862f-d009aaf8646b')\"\n",
              "              title=\"Convert this dataframe to an interactive table.\"\n",
              "              style=\"display:none;\">\n",
              "        \n",
              "  <svg xmlns=\"http://www.w3.org/2000/svg\" height=\"24px\"viewBox=\"0 0 24 24\"\n",
              "       width=\"24px\">\n",
              "    <path d=\"M0 0h24v24H0V0z\" fill=\"none\"/>\n",
              "    <path d=\"M18.56 5.44l.94 2.06.94-2.06 2.06-.94-2.06-.94-.94-2.06-.94 2.06-2.06.94zm-11 1L8.5 8.5l.94-2.06 2.06-.94-2.06-.94L8.5 2.5l-.94 2.06-2.06.94zm10 10l.94 2.06.94-2.06 2.06-.94-2.06-.94-.94-2.06-.94 2.06-2.06.94z\"/><path d=\"M17.41 7.96l-1.37-1.37c-.4-.4-.92-.59-1.43-.59-.52 0-1.04.2-1.43.59L10.3 9.45l-7.72 7.72c-.78.78-.78 2.05 0 2.83L4 21.41c.39.39.9.59 1.41.59.51 0 1.02-.2 1.41-.59l7.78-7.78 2.81-2.81c.8-.78.8-2.07 0-2.86zM5.41 20L4 18.59l7.72-7.72 1.47 1.35L5.41 20z\"/>\n",
              "  </svg>\n",
              "      </button>\n",
              "      \n",
              "  <style>\n",
              "    .colab-df-container {\n",
              "      display:flex;\n",
              "      flex-wrap:wrap;\n",
              "      gap: 12px;\n",
              "    }\n",
              "\n",
              "    .colab-df-convert {\n",
              "      background-color: #E8F0FE;\n",
              "      border: none;\n",
              "      border-radius: 50%;\n",
              "      cursor: pointer;\n",
              "      display: none;\n",
              "      fill: #1967D2;\n",
              "      height: 32px;\n",
              "      padding: 0 0 0 0;\n",
              "      width: 32px;\n",
              "    }\n",
              "\n",
              "    .colab-df-convert:hover {\n",
              "      background-color: #E2EBFA;\n",
              "      box-shadow: 0px 1px 2px rgba(60, 64, 67, 0.3), 0px 1px 3px 1px rgba(60, 64, 67, 0.15);\n",
              "      fill: #174EA6;\n",
              "    }\n",
              "\n",
              "    [theme=dark] .colab-df-convert {\n",
              "      background-color: #3B4455;\n",
              "      fill: #D2E3FC;\n",
              "    }\n",
              "\n",
              "    [theme=dark] .colab-df-convert:hover {\n",
              "      background-color: #434B5C;\n",
              "      box-shadow: 0px 1px 3px 1px rgba(0, 0, 0, 0.15);\n",
              "      filter: drop-shadow(0px 1px 2px rgba(0, 0, 0, 0.3));\n",
              "      fill: #FFFFFF;\n",
              "    }\n",
              "  </style>\n",
              "\n",
              "      <script>\n",
              "        const buttonEl =\n",
              "          document.querySelector('#df-d49c198a-b899-46ea-862f-d009aaf8646b button.colab-df-convert');\n",
              "        buttonEl.style.display =\n",
              "          google.colab.kernel.accessAllowed ? 'block' : 'none';\n",
              "\n",
              "        async function convertToInteractive(key) {\n",
              "          const element = document.querySelector('#df-d49c198a-b899-46ea-862f-d009aaf8646b');\n",
              "          const dataTable =\n",
              "            await google.colab.kernel.invokeFunction('convertToInteractive',\n",
              "                                                     [key], {});\n",
              "          if (!dataTable) return;\n",
              "\n",
              "          const docLinkHtml = 'Like what you see? Visit the ' +\n",
              "            '<a target=\"_blank\" href=https://colab.research.google.com/notebooks/data_table.ipynb>data table notebook</a>'\n",
              "            + ' to learn more about interactive tables.';\n",
              "          element.innerHTML = '';\n",
              "          dataTable['output_type'] = 'display_data';\n",
              "          await google.colab.output.renderOutput(dataTable, element);\n",
              "          const docLink = document.createElement('div');\n",
              "          docLink.innerHTML = docLinkHtml;\n",
              "          element.appendChild(docLink);\n",
              "        }\n",
              "      </script>\n",
              "    </div>\n",
              "  </div>\n",
              "  "
            ]
          },
          "metadata": {},
          "execution_count": 63
        }
      ],
      "source": [
        "#Import dataset\n",
        "store = pd.read_csv('/content/Sample - Superstore.csv',encoding='cp1252')\n",
        "store.head()"
      ]
    },
    {
      "cell_type": "code",
      "execution_count": null,
      "id": "3ae9f7d5",
      "metadata": {
        "execution": {
          "iopub.execute_input": "2022-10-15T12:34:58.025374Z",
          "iopub.status.busy": "2022-10-15T12:34:58.024969Z",
          "iopub.status.idle": "2022-10-15T12:34:58.032152Z",
          "shell.execute_reply": "2022-10-15T12:34:58.030936Z"
        },
        "papermill": {
          "duration": 0.027938,
          "end_time": "2022-10-15T12:34:58.034476",
          "exception": false,
          "start_time": "2022-10-15T12:34:58.006538",
          "status": "completed"
        },
        "tags": [],
        "colab": {
          "base_uri": "https://localhost:8080/"
        },
        "id": "3ae9f7d5",
        "outputId": "21ea7166-8002-4161-a9d6-5d0e20a8d0e7"
      },
      "outputs": [
        {
          "output_type": "execute_result",
          "data": {
            "text/plain": [
              "(9994, 21)"
            ]
          },
          "metadata": {},
          "execution_count": 64
        }
      ],
      "source": [
        "#Menghitung total baris dan kolom dataset\n",
        "store.shape"
      ]
    },
    {
      "cell_type": "code",
      "execution_count": null,
      "id": "f405cd98",
      "metadata": {
        "execution": {
          "iopub.execute_input": "2022-10-15T12:34:58.163606Z",
          "iopub.status.busy": "2022-10-15T12:34:58.162666Z",
          "iopub.status.idle": "2022-10-15T12:34:58.192609Z",
          "shell.execute_reply": "2022-10-15T12:34:58.191267Z"
        },
        "papermill": {
          "duration": 0.050495,
          "end_time": "2022-10-15T12:34:58.194769",
          "exception": false,
          "start_time": "2022-10-15T12:34:58.144274",
          "status": "completed"
        },
        "tags": [],
        "colab": {
          "base_uri": "https://localhost:8080/"
        },
        "id": "f405cd98",
        "outputId": "ff3f9309-e08e-4b65-d6a6-0db78eb8048d"
      },
      "outputs": [
        {
          "output_type": "stream",
          "name": "stdout",
          "text": [
            "<class 'pandas.core.frame.DataFrame'>\n",
            "RangeIndex: 9994 entries, 0 to 9993\n",
            "Data columns (total 21 columns):\n",
            " #   Column         Non-Null Count  Dtype  \n",
            "---  ------         --------------  -----  \n",
            " 0   Row ID         9994 non-null   int64  \n",
            " 1   Order ID       9994 non-null   object \n",
            " 2   Order Date     9994 non-null   object \n",
            " 3   Ship Date      9994 non-null   object \n",
            " 4   Ship Mode      9994 non-null   object \n",
            " 5   Customer ID    9994 non-null   object \n",
            " 6   Customer Name  9994 non-null   object \n",
            " 7   Segment        9994 non-null   object \n",
            " 8   Country        9994 non-null   object \n",
            " 9   City           9994 non-null   object \n",
            " 10  State          9994 non-null   object \n",
            " 11  Postal Code    9994 non-null   int64  \n",
            " 12  Region         9994 non-null   object \n",
            " 13  Product ID     9994 non-null   object \n",
            " 14  Category       9994 non-null   object \n",
            " 15  Sub-Category   9994 non-null   object \n",
            " 16  Product Name   9994 non-null   object \n",
            " 17  Sales          9994 non-null   float64\n",
            " 18  Quantity       9994 non-null   int64  \n",
            " 19  Discount       9994 non-null   float64\n",
            " 20  Profit         9994 non-null   float64\n",
            "dtypes: float64(3), int64(3), object(15)\n",
            "memory usage: 1.6+ MB\n"
          ]
        }
      ],
      "source": [
        "#Menampilkan info tabel\n",
        "store.info()"
      ]
    },
    {
      "cell_type": "code",
      "source": [
        "#Memeriksa nilai yang hilang\n",
        "store.isna().sum()"
      ],
      "metadata": {
        "colab": {
          "base_uri": "https://localhost:8080/"
        },
        "id": "7HwLxey_7Y6Q",
        "outputId": "49cd0646-1013-4865-d201-80d8b576a2b0"
      },
      "id": "7HwLxey_7Y6Q",
      "execution_count": null,
      "outputs": [
        {
          "output_type": "execute_result",
          "data": {
            "text/plain": [
              "Row ID           0\n",
              "Order ID         0\n",
              "Order Date       0\n",
              "Ship Date        0\n",
              "Ship Mode        0\n",
              "Customer ID      0\n",
              "Customer Name    0\n",
              "Segment          0\n",
              "Country          0\n",
              "City             0\n",
              "State            0\n",
              "Postal Code      0\n",
              "Region           0\n",
              "Product ID       0\n",
              "Category         0\n",
              "Sub-Category     0\n",
              "Product Name     0\n",
              "Sales            0\n",
              "Quantity         0\n",
              "Discount         0\n",
              "Profit           0\n",
              "dtype: int64"
            ]
          },
          "metadata": {},
          "execution_count": 66
        }
      ]
    },
    {
      "cell_type": "code",
      "source": [
        "#Mengecek duplikat kolom\n",
        "store.duplicated().sum()"
      ],
      "metadata": {
        "colab": {
          "base_uri": "https://localhost:8080/"
        },
        "id": "klLLjJMJtnQH",
        "outputId": "138bfbbe-7325-4f4d-f6e7-ee9f7ae94810"
      },
      "id": "klLLjJMJtnQH",
      "execution_count": null,
      "outputs": [
        {
          "output_type": "execute_result",
          "data": {
            "text/plain": [
              "0"
            ]
          },
          "metadata": {},
          "execution_count": 67
        }
      ]
    },
    {
      "cell_type": "code",
      "execution_count": null,
      "id": "195d4bb6",
      "metadata": {
        "execution": {
          "iopub.execute_input": "2022-10-15T12:34:58.269619Z",
          "iopub.status.busy": "2022-10-15T12:34:58.268548Z",
          "iopub.status.idle": "2022-10-15T12:34:58.657949Z",
          "shell.execute_reply": "2022-10-15T12:34:58.656795Z"
        },
        "papermill": {
          "duration": 0.410514,
          "end_time": "2022-10-15T12:34:58.660460",
          "exception": false,
          "start_time": "2022-10-15T12:34:58.249946",
          "status": "completed"
        },
        "tags": [],
        "colab": {
          "base_uri": "https://localhost:8080/",
          "height": 348
        },
        "id": "195d4bb6",
        "outputId": "2d890a2f-a250-4a66-b633-2508ff83693c"
      },
      "outputs": [
        {
          "output_type": "execute_result",
          "data": {
            "text/plain": [
              "<matplotlib.axes._subplots.AxesSubplot at 0x7f78c5a95700>"
            ]
          },
          "metadata": {},
          "execution_count": 68
        },
        {
          "output_type": "display_data",
          "data": {
            "text/plain": [
              "<Figure size 432x288 with 2 Axes>"
            ],
            "image/png": "[encoded data removed]"
          },
          "metadata": {
            "needs_background": "light"
          }
        }
      ],
      "source": [
        "#Menampilkan relasi kolom\n",
        "sns.heatmap(store.corr(), annot =True)"
      ]
    },
    {
      "cell_type": "code",
      "execution_count": null,
      "id": "ebd5da81",
      "metadata": {
        "execution": {
          "iopub.execute_input": "2022-10-15T12:35:18.409036Z",
          "iopub.status.busy": "2022-10-15T12:35:18.408614Z",
          "iopub.status.idle": "2022-10-15T12:35:18.418594Z",
          "shell.execute_reply": "2022-10-15T12:35:18.417413Z"
        },
        "papermill": {
          "duration": 0.035712,
          "end_time": "2022-10-15T12:35:18.421401",
          "exception": false,
          "start_time": "2022-10-15T12:35:18.385689",
          "status": "completed"
        },
        "tags": [],
        "id": "ebd5da81"
      },
      "outputs": [],
      "source": [
        "#Membuat conditional statement pada kolom profit\n",
        "p = store['Profit'].values.astype('O')\n",
        "\n",
        "for j in range(len(p)):\n",
        "    if p[j] > 0:\n",
        "        p[j] = 'Gain'\n",
        "    elif p[j] < 0:\n",
        "        p[j] = 'Loss'\n",
        "    else:\n",
        "        p[j] = 'Nil'"
      ]
    },
    {
      "cell_type": "markdown",
      "id": "0e3e2893",
      "metadata": {
        "papermill": {
          "duration": 0.021316,
          "end_time": "2022-10-15T12:35:18.465606",
          "exception": false,
          "start_time": "2022-10-15T12:35:18.444290",
          "status": "completed"
        },
        "tags": [],
        "id": "0e3e2893"
      },
      "source": [
        "#### **Column Profit**"
      ]
    },
    {
      "cell_type": "code",
      "execution_count": null,
      "id": "c8dd6f50",
      "metadata": {
        "execution": {
          "iopub.execute_input": "2022-10-15T12:35:18.510116Z",
          "iopub.status.busy": "2022-10-15T12:35:18.508989Z",
          "iopub.status.idle": "2022-10-15T12:35:18.740558Z",
          "shell.execute_reply": "2022-10-15T12:35:18.739323Z"
        },
        "papermill": {
          "duration": 0.256261,
          "end_time": "2022-10-15T12:35:18.743095",
          "exception": false,
          "start_time": "2022-10-15T12:35:18.486834",
          "status": "completed"
        },
        "tags": [],
        "colab": {
          "base_uri": "https://localhost:8080/",
          "height": 394
        },
        "id": "c8dd6f50",
        "outputId": "27f198d7-ebff-4306-fcde-e2ad2472b177"
      },
      "outputs": [
        {
          "output_type": "execute_result",
          "data": {
            "text/plain": [
              "<matplotlib.axes._subplots.AxesSubplot at 0x7f78c5a8ae20>"
            ]
          },
          "metadata": {},
          "execution_count": 70
        },
        {
          "output_type": "display_data",
          "data": {
            "text/plain": [
              "<Figure size 1080x432 with 1 Axes>"
            ],
            "image/png": "[encoded data removed]"
          },
          "metadata": {
            "needs_background": "light"
          }
        }
      ],
      "source": [
        "#Menampilkan diagram jumlah pada kolom profit\n",
        "n_bins = 20\n",
        "plt.figure(figsize = (15, 6))\n",
        "store['Profit'].hist(bins = n_bins)"
      ]
    },
    {
      "cell_type": "code",
      "execution_count": null,
      "id": "e04df7b3",
      "metadata": {
        "execution": {
          "iopub.execute_input": "2022-10-15T12:35:18.832719Z",
          "iopub.status.busy": "2022-10-15T12:35:18.831759Z",
          "iopub.status.idle": "2022-10-15T12:35:18.841266Z",
          "shell.execute_reply": "2022-10-15T12:35:18.839844Z"
        },
        "papermill": {
          "duration": 0.033286,
          "end_time": "2022-10-15T12:35:18.843518",
          "exception": false,
          "start_time": "2022-10-15T12:35:18.810232",
          "status": "completed"
        },
        "tags": [],
        "colab": {
          "base_uri": "https://localhost:8080/"
        },
        "id": "e04df7b3",
        "outputId": "742fa068-1038-42a1-9c3d-9fc015a8d178"
      },
      "outputs": [
        {
          "output_type": "stream",
          "name": "stdout",
          "text": [
            "Mean Profit: 29\n",
            "Median Profit: 9\n",
            "Highest Profit: 8400\n",
            "Lowest Profit: -6600\n"
          ]
        }
      ],
      "source": [
        "#Menampilkan Mean, Median, Maximum & Minimum kolom Profit\n",
        "print(\"Mean Profit:\", round(store['Profit'].mean()))\n",
        "\n",
        "print(\"Median Profit:\", round(store['Profit'].median()))\n",
        "\n",
        "print(\"Highest Profit:\", round(store['Profit'].max()))\n",
        "\n",
        "print(\"Lowest Profit:\", round(store['Profit'].min()))"
      ]
    },
    {
      "cell_type": "code",
      "execution_count": null,
      "id": "ef5a726a",
      "metadata": {
        "execution": {
          "iopub.execute_input": "2022-10-15T12:35:18.933620Z",
          "iopub.status.busy": "2022-10-15T12:35:18.932588Z",
          "iopub.status.idle": "2022-10-15T12:35:18.943293Z",
          "shell.execute_reply": "2022-10-15T12:35:18.942395Z"
        },
        "papermill": {
          "duration": 0.036479,
          "end_time": "2022-10-15T12:35:18.945326",
          "exception": false,
          "start_time": "2022-10-15T12:35:18.908847",
          "status": "completed"
        },
        "tags": [],
        "colab": {
          "base_uri": "https://localhost:8080/"
        },
        "id": "ef5a726a",
        "outputId": "9c097d1c-6855-4a27-baf7-736d74b6a65e"
      },
      "outputs": [
        {
          "output_type": "execute_result",
          "data": {
            "text/plain": [
              "6826    8399.9760\n",
              "8153    6719.9808\n",
              "4190    5039.9856\n",
              "9039    4946.3700\n",
              "4098    4630.4755\n",
              "Name: Profit, dtype: float64"
            ]
          },
          "metadata": {},
          "execution_count": 72
        }
      ],
      "source": [
        "#Menampilkan 5 nilai tertinggi kolom profit\n",
        "store['Profit'].sort_values(ascending = False)[:5]"
      ]
    },
    {
      "cell_type": "code",
      "execution_count": null,
      "id": "4062f5e1",
      "metadata": {
        "execution": {
          "iopub.execute_input": "2022-10-15T12:35:19.033179Z",
          "iopub.status.busy": "2022-10-15T12:35:19.032093Z",
          "iopub.status.idle": "2022-10-15T12:35:19.042779Z",
          "shell.execute_reply": "2022-10-15T12:35:19.041701Z"
        },
        "papermill": {
          "duration": 0.035762,
          "end_time": "2022-10-15T12:35:19.045056",
          "exception": false,
          "start_time": "2022-10-15T12:35:19.009294",
          "status": "completed"
        },
        "tags": [],
        "colab": {
          "base_uri": "https://localhost:8080/"
        },
        "id": "4062f5e1",
        "outputId": "a9e40fe4-44d7-436f-b97b-f75c8c6e7bb4"
      },
      "outputs": [
        {
          "output_type": "execute_result",
          "data": {
            "text/plain": [
              "7772   -6599.9780\n",
              "683    -3839.9904\n",
              "9774   -3701.8928\n",
              "3011   -3399.9800\n",
              "4991   -2929.4845\n",
              "Name: Profit, dtype: float64"
            ]
          },
          "metadata": {},
          "execution_count": 73
        }
      ],
      "source": [
        "#Menampilkan 5 nilai terendah kolom profit\n",
        "store['Profit'].sort_values()[:5]"
      ]
    },
    {
      "cell_type": "markdown",
      "id": "5f195208",
      "metadata": {
        "papermill": {
          "duration": 0.02119,
          "end_time": "2022-10-15T12:35:19.088179",
          "exception": false,
          "start_time": "2022-10-15T12:35:19.066989",
          "status": "completed"
        },
        "tags": [],
        "id": "5f195208"
      },
      "source": [
        "#### **Menampilkan kolom yang termasuk Categorical**"
      ]
    },
    {
      "cell_type": "code",
      "source": [
        "#mencari kolom yang termasuk categorical variabel\n",
        "\n",
        "categorical = [var for var in store.columns if store[var].dtype=='O']\n",
        "\n",
        "print('There are {} categorical variables\\n'.format(len(categorical)))\n",
        "\n",
        "print('The categorical variables are :\\n\\n', categorical)"
      ],
      "metadata": {
        "colab": {
          "base_uri": "https://localhost:8080/"
        },
        "id": "DH7zq5WQYDZv",
        "outputId": "2125a6eb-862f-45a4-df58-ccbc04241db8"
      },
      "id": "DH7zq5WQYDZv",
      "execution_count": null,
      "outputs": [
        {
          "output_type": "stream",
          "name": "stdout",
          "text": [
            "There are 15 categorical variables\n",
            "\n",
            "The categorical variables are :\n",
            "\n",
            " ['Order ID', 'Order Date', 'Ship Date', 'Ship Mode', 'Customer ID', 'Customer Name', 'Segment', 'Country', 'City', 'State', 'Region', 'Product ID', 'Category', 'Sub-Category', 'Product Name']\n"
          ]
        }
      ]
    },
    {
      "cell_type": "code",
      "execution_count": null,
      "id": "7a988ab9",
      "metadata": {
        "execution": {
          "iopub.execute_input": "2022-10-15T12:35:19.132485Z",
          "iopub.status.busy": "2022-10-15T12:35:19.131706Z",
          "iopub.status.idle": "2022-10-15T12:35:19.718025Z",
          "shell.execute_reply": "2022-10-15T12:35:19.717106Z"
        },
        "papermill": {
          "duration": 0.610687,
          "end_time": "2022-10-15T12:35:19.720224",
          "exception": false,
          "start_time": "2022-10-15T12:35:19.109537",
          "status": "completed"
        },
        "tags": [],
        "colab": {
          "base_uri": "https://localhost:8080/",
          "height": 534
        },
        "id": "7a988ab9",
        "outputId": "47386ce1-8822-40f9-bff6-b842cfc23000"
      },
      "outputs": [
        {
          "output_type": "execute_result",
          "data": {
            "text/plain": [
              "Text(0.5, 1.0, 'Category')"
            ]
          },
          "metadata": {},
          "execution_count": 75
        },
        {
          "output_type": "display_data",
          "data": {
            "text/plain": [
              "<Figure size 432x288 with 0 Axes>"
            ]
          },
          "metadata": {}
        },
        {
          "output_type": "display_data",
          "data": {
            "text/plain": [
              "<Figure size 1440x576 with 4 Axes>"
            ],
            "image/png": "[encoded data removed]"
          },
          "metadata": {
            "needs_background": "light"
          }
        }
      ],
      "source": [
        "plt.figure(1)\n",
        "plt.figure(figsize=(20,8))\n",
        "# Column (Ship Mode)\n",
        "plt.subplot(221)\n",
        "store['Ship Mode'].value_counts().plot(kind='bar',color='crimson',rot=0)\n",
        "plt.title('Ship Mode')\n",
        "# Column (Segment)\n",
        "plt.subplot(222)\n",
        "store['Segment'].value_counts().plot(kind='bar',color='orange',rot=0)\n",
        "plt.title('Segment')\n",
        "# Column (Region)\n",
        "plt.subplot(223)\n",
        "store['Region'].value_counts().plot(kind='bar',color='green',rot=0)\n",
        "plt.title('Region')\n",
        "# Column (Category)\n",
        "plt.subplot(224)\n",
        "store['Category'].value_counts().plot(kind='bar',color='blue',rot=0)\n",
        "plt.title('Category')"
      ]
    },
    {
      "cell_type": "markdown",
      "id": "09ace4df",
      "metadata": {
        "papermill": {
          "duration": 0.023518,
          "end_time": "2022-10-15T12:35:19.767848",
          "exception": false,
          "start_time": "2022-10-15T12:35:19.744330",
          "status": "completed"
        },
        "tags": [],
        "id": "09ace4df"
      },
      "source": [
        "\n",
        "**Plot di atas menggambarkan**\n",
        "* Pengiriman melalui Kelas Standar paling banyak digunakan.\n",
        "* Consumer paling banyak membeli produk\n",
        "* Wilayah Barat memiliki lebih banyak Pelanggan daripada wilayah lain.\n",
        "* Office Supplies adalah produk yang banyak dipesan."
      ]
    },
    {
      "cell_type": "code",
      "execution_count": null,
      "id": "4ad9602f",
      "metadata": {
        "execution": {
          "iopub.execute_input": "2022-10-15T12:35:19.816720Z",
          "iopub.status.busy": "2022-10-15T12:35:19.816279Z",
          "iopub.status.idle": "2022-10-15T12:35:20.165964Z",
          "shell.execute_reply": "2022-10-15T12:35:20.164609Z"
        },
        "papermill": {
          "duration": 0.37719,
          "end_time": "2022-10-15T12:35:20.168680",
          "exception": false,
          "start_time": "2022-10-15T12:35:19.791490",
          "status": "completed"
        },
        "tags": [],
        "colab": {
          "base_uri": "https://localhost:8080/",
          "height": 411
        },
        "id": "4ad9602f",
        "outputId": "1b9d5396-c32b-4187-eafe-2d1fc46b3eae"
      },
      "outputs": [
        {
          "output_type": "execute_result",
          "data": {
            "text/plain": [
              "Text(0.5, 1.0, 'Sub-Category')"
            ]
          },
          "metadata": {},
          "execution_count": 76
        },
        {
          "output_type": "display_data",
          "data": {
            "text/plain": [
              "<Figure size 1224x432 with 1 Axes>"
            ],
            "image/png": "[encoded data removed]"
          },
          "metadata": {
            "needs_background": "light"
          }
        }
      ],
      "source": [
        "# Column (Sub-Category)\n",
        "plt.figure(figsize=(17,6))\n",
        "store['Sub-Category'].value_counts().plot(kind='bar',color='red',rot=0)\n",
        "plt.title('Sub-Category')"
      ]
    },
    {
      "cell_type": "markdown",
      "id": "f602f823",
      "metadata": {
        "papermill": {
          "duration": 0.024958,
          "end_time": "2022-10-15T12:35:20.218185",
          "exception": false,
          "start_time": "2022-10-15T12:35:20.193227",
          "status": "completed"
        },
        "tags": [],
        "id": "f602f823"
      },
      "source": [
        "Sub-category yang banyak dipesan adalah Binders"
      ]
    },
    {
      "cell_type": "markdown",
      "id": "715341f5",
      "metadata": {
        "papermill": {
          "duration": 0.023537,
          "end_time": "2022-10-15T12:35:20.265626",
          "exception": false,
          "start_time": "2022-10-15T12:35:20.242089",
          "status": "completed"
        },
        "tags": [],
        "id": "715341f5"
      },
      "source": [
        "#### **Menampilkan kolom yang termasuk Numerical**"
      ]
    },
    {
      "cell_type": "code",
      "source": [
        "#mencari numerical variables\n",
        "\n",
        "numerical = [var for var in store.columns if store[var].dtype!='O']\n",
        "\n",
        "print('There are {} numerical variables\\n'.format(len(numerical)))\n",
        "\n",
        "print('The numerical variables are :', numerical)"
      ],
      "metadata": {
        "colab": {
          "base_uri": "https://localhost:8080/"
        },
        "id": "UPW0mqRdaoTE",
        "outputId": "956e8fac-295a-4e88-b928-2437f3bfb455"
      },
      "id": "UPW0mqRdaoTE",
      "execution_count": null,
      "outputs": [
        {
          "output_type": "stream",
          "name": "stdout",
          "text": [
            "There are 6 numerical variables\n",
            "\n",
            "The numerical variables are : ['Row ID', 'Postal Code', 'Sales', 'Quantity', 'Discount', 'Profit']\n"
          ]
        }
      ]
    },
    {
      "cell_type": "code",
      "execution_count": null,
      "id": "0b66ba5f",
      "metadata": {
        "execution": {
          "iopub.execute_input": "2022-10-15T12:35:20.314097Z",
          "iopub.status.busy": "2022-10-15T12:35:20.313683Z",
          "iopub.status.idle": "2022-10-15T12:35:21.097312Z",
          "shell.execute_reply": "2022-10-15T12:35:21.096177Z"
        },
        "papermill": {
          "duration": 0.810753,
          "end_time": "2022-10-15T12:35:21.099649",
          "exception": false,
          "start_time": "2022-10-15T12:35:20.288896",
          "status": "completed"
        },
        "tags": [],
        "colab": {
          "base_uri": "https://localhost:8080/",
          "height": 424
        },
        "id": "0b66ba5f",
        "outputId": "86f640ef-6445-47dc-af55-eda1a8561a0d"
      },
      "outputs": [
        {
          "output_type": "display_data",
          "data": {
            "text/plain": [
              "<Figure size 432x288 with 0 Axes>"
            ]
          },
          "metadata": {}
        },
        {
          "output_type": "display_data",
          "data": {
            "text/plain": [
              "<Figure size 1440x432 with 3 Axes>"
            ],
            "image/png": "[encoded data removed]"
          },
          "metadata": {
            "needs_background": "light"
          }
        }
      ],
      "source": [
        "plt.figure(1)\n",
        "plt.figure(figsize=(20,6))\n",
        "plt.subplots_adjust(left=0.1,bottom=0.1,right=0.9,top=0.9,wspace=0.2,hspace=0.4)\n",
        "# Column (Sales)\n",
        "plt.subplot(221)\n",
        "sns.distplot(store['Sales'])\n",
        "plt.title('Sales')\n",
        "# Column (Quantity)\n",
        "plt.subplot(222)\n",
        "sns.distplot(store['Quantity'])\n",
        "plt.title('Quantity')\n",
        "# Column (Discount)\n",
        "plt.subplot(223)\n",
        "sns.distplot(store['Discount'])\n",
        "plt.title('Discount')\n",
        "plt.show()"
      ]
    },
    {
      "cell_type": "markdown",
      "id": "d53838ca",
      "metadata": {
        "papermill": {
          "duration": 0.024478,
          "end_time": "2022-10-15T12:35:21.148446",
          "exception": false,
          "start_time": "2022-10-15T12:35:21.123968",
          "status": "completed"
        },
        "tags": [],
        "id": "d53838ca"
      },
      "source": [
        "#### **Membandingkan Target Column dan Categorical Column**"
      ]
    },
    {
      "cell_type": "code",
      "execution_count": null,
      "id": "b7f201e0",
      "metadata": {
        "execution": {
          "iopub.execute_input": "2022-10-15T12:35:21.197963Z",
          "iopub.status.busy": "2022-10-15T12:35:21.197519Z",
          "iopub.status.idle": "2022-10-15T12:35:22.482295Z",
          "shell.execute_reply": "2022-10-15T12:35:22.481010Z"
        },
        "papermill": {
          "duration": 1.312532,
          "end_time": "2022-10-15T12:35:22.484742",
          "exception": false,
          "start_time": "2022-10-15T12:35:21.172210",
          "status": "completed"
        },
        "tags": [],
        "colab": {
          "base_uri": "https://localhost:8080/",
          "height": 560
        },
        "id": "b7f201e0",
        "outputId": "fce467b1-a9c0-4b3f-db62-c81327268236"
      },
      "outputs": [
        {
          "output_type": "execute_result",
          "data": {
            "text/plain": [
              "Text(0.5, 1.0, 'Category vs Profit')"
            ]
          },
          "metadata": {},
          "execution_count": 79
        },
        {
          "output_type": "display_data",
          "data": {
            "text/plain": [
              "<Figure size 432x288 with 0 Axes>"
            ]
          },
          "metadata": {}
        },
        {
          "output_type": "display_data",
          "data": {
            "text/plain": [
              "<Figure size 1440x576 with 4 Axes>"
            ],
            "image/png": "[encoded data removed]"
          },
          "metadata": {
            "needs_background": "light"
          }
        }
      ],
      "source": [
        "plt.figure(1)\n",
        "plt.figure(figsize = (20, 8))\n",
        "plt.subplots_adjust(left=0.1,bottom=0.1,right=0.9,top=0.9,wspace=0.2,hspace=0.4)\n",
        "# Column (Ship Mode vs Profit)\n",
        "plt.subplot(221)\n",
        "sns.barplot(x = store['Ship Mode'], y = store['Profit'], palette = \"nipy_spectral\")\n",
        "plt.title('Ship Mode vs Profit')\n",
        "# Column (Segment vs Profit)\n",
        "plt.subplot(222)\n",
        "sns.barplot(x = store['Segment'], y = store['Profit'], palette = \"nipy_spectral\")\n",
        "plt.title('Segment vs Profit')\n",
        "# Column (Region vs Profit)\n",
        "plt.subplot(223)\n",
        "sns.barplot(x = store['Region'], y = store['Profit'], palette = \"nipy_spectral\")\n",
        "plt.title('Region vs Profit')\n",
        "# Column (Category vs Profit)\n",
        "plt.subplot(224)\n",
        "sns.barplot(x = store['Category'], y = store['Profit'], palette = \"nipy_spectral\")\n",
        "plt.title('Category vs Profit')"
      ]
    },
    {
      "cell_type": "markdown",
      "id": "3ab2c144",
      "metadata": {
        "papermill": {
          "duration": 0.02421,
          "end_time": "2022-10-15T12:35:22.532907",
          "exception": false,
          "start_time": "2022-10-15T12:35:22.508697",
          "status": "completed"
        },
        "tags": [],
        "id": "3ab2c144"
      },
      "source": [
        "**Dari plot diatas dapat dilihat**\n",
        "* Mode pengiriman First Class memiliki keuntungan yang sedikit lebih tinggi daripada mode pengiriman lainnya.\n",
        "* Pelanggan tipe Home Office menghasilkan lebih banyak keuntungan.\n",
        "* Keuntungan lebih banyak di wilayah barat.\n",
        "* Produk teknologi memiliki keuntungan yang tinggi."
      ]
    },
    {
      "cell_type": "code",
      "execution_count": null,
      "id": "bbef3a3f",
      "metadata": {
        "execution": {
          "iopub.execute_input": "2022-10-15T12:35:22.582176Z",
          "iopub.status.busy": "2022-10-15T12:35:22.581473Z",
          "iopub.status.idle": "2022-10-15T12:35:23.393954Z",
          "shell.execute_reply": "2022-10-15T12:35:23.392833Z"
        },
        "papermill": {
          "duration": 0.840045,
          "end_time": "2022-10-15T12:35:23.396318",
          "exception": false,
          "start_time": "2022-10-15T12:35:22.556273",
          "status": "completed"
        },
        "tags": [],
        "colab": {
          "base_uri": "https://localhost:8080/",
          "height": 419
        },
        "id": "bbef3a3f",
        "outputId": "908d3a5c-263b-41d8-dc56-6a3ac8672b80"
      },
      "outputs": [
        {
          "output_type": "execute_result",
          "data": {
            "text/plain": [
              "Text(0.5, 1.0, 'Sub-Category')"
            ]
          },
          "metadata": {},
          "execution_count": 80
        },
        {
          "output_type": "display_data",
          "data": {
            "text/plain": [
              "<Figure size 1440x432 with 1 Axes>"
            ],
            "image/png": "[encoded data removed]"
          },
          "metadata": {
            "needs_background": "light"
          }
        }
      ],
      "source": [
        "# Column (Sub-Category vs Profit)\n",
        "plt.figure(figsize=(20,6))\n",
        "sns.barplot(x = store['Sub-Category'], y = store['Profit'], palette = \"nipy_spectral\")\n",
        "plt.title('Sub-Category')"
      ]
    },
    {
      "cell_type": "markdown",
      "id": "c206d135",
      "metadata": {
        "papermill": {
          "duration": 0.026959,
          "end_time": "2022-10-15T12:35:23.448157",
          "exception": false,
          "start_time": "2022-10-15T12:35:23.421198",
          "status": "completed"
        },
        "tags": [],
        "id": "c206d135"
      },
      "source": [
        "#### **Membandingkan Target Column dan Numerical Column**"
      ]
    },
    {
      "cell_type": "code",
      "execution_count": null,
      "id": "ab36e5b6",
      "metadata": {
        "execution": {
          "iopub.execute_input": "2022-10-15T12:35:23.500125Z",
          "iopub.status.busy": "2022-10-15T12:35:23.499706Z",
          "iopub.status.idle": "2022-10-15T12:35:24.097145Z",
          "shell.execute_reply": "2022-10-15T12:35:24.095836Z"
        },
        "papermill": {
          "duration": 0.625837,
          "end_time": "2022-10-15T12:35:24.099908",
          "exception": false,
          "start_time": "2022-10-15T12:35:23.474071",
          "status": "completed"
        },
        "tags": [],
        "colab": {
          "base_uri": "https://localhost:8080/",
          "height": 417
        },
        "id": "ab36e5b6",
        "outputId": "e60bb9d2-2451-4819-81d6-825e06af0234"
      },
      "outputs": [
        {
          "output_type": "execute_result",
          "data": {
            "text/plain": [
              "Text(0, 0.5, 'Profit')"
            ]
          },
          "metadata": {},
          "execution_count": 81
        },
        {
          "output_type": "display_data",
          "data": {
            "text/plain": [
              "<Figure size 432x288 with 0 Axes>"
            ]
          },
          "metadata": {}
        },
        {
          "output_type": "display_data",
          "data": {
            "text/plain": [
              "<Figure size 1440x432 with 3 Axes>"
            ],
            "image/png": "[encoded data removed]"
          },
          "metadata": {
            "needs_background": "light"
          }
        }
      ],
      "source": [
        "plt.figure(1)\n",
        "plt.figure(figsize = (20, 6))\n",
        "# Column (Sales vs Profit)\n",
        "plt.subplot(221)\n",
        "plt.ticklabel_format(style = 'plain')\n",
        "plt.scatter(store['Sales'], store['Profit'])\n",
        "plt.xlabel('Sales')\n",
        "plt.ylabel('Profit')\n",
        "# Column (Quantity vs Profit)\n",
        "plt.subplot(222)\n",
        "plt.ticklabel_format(style = 'plain')\n",
        "plt.scatter(store['Quantity'], store['Profit'])\n",
        "plt.xlabel('Quantity')\n",
        "plt.ylabel('Profit')\n",
        "# Column (Discount vs Profit)\n",
        "plt.subplot(223)\n",
        "plt.ticklabel_format(style = 'plain')\n",
        "plt.scatter(store['Discount'], store['Profit'])\n",
        "plt.xlabel('Discount')\n",
        "plt.ylabel('Profit')"
      ]
    },
    {
      "cell_type": "markdown",
      "id": "2ab7a850",
      "metadata": {
        "papermill": {
          "duration": 0.024183,
          "end_time": "2022-10-15T12:35:24.149073",
          "exception": false,
          "start_time": "2022-10-15T12:35:24.124890",
          "status": "completed"
        },
        "tags": [],
        "id": "2ab7a850"
      },
      "source": [
        "### Menyikirkan Outliner dengan menggunakan boxplot"
      ]
    },
    {
      "cell_type": "code",
      "execution_count": null,
      "id": "f7dc242d",
      "metadata": {
        "execution": {
          "iopub.execute_input": "2022-10-15T12:35:24.199859Z",
          "iopub.status.busy": "2022-10-15T12:35:24.199459Z",
          "iopub.status.idle": "2022-10-15T12:35:24.212833Z",
          "shell.execute_reply": "2022-10-15T12:35:24.211785Z"
        },
        "papermill": {
          "duration": 0.041573,
          "end_time": "2022-10-15T12:35:24.214985",
          "exception": false,
          "start_time": "2022-10-15T12:35:24.173412",
          "status": "completed"
        },
        "tags": [],
        "colab": {
          "base_uri": "https://localhost:8080/",
          "height": 206
        },
        "id": "f7dc242d",
        "outputId": "7c2db7c6-96cc-42cd-eb56-6bd71c0242fe"
      },
      "outputs": [
        {
          "output_type": "execute_result",
          "data": {
            "text/plain": [
              "      Sales  Quantity  Discount    Profit\n",
              "0  261.9600         2      0.00   41.9136\n",
              "1  731.9400         3      0.00  219.5820\n",
              "2   14.6200         2      0.00    6.8714\n",
              "3  957.5775         5      0.45 -383.0310\n",
              "4   22.3680         2      0.20    2.5164"
            ],
            "text/html": [
              "\n",
              "  <div id=\"df-ea4ac036-6800-443f-8102-e9030b8e88f6\">\n",
              "    <div class=\"colab-df-container\">\n",
              "      <div>\n",
              "<style scoped>\n",
              "    .dataframe tbody tr th:only-of-type {\n",
              "        vertical-align: middle;\n",
              "    }\n",
              "\n",
              "    .dataframe tbody tr th {\n",
              "        vertical-align: top;\n",
              "    }\n",
              "\n",
              "    .dataframe thead th {\n",
              "        text-align: right;\n",
              "    }\n",
              "</style>\n",
              "<table border=\"1\" class=\"dataframe\">\n",
              "  <thead>\n",
              "    <tr style=\"text-align: right;\">\n",
              "      <th></th>\n",
              "      <th>Sales</th>\n",
              "      <th>Quantity</th>\n",
              "      <th>Discount</th>\n",
              "      <th>Profit</th>\n",
              "    </tr>\n",
              "  </thead>\n",
              "  <tbody>\n",
              "    <tr>\n",
              "      <th>0</th>\n",
              "      <td>261.9600</td>\n",
              "      <td>2</td>\n",
              "      <td>0.00</td>\n",
              "      <td>41.9136</td>\n",
              "    </tr>\n",
              "    <tr>\n",
              "      <th>1</th>\n",
              "      <td>731.9400</td>\n",
              "      <td>3</td>\n",
              "      <td>0.00</td>\n",
              "      <td>219.5820</td>\n",
              "    </tr>\n",
              "    <tr>\n",
              "      <th>2</th>\n",
              "      <td>14.6200</td>\n",
              "      <td>2</td>\n",
              "      <td>0.00</td>\n",
              "      <td>6.8714</td>\n",
              "    </tr>\n",
              "    <tr>\n",
              "      <th>3</th>\n",
              "      <td>957.5775</td>\n",
              "      <td>5</td>\n",
              "      <td>0.45</td>\n",
              "      <td>-383.0310</td>\n",
              "    </tr>\n",
              "    <tr>\n",
              "      <th>4</th>\n",
              "      <td>22.3680</td>\n",
              "      <td>2</td>\n",
              "      <td>0.20</td>\n",
              "      <td>2.5164</td>\n",
              "    </tr>\n",
              "  </tbody>\n",
              "</table>\n",
              "</div>\n",
              "      <button class=\"colab-df-convert\" onclick=\"convertToInteractive('df-ea4ac036-6800-443f-8102-e9030b8e88f6')\"\n",
              "              title=\"Convert this dataframe to an interactive table.\"\n",
              "              style=\"display:none;\">\n",
              "        \n",
              "  <svg xmlns=\"http://www.w3.org/2000/svg\" height=\"24px\"viewBox=\"0 0 24 24\"\n",
              "       width=\"24px\">\n",
              "    <path d=\"M0 0h24v24H0V0z\" fill=\"none\"/>\n",
              "    <path d=\"M18.56 5.44l.94 2.06.94-2.06 2.06-.94-2.06-.94-.94-2.06-.94 2.06-2.06.94zm-11 1L8.5 8.5l.94-2.06 2.06-.94-2.06-.94L8.5 2.5l-.94 2.06-2.06.94zm10 10l.94 2.06.94-2.06 2.06-.94-2.06-.94-.94-2.06-.94 2.06-2.06.94z\"/><path d=\"M17.41 7.96l-1.37-1.37c-.4-.4-.92-.59-1.43-.59-.52 0-1.04.2-1.43.59L10.3 9.45l-7.72 7.72c-.78.78-.78 2.05 0 2.83L4 21.41c.39.39.9.59 1.41.59.51 0 1.02-.2 1.41-.59l7.78-7.78 2.81-2.81c.8-.78.8-2.07 0-2.86zM5.41 20L4 18.59l7.72-7.72 1.47 1.35L5.41 20z\"/>\n",
              "  </svg>\n",
              "      </button>\n",
              "      \n",
              "  <style>\n",
              "    .colab-df-container {\n",
              "      display:flex;\n",
              "      flex-wrap:wrap;\n",
              "      gap: 12px;\n",
              "    }\n",
              "\n",
              "    .colab-df-convert {\n",
              "      background-color: #E8F0FE;\n",
              "      border: none;\n",
              "      border-radius: 50%;\n",
              "      cursor: pointer;\n",
              "      display: none;\n",
              "      fill: #1967D2;\n",
              "      height: 32px;\n",
              "      padding: 0 0 0 0;\n",
              "      width: 32px;\n",
              "    }\n",
              "\n",
              "    .colab-df-convert:hover {\n",
              "      background-color: #E2EBFA;\n",
              "      box-shadow: 0px 1px 2px rgba(60, 64, 67, 0.3), 0px 1px 3px 1px rgba(60, 64, 67, 0.15);\n",
              "      fill: #174EA6;\n",
              "    }\n",
              "\n",
              "    [theme=dark] .colab-df-convert {\n",
              "      background-color: #3B4455;\n",
              "      fill: #D2E3FC;\n",
              "    }\n",
              "\n",
              "    [theme=dark] .colab-df-convert:hover {\n",
              "      background-color: #434B5C;\n",
              "      box-shadow: 0px 1px 3px 1px rgba(0, 0, 0, 0.15);\n",
              "      filter: drop-shadow(0px 1px 2px rgba(0, 0, 0, 0.3));\n",
              "      fill: #FFFFFF;\n",
              "    }\n",
              "  </style>\n",
              "\n",
              "      <script>\n",
              "        const buttonEl =\n",
              "          document.querySelector('#df-ea4ac036-6800-443f-8102-e9030b8e88f6 button.colab-df-convert');\n",
              "        buttonEl.style.display =\n",
              "          google.colab.kernel.accessAllowed ? 'block' : 'none';\n",
              "\n",
              "        async function convertToInteractive(key) {\n",
              "          const element = document.querySelector('#df-ea4ac036-6800-443f-8102-e9030b8e88f6');\n",
              "          const dataTable =\n",
              "            await google.colab.kernel.invokeFunction('convertToInteractive',\n",
              "                                                     [key], {});\n",
              "          if (!dataTable) return;\n",
              "\n",
              "          const docLinkHtml = 'Like what you see? Visit the ' +\n",
              "            '<a target=\"_blank\" href=https://colab.research.google.com/notebooks/data_table.ipynb>data table notebook</a>'\n",
              "            + ' to learn more about interactive tables.';\n",
              "          element.innerHTML = '';\n",
              "          dataTable['output_type'] = 'display_data';\n",
              "          await google.colab.output.renderOutput(dataTable, element);\n",
              "          const docLink = document.createElement('div');\n",
              "          docLink.innerHTML = docLinkHtml;\n",
              "          element.appendChild(docLink);\n",
              "        }\n",
              "      </script>\n",
              "    </div>\n",
              "  </div>\n",
              "  "
            ]
          },
          "metadata": {},
          "execution_count": 82
        }
      ],
      "source": [
        "ot_store = store[['Sales','Quantity','Discount','Profit']]\n",
        "ot_store.head()"
      ]
    },
    {
      "cell_type": "code",
      "execution_count": null,
      "id": "902a9c87",
      "metadata": {
        "execution": {
          "iopub.execute_input": "2022-10-15T12:35:24.266032Z",
          "iopub.status.busy": "2022-10-15T12:35:24.265026Z",
          "iopub.status.idle": "2022-10-15T12:35:24.294541Z",
          "shell.execute_reply": "2022-10-15T12:35:24.293417Z"
        },
        "papermill": {
          "duration": 0.057277,
          "end_time": "2022-10-15T12:35:24.296951",
          "exception": false,
          "start_time": "2022-10-15T12:35:24.239674",
          "status": "completed"
        },
        "tags": [],
        "id": "902a9c87"
      },
      "outputs": [],
      "source": [
        "fitted_data1, fitted_lambda = stats.boxcox(ot_store['Sales'])\n",
        "store['Sales']=fitted_data1\n",
        "fitted_data2, fitted_lambda = stats.boxcox(ot_store['Quantity'])\n",
        "store['Quantity']=fitted_data2"
      ]
    },
    {
      "cell_type": "code",
      "execution_count": null,
      "id": "a2631181",
      "metadata": {
        "execution": {
          "iopub.execute_input": "2022-10-15T12:35:24.346590Z",
          "iopub.status.busy": "2022-10-15T12:35:24.346179Z",
          "iopub.status.idle": "2022-10-15T12:35:24.650816Z",
          "shell.execute_reply": "2022-10-15T12:35:24.649780Z"
        },
        "papermill": {
          "duration": 0.332174,
          "end_time": "2022-10-15T12:35:24.653391",
          "exception": false,
          "start_time": "2022-10-15T12:35:24.321217",
          "status": "completed"
        },
        "tags": [],
        "colab": {
          "base_uri": "https://localhost:8080/",
          "height": 412
        },
        "id": "a2631181",
        "outputId": "c1381cdb-39ee-413d-a8ba-a7aa2e3c13f0"
      },
      "outputs": [
        {
          "output_type": "execute_result",
          "data": {
            "text/plain": [
              "<matplotlib.axes._subplots.AxesSubplot at 0x7f78c5bceb20>"
            ]
          },
          "metadata": {},
          "execution_count": 84
        },
        {
          "output_type": "display_data",
          "data": {
            "text/plain": [
              "<Figure size 432x288 with 0 Axes>"
            ]
          },
          "metadata": {}
        },
        {
          "output_type": "display_data",
          "data": {
            "text/plain": [
              "<Figure size 1440x432 with 2 Axes>"
            ],
            "image/png": "[encoded data removed]"
          },
          "metadata": {
            "needs_background": "light"
          }
        }
      ],
      "source": [
        "plt.figure(1)\n",
        "plt.figure(figsize = (20, 6))\n",
        "plt.subplot(121)\n",
        "store['Sales'].plot(kind='box')\n",
        "plt.subplot(122)\n",
        "store['Quantity'].plot(kind='box')"
      ]
    },
    {
      "cell_type": "markdown",
      "id": "2420775d",
      "metadata": {
        "papermill": {
          "duration": 0.025841,
          "end_time": "2022-10-15T12:35:24.756032",
          "exception": false,
          "start_time": "2022-10-15T12:35:24.730191",
          "status": "completed"
        },
        "tags": [],
        "id": "2420775d"
      },
      "source": [
        "## **Model Klasifikasi**"
      ]
    },
    {
      "cell_type": "markdown",
      "id": "039f1564",
      "metadata": {
        "papermill": {
          "duration": 0.024538,
          "end_time": "2022-10-15T12:35:24.807708",
          "exception": false,
          "start_time": "2022-10-15T12:35:24.783170",
          "status": "completed"
        },
        "tags": [],
        "id": "039f1564"
      },
      "source": [
        "#### **Kolom target yaitu Output_Profit yang dijadikan sebagai model klasifikasi**"
      ]
    },
    {
      "cell_type": "code",
      "execution_count": null,
      "id": "a88d61aa",
      "metadata": {
        "execution": {
          "iopub.execute_input": "2022-10-15T12:35:24.859081Z",
          "iopub.status.busy": "2022-10-15T12:35:24.858614Z",
          "iopub.status.idle": "2022-10-15T12:35:24.869592Z",
          "shell.execute_reply": "2022-10-15T12:35:24.868776Z"
        },
        "papermill": {
          "duration": 0.03927,
          "end_time": "2022-10-15T12:35:24.871547",
          "exception": false,
          "start_time": "2022-10-15T12:35:24.832277",
          "status": "completed"
        },
        "tags": [],
        "colab": {
          "base_uri": "https://localhost:8080/"
        },
        "id": "a88d61aa",
        "outputId": "32b1fb33-41ad-48ed-a536-83ccc08fd006"
      },
      "outputs": [
        {
          "output_type": "execute_result",
          "data": {
            "text/plain": [
              "{'Gain': 8058, 'Loss': 1871, 'Nil': 65}"
            ]
          },
          "metadata": {},
          "execution_count": 85
        }
      ],
      "source": [
        "#Menampilkan jumlah pembagian kolom profit\n",
        "unique, counts = np.unique(p, return_counts=True)\n",
        "dict(zip(unique, counts))"
      ]
    },
    {
      "cell_type": "code",
      "execution_count": null,
      "id": "b396202a",
      "metadata": {
        "execution": {
          "iopub.execute_input": "2022-10-15T12:35:24.924016Z",
          "iopub.status.busy": "2022-10-15T12:35:24.923376Z",
          "iopub.status.idle": "2022-10-15T12:35:24.928095Z",
          "shell.execute_reply": "2022-10-15T12:35:24.927404Z"
        },
        "papermill": {
          "duration": 0.03381,
          "end_time": "2022-10-15T12:35:24.930139",
          "exception": false,
          "start_time": "2022-10-15T12:35:24.896329",
          "status": "completed"
        },
        "tags": [],
        "id": "b396202a"
      },
      "outputs": [],
      "source": [
        "store['Output_Profit']=p"
      ]
    },
    {
      "cell_type": "code",
      "execution_count": null,
      "id": "ab2e0f6c",
      "metadata": {
        "execution": {
          "iopub.execute_input": "2022-10-15T12:35:24.981174Z",
          "iopub.status.busy": "2022-10-15T12:35:24.980784Z",
          "iopub.status.idle": "2022-10-15T12:35:24.990732Z",
          "shell.execute_reply": "2022-10-15T12:35:24.989957Z"
        },
        "papermill": {
          "duration": 0.038293,
          "end_time": "2022-10-15T12:35:24.993004",
          "exception": false,
          "start_time": "2022-10-15T12:35:24.954711",
          "status": "completed"
        },
        "tags": [],
        "id": "ab2e0f6c"
      },
      "outputs": [],
      "source": [
        "store = store.drop(['Profit'],axis=1)"
      ]
    },
    {
      "cell_type": "code",
      "execution_count": null,
      "id": "08acf889",
      "metadata": {
        "execution": {
          "iopub.execute_input": "2022-10-15T12:35:25.044798Z",
          "iopub.status.busy": "2022-10-15T12:35:25.044020Z",
          "iopub.status.idle": "2022-10-15T12:35:25.066608Z",
          "shell.execute_reply": "2022-10-15T12:35:25.065442Z"
        },
        "papermill": {
          "duration": 0.05107,
          "end_time": "2022-10-15T12:35:25.068938",
          "exception": false,
          "start_time": "2022-10-15T12:35:25.017868",
          "status": "completed"
        },
        "tags": [],
        "colab": {
          "base_uri": "https://localhost:8080/",
          "height": 629
        },
        "id": "08acf889",
        "outputId": "d9ca357e-0602-4aa8-d874-8e6a569f3a58"
      },
      "outputs": [
        {
          "output_type": "execute_result",
          "data": {
            "text/plain": [
              "   Row ID        Order ID  Order Date   Ship Date       Ship Mode Customer ID  \\\n",
              "0       1  CA-2016-152156   11/8/2016  11/11/2016    Second Class    CG-12520   \n",
              "1       2  CA-2016-152156   11/8/2016  11/11/2016    Second Class    CG-12520   \n",
              "2       3  CA-2016-138688   6/12/2016   6/16/2016    Second Class    DV-13045   \n",
              "3       4  US-2015-108966  10/11/2015  10/18/2015  Standard Class    SO-20335   \n",
              "4       5  US-2015-108966  10/11/2015  10/18/2015  Standard Class    SO-20335   \n",
              "\n",
              "     Customer Name    Segment        Country             City  ...  \\\n",
              "0      Claire Gute   Consumer  United States        Henderson  ...   \n",
              "1      Claire Gute   Consumer  United States        Henderson  ...   \n",
              "2  Darrin Van Huff  Corporate  United States      Los Angeles  ...   \n",
              "3   Sean O'Donnell   Consumer  United States  Fort Lauderdale  ...   \n",
              "4   Sean O'Donnell   Consumer  United States  Fort Lauderdale  ...   \n",
              "\n",
              "  Postal Code  Region       Product ID         Category Sub-Category  \\\n",
              "0       42420   South  FUR-BO-10001798        Furniture    Bookcases   \n",
              "1       42420   South  FUR-CH-10000454        Furniture       Chairs   \n",
              "2       90036    West  OFF-LA-10000240  Office Supplies       Labels   \n",
              "3       33311   South  FUR-TA-10000577        Furniture       Tables   \n",
              "4       33311   South  OFF-ST-10000760  Office Supplies      Storage   \n",
              "\n",
              "                                        Product Name     Sales  Quantity  \\\n",
              "0                  Bush Somerset Collection Bookcase  4.866793  0.717567   \n",
              "1  Hon Deluxe Fabric Upholstered Stacking Chairs,...  5.627292  1.160800   \n",
              "2  Self-Adhesive Address Labels for Typewriters b...  2.511953  0.717567   \n",
              "3      Bretford CR4500 Series Slim Rectangular Table  5.819876  1.745231   \n",
              "4                     Eldon Fold 'N Roll Cart System  2.880434  0.717567   \n",
              "\n",
              "   Discount  Output_Profit  \n",
              "0      0.00           Gain  \n",
              "1      0.00           Gain  \n",
              "2      0.00           Gain  \n",
              "3      0.45           Loss  \n",
              "4      0.20           Gain  \n",
              "\n",
              "[5 rows x 21 columns]"
            ],
            "text/html": [
              "\n",
              "  <div id=\"df-b87a1e95-d402-408d-b6ff-fa8d2b7e672e\">\n",
              "    <div class=\"colab-df-container\">\n",
              "      <div>\n",
              "<style scoped>\n",
              "    .dataframe tbody tr th:only-of-type {\n",
              "        vertical-align: middle;\n",
              "    }\n",
              "\n",
              "    .dataframe tbody tr th {\n",
              "        vertical-align: top;\n",
              "    }\n",
              "\n",
              "    .dataframe thead th {\n",
              "        text-align: right;\n",
              "    }\n",
              "</style>\n",
              "<table border=\"1\" class=\"dataframe\">\n",
              "  <thead>\n",
              "    <tr style=\"text-align: right;\">\n",
              "      <th></th>\n",
              "      <th>Row ID</th>\n",
              "      <th>Order ID</th>\n",
              "      <th>Order Date</th>\n",
              "      <th>Ship Date</th>\n",
              "      <th>Ship Mode</th>\n",
              "      <th>Customer ID</th>\n",
              "      <th>Customer Name</th>\n",
              "      <th>Segment</th>\n",
              "      <th>Country</th>\n",
              "      <th>City</th>\n",
              "      <th>...</th>\n",
              "      <th>Postal Code</th>\n",
              "      <th>Region</th>\n",
              "      <th>Product ID</th>\n",
              "      <th>Category</th>\n",
              "      <th>Sub-Category</th>\n",
              "      <th>Product Name</th>\n",
              "      <th>Sales</th>\n",
              "      <th>Quantity</th>\n",
              "      <th>Discount</th>\n",
              "      <th>Output_Profit</th>\n",
              "    </tr>\n",
              "  </thead>\n",
              "  <tbody>\n",
              "    <tr>\n",
              "      <th>0</th>\n",
              "      <td>1</td>\n",
              "      <td>CA-2016-152156</td>\n",
              "      <td>11/8/2016</td>\n",
              "      <td>11/11/2016</td>\n",
              "      <td>Second Class</td>\n",
              "      <td>CG-12520</td>\n",
              "      <td>Claire Gute</td>\n",
              "      <td>Consumer</td>\n",
              "      <td>United States</td>\n",
              "      <td>Henderson</td>\n",
              "      <td>...</td>\n",
              "      <td>42420</td>\n",
              "      <td>South</td>\n",
              "      <td>FUR-BO-10001798</td>\n",
              "      <td>Furniture</td>\n",
              "      <td>Bookcases</td>\n",
              "      <td>Bush Somerset Collection Bookcase</td>\n",
              "      <td>4.866793</td>\n",
              "      <td>0.717567</td>\n",
              "      <td>0.00</td>\n",
              "      <td>Gain</td>\n",
              "    </tr>\n",
              "    <tr>\n",
              "      <th>1</th>\n",
              "      <td>2</td>\n",
              "      <td>CA-2016-152156</td>\n",
              "      <td>11/8/2016</td>\n",
              "      <td>11/11/2016</td>\n",
              "      <td>Second Class</td>\n",
              "      <td>CG-12520</td>\n",
              "      <td>Claire Gute</td>\n",
              "      <td>Consumer</td>\n",
              "      <td>United States</td>\n",
              "      <td>Henderson</td>\n",
              "      <td>...</td>\n",
              "      <td>42420</td>\n",
              "      <td>South</td>\n",
              "      <td>FUR-CH-10000454</td>\n",
              "      <td>Furniture</td>\n",
              "      <td>Chairs</td>\n",
              "      <td>Hon Deluxe Fabric Upholstered Stacking Chairs,...</td>\n",
              "      <td>5.627292</td>\n",
              "      <td>1.160800</td>\n",
              "      <td>0.00</td>\n",
              "      <td>Gain</td>\n",
              "    </tr>\n",
              "    <tr>\n",
              "      <th>2</th>\n",
              "      <td>3</td>\n",
              "      <td>CA-2016-138688</td>\n",
              "      <td>6/12/2016</td>\n",
              "      <td>6/16/2016</td>\n",
              "      <td>Second Class</td>\n",
              "      <td>DV-13045</td>\n",
              "      <td>Darrin Van Huff</td>\n",
              "      <td>Corporate</td>\n",
              "      <td>United States</td>\n",
              "      <td>Los Angeles</td>\n",
              "      <td>...</td>\n",
              "      <td>90036</td>\n",
              "      <td>West</td>\n",
              "      <td>OFF-LA-10000240</td>\n",
              "      <td>Office Supplies</td>\n",
              "      <td>Labels</td>\n",
              "      <td>Self-Adhesive Address Labels for Typewriters b...</td>\n",
              "      <td>2.511953</td>\n",
              "      <td>0.717567</td>\n",
              "      <td>0.00</td>\n",
              "      <td>Gain</td>\n",
              "    </tr>\n",
              "    <tr>\n",
              "      <th>3</th>\n",
              "      <td>4</td>\n",
              "      <td>US-2015-108966</td>\n",
              "      <td>10/11/2015</td>\n",
              "      <td>10/18/2015</td>\n",
              "      <td>Standard Class</td>\n",
              "      <td>SO-20335</td>\n",
              "      <td>Sean O'Donnell</td>\n",
              "      <td>Consumer</td>\n",
              "      <td>United States</td>\n",
              "      <td>Fort Lauderdale</td>\n",
              "      <td>...</td>\n",
              "      <td>33311</td>\n",
              "      <td>South</td>\n",
              "      <td>FUR-TA-10000577</td>\n",
              "      <td>Furniture</td>\n",
              "      <td>Tables</td>\n",
              "      <td>Bretford CR4500 Series Slim Rectangular Table</td>\n",
              "      <td>5.819876</td>\n",
              "      <td>1.745231</td>\n",
              "      <td>0.45</td>\n",
              "      <td>Loss</td>\n",
              "    </tr>\n",
              "    <tr>\n",
              "      <th>4</th>\n",
              "      <td>5</td>\n",
              "      <td>US-2015-108966</td>\n",
              "      <td>10/11/2015</td>\n",
              "      <td>10/18/2015</td>\n",
              "      <td>Standard Class</td>\n",
              "      <td>SO-20335</td>\n",
              "      <td>Sean O'Donnell</td>\n",
              "      <td>Consumer</td>\n",
              "      <td>United States</td>\n",
              "      <td>Fort Lauderdale</td>\n",
              "      <td>...</td>\n",
              "      <td>33311</td>\n",
              "      <td>South</td>\n",
              "      <td>OFF-ST-10000760</td>\n",
              "      <td>Office Supplies</td>\n",
              "      <td>Storage</td>\n",
              "      <td>Eldon Fold 'N Roll Cart System</td>\n",
              "      <td>2.880434</td>\n",
              "      <td>0.717567</td>\n",
              "      <td>0.20</td>\n",
              "      <td>Gain</td>\n",
              "    </tr>\n",
              "  </tbody>\n",
              "</table>\n",
              "<p>5 rows × 21 columns</p>\n",
              "</div>\n",
              "      <button class=\"colab-df-convert\" onclick=\"convertToInteractive('df-b87a1e95-d402-408d-b6ff-fa8d2b7e672e')\"\n",
              "              title=\"Convert this dataframe to an interactive table.\"\n",
              "              style=\"display:none;\">\n",
              "        \n",
              "  <svg xmlns=\"http://www.w3.org/2000/svg\" height=\"24px\"viewBox=\"0 0 24 24\"\n",
              "       width=\"24px\">\n",
              "    <path d=\"M0 0h24v24H0V0z\" fill=\"none\"/>\n",
              "    <path d=\"M18.56 5.44l.94 2.06.94-2.06 2.06-.94-2.06-.94-.94-2.06-.94 2.06-2.06.94zm-11 1L8.5 8.5l.94-2.06 2.06-.94-2.06-.94L8.5 2.5l-.94 2.06-2.06.94zm10 10l.94 2.06.94-2.06 2.06-.94-2.06-.94-.94-2.06-.94 2.06-2.06.94z\"/><path d=\"M17.41 7.96l-1.37-1.37c-.4-.4-.92-.59-1.43-.59-.52 0-1.04.2-1.43.59L10.3 9.45l-7.72 7.72c-.78.78-.78 2.05 0 2.83L4 21.41c.39.39.9.59 1.41.59.51 0 1.02-.2 1.41-.59l7.78-7.78 2.81-2.81c.8-.78.8-2.07 0-2.86zM5.41 20L4 18.59l7.72-7.72 1.47 1.35L5.41 20z\"/>\n",
              "  </svg>\n",
              "      </button>\n",
              "      \n",
              "  <style>\n",
              "    .colab-df-container {\n",
              "      display:flex;\n",
              "      flex-wrap:wrap;\n",
              "      gap: 12px;\n",
              "    }\n",
              "\n",
              "    .colab-df-convert {\n",
              "      background-color: #E8F0FE;\n",
              "      border: none;\n",
              "      border-radius: 50%;\n",
              "      cursor: pointer;\n",
              "      display: none;\n",
              "      fill: #1967D2;\n",
              "      height: 32px;\n",
              "      padding: 0 0 0 0;\n",
              "      width: 32px;\n",
              "    }\n",
              "\n",
              "    .colab-df-convert:hover {\n",
              "      background-color: #E2EBFA;\n",
              "      box-shadow: 0px 1px 2px rgba(60, 64, 67, 0.3), 0px 1px 3px 1px rgba(60, 64, 67, 0.15);\n",
              "      fill: #174EA6;\n",
              "    }\n",
              "\n",
              "    [theme=dark] .colab-df-convert {\n",
              "      background-color: #3B4455;\n",
              "      fill: #D2E3FC;\n",
              "    }\n",
              "\n",
              "    [theme=dark] .colab-df-convert:hover {\n",
              "      background-color: #434B5C;\n",
              "      box-shadow: 0px 1px 3px 1px rgba(0, 0, 0, 0.15);\n",
              "      filter: drop-shadow(0px 1px 2px rgba(0, 0, 0, 0.3));\n",
              "      fill: #FFFFFF;\n",
              "    }\n",
              "  </style>\n",
              "\n",
              "      <script>\n",
              "        const buttonEl =\n",
              "          document.querySelector('#df-b87a1e95-d402-408d-b6ff-fa8d2b7e672e button.colab-df-convert');\n",
              "        buttonEl.style.display =\n",
              "          google.colab.kernel.accessAllowed ? 'block' : 'none';\n",
              "\n",
              "        async function convertToInteractive(key) {\n",
              "          const element = document.querySelector('#df-b87a1e95-d402-408d-b6ff-fa8d2b7e672e');\n",
              "          const dataTable =\n",
              "            await google.colab.kernel.invokeFunction('convertToInteractive',\n",
              "                                                     [key], {});\n",
              "          if (!dataTable) return;\n",
              "\n",
              "          const docLinkHtml = 'Like what you see? Visit the ' +\n",
              "            '<a target=\"_blank\" href=https://colab.research.google.com/notebooks/data_table.ipynb>data table notebook</a>'\n",
              "            + ' to learn more about interactive tables.';\n",
              "          element.innerHTML = '';\n",
              "          dataTable['output_type'] = 'display_data';\n",
              "          await google.colab.output.renderOutput(dataTable, element);\n",
              "          const docLink = document.createElement('div');\n",
              "          docLink.innerHTML = docLinkHtml;\n",
              "          element.appendChild(docLink);\n",
              "        }\n",
              "      </script>\n",
              "    </div>\n",
              "  </div>\n",
              "  "
            ]
          },
          "metadata": {},
          "execution_count": 88
        }
      ],
      "source": [
        "store.head()"
      ]
    },
    {
      "cell_type": "code",
      "execution_count": null,
      "id": "4c80bebb",
      "metadata": {
        "execution": {
          "iopub.execute_input": "2022-10-15T12:35:25.123685Z",
          "iopub.status.busy": "2022-10-15T12:35:25.122819Z",
          "iopub.status.idle": "2022-10-15T12:35:25.127835Z",
          "shell.execute_reply": "2022-10-15T12:35:25.126944Z"
        },
        "papermill": {
          "duration": 0.035345,
          "end_time": "2022-10-15T12:35:25.129911",
          "exception": false,
          "start_time": "2022-10-15T12:35:25.094566",
          "status": "completed"
        },
        "tags": [],
        "id": "4c80bebb"
      },
      "outputs": [],
      "source": [
        "x = store"
      ]
    },
    {
      "cell_type": "code",
      "execution_count": null,
      "id": "6a79d916",
      "metadata": {
        "execution": {
          "iopub.execute_input": "2022-10-15T12:35:25.181904Z",
          "iopub.status.busy": "2022-10-15T12:35:25.181148Z",
          "iopub.status.idle": "2022-10-15T12:35:25.278624Z",
          "shell.execute_reply": "2022-10-15T12:35:25.277418Z"
        },
        "papermill": {
          "duration": 0.126075,
          "end_time": "2022-10-15T12:35:25.281261",
          "exception": false,
          "start_time": "2022-10-15T12:35:25.155186",
          "status": "completed"
        },
        "tags": [],
        "colab": {
          "base_uri": "https://localhost:8080/",
          "height": 317
        },
        "id": "6a79d916",
        "outputId": "d6106928-5add-472b-a5a5-8407e8f2f065"
      },
      "outputs": [
        {
          "output_type": "execute_result",
          "data": {
            "text/plain": [
              "   Row ID  Order ID  Order Date  Ship Date  Ship Mode  Customer ID  \\\n",
              "0       1      2500         304        219          2          143   \n",
              "1       2      2500         304        219          2          143   \n",
              "2       3      2296         835        906          2          237   \n",
              "3       4      4372          93        128          3          705   \n",
              "4       5      4372          93        128          3          705   \n",
              "\n",
              "   Customer Name  Segment  Country  City  ...  Postal Code  Region  \\\n",
              "0            166        0        0   194  ...        42420       2   \n",
              "1            166        0        0   194  ...        42420       2   \n",
              "2            201        1        0   266  ...        90036       3   \n",
              "3            687        0        0   153  ...        33311       2   \n",
              "4            687        0        0   153  ...        33311       2   \n",
              "\n",
              "   Product ID  Category  Sub-Category  Product Name     Sales  Quantity  \\\n",
              "0          12         0             4           386  4.866793  0.717567   \n",
              "1          55         0             5           839  5.627292  1.160800   \n",
              "2         946         1            10          1433  2.511953  0.717567   \n",
              "3         319         0            16           366  5.819876  1.745231   \n",
              "4        1316         1            14           573  2.880434  0.717567   \n",
              "\n",
              "   Discount  Output_Profit  \n",
              "0      0.00              0  \n",
              "1      0.00              0  \n",
              "2      0.00              0  \n",
              "3      0.45              1  \n",
              "4      0.20              0  \n",
              "\n",
              "[5 rows x 21 columns]"
            ],
            "text/html": [
              "\n",
              "  <div id=\"df-f30400b0-feb5-4214-bc77-d888102dc629\">\n",
              "    <div class=\"colab-df-container\">\n",
              "      <div>\n",
              "<style scoped>\n",
              "    .dataframe tbody tr th:only-of-type {\n",
              "        vertical-align: middle;\n",
              "    }\n",
              "\n",
              "    .dataframe tbody tr th {\n",
              "        vertical-align: top;\n",
              "    }\n",
              "\n",
              "    .dataframe thead th {\n",
              "        text-align: right;\n",
              "    }\n",
              "</style>\n",
              "<table border=\"1\" class=\"dataframe\">\n",
              "  <thead>\n",
              "    <tr style=\"text-align: right;\">\n",
              "      <th></th>\n",
              "      <th>Row ID</th>\n",
              "      <th>Order ID</th>\n",
              "      <th>Order Date</th>\n",
              "      <th>Ship Date</th>\n",
              "      <th>Ship Mode</th>\n",
              "      <th>Customer ID</th>\n",
              "      <th>Customer Name</th>\n",
              "      <th>Segment</th>\n",
              "      <th>Country</th>\n",
              "      <th>City</th>\n",
              "      <th>...</th>\n",
              "      <th>Postal Code</th>\n",
              "      <th>Region</th>\n",
              "      <th>Product ID</th>\n",
              "      <th>Category</th>\n",
              "      <th>Sub-Category</th>\n",
              "      <th>Product Name</th>\n",
              "      <th>Sales</th>\n",
              "      <th>Quantity</th>\n",
              "      <th>Discount</th>\n",
              "      <th>Output_Profit</th>\n",
              "    </tr>\n",
              "  </thead>\n",
              "  <tbody>\n",
              "    <tr>\n",
              "      <th>0</th>\n",
              "      <td>1</td>\n",
              "      <td>2500</td>\n",
              "      <td>304</td>\n",
              "      <td>219</td>\n",
              "      <td>2</td>\n",
              "      <td>143</td>\n",
              "      <td>166</td>\n",
              "      <td>0</td>\n",
              "      <td>0</td>\n",
              "      <td>194</td>\n",
              "      <td>...</td>\n",
              "      <td>42420</td>\n",
              "      <td>2</td>\n",
              "      <td>12</td>\n",
              "      <td>0</td>\n",
              "      <td>4</td>\n",
              "      <td>386</td>\n",
              "      <td>4.866793</td>\n",
              "      <td>0.717567</td>\n",
              "      <td>0.00</td>\n",
              "      <td>0</td>\n",
              "    </tr>\n",
              "    <tr>\n",
              "      <th>1</th>\n",
              "      <td>2</td>\n",
              "      <td>2500</td>\n",
              "      <td>304</td>\n",
              "      <td>219</td>\n",
              "      <td>2</td>\n",
              "      <td>143</td>\n",
              "      <td>166</td>\n",
              "      <td>0</td>\n",
              "      <td>0</td>\n",
              "      <td>194</td>\n",
              "      <td>...</td>\n",
              "      <td>42420</td>\n",
              "      <td>2</td>\n",
              "      <td>55</td>\n",
              "      <td>0</td>\n",
              "      <td>5</td>\n",
              "      <td>839</td>\n",
              "      <td>5.627292</td>\n",
              "      <td>1.160800</td>\n",
              "      <td>0.00</td>\n",
              "      <td>0</td>\n",
              "    </tr>\n",
              "    <tr>\n",
              "      <th>2</th>\n",
              "      <td>3</td>\n",
              "      <td>2296</td>\n",
              "      <td>835</td>\n",
              "      <td>906</td>\n",
              "      <td>2</td>\n",
              "      <td>237</td>\n",
              "      <td>201</td>\n",
              "      <td>1</td>\n",
              "      <td>0</td>\n",
              "      <td>266</td>\n",
              "      <td>...</td>\n",
              "      <td>90036</td>\n",
              "      <td>3</td>\n",
              "      <td>946</td>\n",
              "      <td>1</td>\n",
              "      <td>10</td>\n",
              "      <td>1433</td>\n",
              "      <td>2.511953</td>\n",
              "      <td>0.717567</td>\n",
              "      <td>0.00</td>\n",
              "      <td>0</td>\n",
              "    </tr>\n",
              "    <tr>\n",
              "      <th>3</th>\n",
              "      <td>4</td>\n",
              "      <td>4372</td>\n",
              "      <td>93</td>\n",
              "      <td>128</td>\n",
              "      <td>3</td>\n",
              "      <td>705</td>\n",
              "      <td>687</td>\n",
              "      <td>0</td>\n",
              "      <td>0</td>\n",
              "      <td>153</td>\n",
              "      <td>...</td>\n",
              "      <td>33311</td>\n",
              "      <td>2</td>\n",
              "      <td>319</td>\n",
              "      <td>0</td>\n",
              "      <td>16</td>\n",
              "      <td>366</td>\n",
              "      <td>5.819876</td>\n",
              "      <td>1.745231</td>\n",
              "      <td>0.45</td>\n",
              "      <td>1</td>\n",
              "    </tr>\n",
              "    <tr>\n",
              "      <th>4</th>\n",
              "      <td>5</td>\n",
              "      <td>4372</td>\n",
              "      <td>93</td>\n",
              "      <td>128</td>\n",
              "      <td>3</td>\n",
              "      <td>705</td>\n",
              "      <td>687</td>\n",
              "      <td>0</td>\n",
              "      <td>0</td>\n",
              "      <td>153</td>\n",
              "      <td>...</td>\n",
              "      <td>33311</td>\n",
              "      <td>2</td>\n",
              "      <td>1316</td>\n",
              "      <td>1</td>\n",
              "      <td>14</td>\n",
              "      <td>573</td>\n",
              "      <td>2.880434</td>\n",
              "      <td>0.717567</td>\n",
              "      <td>0.20</td>\n",
              "      <td>0</td>\n",
              "    </tr>\n",
              "  </tbody>\n",
              "</table>\n",
              "<p>5 rows × 21 columns</p>\n",
              "</div>\n",
              "      <button class=\"colab-df-convert\" onclick=\"convertToInteractive('df-f30400b0-feb5-4214-bc77-d888102dc629')\"\n",
              "              title=\"Convert this dataframe to an interactive table.\"\n",
              "              style=\"display:none;\">\n",
              "        \n",
              "  <svg xmlns=\"http://www.w3.org/2000/svg\" height=\"24px\"viewBox=\"0 0 24 24\"\n",
              "       width=\"24px\">\n",
              "    <path d=\"M0 0h24v24H0V0z\" fill=\"none\"/>\n",
              "    <path d=\"M18.56 5.44l.94 2.06.94-2.06 2.06-.94-2.06-.94-.94-2.06-.94 2.06-2.06.94zm-11 1L8.5 8.5l.94-2.06 2.06-.94-2.06-.94L8.5 2.5l-.94 2.06-2.06.94zm10 10l.94 2.06.94-2.06 2.06-.94-2.06-.94-.94-2.06-.94 2.06-2.06.94z\"/><path d=\"M17.41 7.96l-1.37-1.37c-.4-.4-.92-.59-1.43-.59-.52 0-1.04.2-1.43.59L10.3 9.45l-7.72 7.72c-.78.78-.78 2.05 0 2.83L4 21.41c.39.39.9.59 1.41.59.51 0 1.02-.2 1.41-.59l7.78-7.78 2.81-2.81c.8-.78.8-2.07 0-2.86zM5.41 20L4 18.59l7.72-7.72 1.47 1.35L5.41 20z\"/>\n",
              "  </svg>\n",
              "      </button>\n",
              "      \n",
              "  <style>\n",
              "    .colab-df-container {\n",
              "      display:flex;\n",
              "      flex-wrap:wrap;\n",
              "      gap: 12px;\n",
              "    }\n",
              "\n",
              "    .colab-df-convert {\n",
              "      background-color: #E8F0FE;\n",
              "      border: none;\n",
              "      border-radius: 50%;\n",
              "      cursor: pointer;\n",
              "      display: none;\n",
              "      fill: #1967D2;\n",
              "      height: 32px;\n",
              "      padding: 0 0 0 0;\n",
              "      width: 32px;\n",
              "    }\n",
              "\n",
              "    .colab-df-convert:hover {\n",
              "      background-color: #E2EBFA;\n",
              "      box-shadow: 0px 1px 2px rgba(60, 64, 67, 0.3), 0px 1px 3px 1px rgba(60, 64, 67, 0.15);\n",
              "      fill: #174EA6;\n",
              "    }\n",
              "\n",
              "    [theme=dark] .colab-df-convert {\n",
              "      background-color: #3B4455;\n",
              "      fill: #D2E3FC;\n",
              "    }\n",
              "\n",
              "    [theme=dark] .colab-df-convert:hover {\n",
              "      background-color: #434B5C;\n",
              "      box-shadow: 0px 1px 3px 1px rgba(0, 0, 0, 0.15);\n",
              "      filter: drop-shadow(0px 1px 2px rgba(0, 0, 0, 0.3));\n",
              "      fill: #FFFFFF;\n",
              "    }\n",
              "  </style>\n",
              "\n",
              "      <script>\n",
              "        const buttonEl =\n",
              "          document.querySelector('#df-f30400b0-feb5-4214-bc77-d888102dc629 button.colab-df-convert');\n",
              "        buttonEl.style.display =\n",
              "          google.colab.kernel.accessAllowed ? 'block' : 'none';\n",
              "\n",
              "        async function convertToInteractive(key) {\n",
              "          const element = document.querySelector('#df-f30400b0-feb5-4214-bc77-d888102dc629');\n",
              "          const dataTable =\n",
              "            await google.colab.kernel.invokeFunction('convertToInteractive',\n",
              "                                                     [key], {});\n",
              "          if (!dataTable) return;\n",
              "\n",
              "          const docLinkHtml = 'Like what you see? Visit the ' +\n",
              "            '<a target=\"_blank\" href=https://colab.research.google.com/notebooks/data_table.ipynb>data table notebook</a>'\n",
              "            + ' to learn more about interactive tables.';\n",
              "          element.innerHTML = '';\n",
              "          dataTable['output_type'] = 'display_data';\n",
              "          await google.colab.output.renderOutput(dataTable, element);\n",
              "          const docLink = document.createElement('div');\n",
              "          docLink.innerHTML = docLinkHtml;\n",
              "          element.appendChild(docLink);\n",
              "        }\n",
              "      </script>\n",
              "    </div>\n",
              "  </div>\n",
              "  "
            ]
          },
          "metadata": {},
          "execution_count": 90
        }
      ],
      "source": [
        "#Mengganti kolom menjadi numerik\n",
        "x1 = x.select_dtypes('O')\n",
        "\n",
        "for col in x1.columns:\n",
        "    lb = LabelEncoder()\n",
        "    x[col] = lb.fit_transform(x1[col].values)\n",
        "x.head()"
      ]
    },
    {
      "cell_type": "code",
      "execution_count": null,
      "id": "ca1c70e3",
      "metadata": {
        "execution": {
          "iopub.execute_input": "2022-10-15T12:35:25.335131Z",
          "iopub.status.busy": "2022-10-15T12:35:25.334393Z",
          "iopub.status.idle": "2022-10-15T12:35:25.347762Z",
          "shell.execute_reply": "2022-10-15T12:35:25.346736Z"
        },
        "papermill": {
          "duration": 0.042919,
          "end_time": "2022-10-15T12:35:25.350213",
          "exception": false,
          "start_time": "2022-10-15T12:35:25.307294",
          "status": "completed"
        },
        "tags": [],
        "id": "ca1c70e3"
      },
      "outputs": [],
      "source": [
        "#Melakukan split data\n",
        "x = store.drop(['Output_Profit'],axis=1)\n",
        "y = store['Output_Profit']\n",
        "x_train, x_test, y_train, y_test = train_test_split(x, y)"
      ]
    },
    {
      "cell_type": "markdown",
      "source": [
        "### **Naive Bayes Classifier**"
      ],
      "metadata": {
        "id": "5Vl8LAHSvYR2"
      },
      "id": "5Vl8LAHSvYR2"
    },
    {
      "cell_type": "markdown",
      "source": [
        "######Melakukan Data Training"
      ],
      "metadata": {
        "id": "DB2NNkcQvkNl"
      },
      "id": "DB2NNkcQvkNl"
    },
    {
      "cell_type": "code",
      "source": [
        "x_train.head(5)"
      ],
      "metadata": {
        "colab": {
          "base_uri": "https://localhost:8080/",
          "height": 287
        },
        "id": "zSDqbM5OvdbA",
        "outputId": "3d689dbf-3efa-412d-c376-857bc0ab8c9e"
      },
      "id": "zSDqbM5OvdbA",
      "execution_count": null,
      "outputs": [
        {
          "output_type": "execute_result",
          "data": {
            "text/plain": [
              "      Row ID  Order ID  Order Date  Ship Date  Ship Mode  Customer ID  \\\n",
              "7619    7620      3826         153        173          0          393   \n",
              "5585    5586      2920         286        431          3          782   \n",
              "3417    3418      1487         677        802          3          744   \n",
              "7563    7564      3947         179        200          0          627   \n",
              "4496    4497      3056         858        936          3          136   \n",
              "\n",
              "      Customer Name  Segment  Country  City  State  Postal Code  Region  \\\n",
              "7619            375        1        0   266      3        90032       3   \n",
              "5585            779        2        0   329     30        10011       1   \n",
              "3417            762        2        0    24      4        80013       3   \n",
              "7563            651        2        0   120      4        80219       3   \n",
              "4496            176        0        0   266      3        90032       3   \n",
              "\n",
              "      Product ID  Category  Sub-Category  Product Name     Sales  Quantity  \\\n",
              "7619        1832         2            13           782  3.853906  1.745231   \n",
              "5585        1725         2            13          1227  5.414381  1.160800   \n",
              "3417         457         1             1           294  3.442597  1.745231   \n",
              "7563        1505         2             0          1024  3.756522  0.717567   \n",
              "4496        1150         1            12          1717  3.348038  1.961109   \n",
              "\n",
              "      Discount  \n",
              "7619       0.2  \n",
              "5585       0.0  \n",
              "3417       0.2  \n",
              "7563       0.2  \n",
              "4496       0.0  "
            ],
            "text/html": [
              "\n",
              "  <div id=\"df-71f365fb-d309-463c-80cd-44c5ebfa95d7\">\n",
              "    <div class=\"colab-df-container\">\n",
              "      <div>\n",
              "<style scoped>\n",
              "    .dataframe tbody tr th:only-of-type {\n",
              "        vertical-align: middle;\n",
              "    }\n",
              "\n",
              "    .dataframe tbody tr th {\n",
              "        vertical-align: top;\n",
              "    }\n",
              "\n",
              "    .dataframe thead th {\n",
              "        text-align: right;\n",
              "    }\n",
              "</style>\n",
              "<table border=\"1\" class=\"dataframe\">\n",
              "  <thead>\n",
              "    <tr style=\"text-align: right;\">\n",
              "      <th></th>\n",
              "      <th>Row ID</th>\n",
              "      <th>Order ID</th>\n",
              "      <th>Order Date</th>\n",
              "      <th>Ship Date</th>\n",
              "      <th>Ship Mode</th>\n",
              "      <th>Customer ID</th>\n",
              "      <th>Customer Name</th>\n",
              "      <th>Segment</th>\n",
              "      <th>Country</th>\n",
              "      <th>City</th>\n",
              "      <th>State</th>\n",
              "      <th>Postal Code</th>\n",
              "      <th>Region</th>\n",
              "      <th>Product ID</th>\n",
              "      <th>Category</th>\n",
              "      <th>Sub-Category</th>\n",
              "      <th>Product Name</th>\n",
              "      <th>Sales</th>\n",
              "      <th>Quantity</th>\n",
              "      <th>Discount</th>\n",
              "    </tr>\n",
              "  </thead>\n",
              "  <tbody>\n",
              "    <tr>\n",
              "      <th>7619</th>\n",
              "      <td>7620</td>\n",
              "      <td>3826</td>\n",
              "      <td>153</td>\n",
              "      <td>173</td>\n",
              "      <td>0</td>\n",
              "      <td>393</td>\n",
              "      <td>375</td>\n",
              "      <td>1</td>\n",
              "      <td>0</td>\n",
              "      <td>266</td>\n",
              "      <td>3</td>\n",
              "      <td>90032</td>\n",
              "      <td>3</td>\n",
              "      <td>1832</td>\n",
              "      <td>2</td>\n",
              "      <td>13</td>\n",
              "      <td>782</td>\n",
              "      <td>3.853906</td>\n",
              "      <td>1.745231</td>\n",
              "      <td>0.2</td>\n",
              "    </tr>\n",
              "    <tr>\n",
              "      <th>5585</th>\n",
              "      <td>5586</td>\n",
              "      <td>2920</td>\n",
              "      <td>286</td>\n",
              "      <td>431</td>\n",
              "      <td>3</td>\n",
              "      <td>782</td>\n",
              "      <td>779</td>\n",
              "      <td>2</td>\n",
              "      <td>0</td>\n",
              "      <td>329</td>\n",
              "      <td>30</td>\n",
              "      <td>10011</td>\n",
              "      <td>1</td>\n",
              "      <td>1725</td>\n",
              "      <td>2</td>\n",
              "      <td>13</td>\n",
              "      <td>1227</td>\n",
              "      <td>5.414381</td>\n",
              "      <td>1.160800</td>\n",
              "      <td>0.0</td>\n",
              "    </tr>\n",
              "    <tr>\n",
              "      <th>3417</th>\n",
              "      <td>3418</td>\n",
              "      <td>1487</td>\n",
              "      <td>677</td>\n",
              "      <td>802</td>\n",
              "      <td>3</td>\n",
              "      <td>744</td>\n",
              "      <td>762</td>\n",
              "      <td>2</td>\n",
              "      <td>0</td>\n",
              "      <td>24</td>\n",
              "      <td>4</td>\n",
              "      <td>80013</td>\n",
              "      <td>3</td>\n",
              "      <td>457</td>\n",
              "      <td>1</td>\n",
              "      <td>1</td>\n",
              "      <td>294</td>\n",
              "      <td>3.442597</td>\n",
              "      <td>1.745231</td>\n",
              "      <td>0.2</td>\n",
              "    </tr>\n",
              "    <tr>\n",
              "      <th>7563</th>\n",
              "      <td>7564</td>\n",
              "      <td>3947</td>\n",
              "      <td>179</td>\n",
              "      <td>200</td>\n",
              "      <td>0</td>\n",
              "      <td>627</td>\n",
              "      <td>651</td>\n",
              "      <td>2</td>\n",
              "      <td>0</td>\n",
              "      <td>120</td>\n",
              "      <td>4</td>\n",
              "      <td>80219</td>\n",
              "      <td>3</td>\n",
              "      <td>1505</td>\n",
              "      <td>2</td>\n",
              "      <td>0</td>\n",
              "      <td>1024</td>\n",
              "      <td>3.756522</td>\n",
              "      <td>0.717567</td>\n",
              "      <td>0.2</td>\n",
              "    </tr>\n",
              "    <tr>\n",
              "      <th>4496</th>\n",
              "      <td>4497</td>\n",
              "      <td>3056</td>\n",
              "      <td>858</td>\n",
              "      <td>936</td>\n",
              "      <td>3</td>\n",
              "      <td>136</td>\n",
              "      <td>176</td>\n",
              "      <td>0</td>\n",
              "      <td>0</td>\n",
              "      <td>266</td>\n",
              "      <td>3</td>\n",
              "      <td>90032</td>\n",
              "      <td>3</td>\n",
              "      <td>1150</td>\n",
              "      <td>1</td>\n",
              "      <td>12</td>\n",
              "      <td>1717</td>\n",
              "      <td>3.348038</td>\n",
              "      <td>1.961109</td>\n",
              "      <td>0.0</td>\n",
              "    </tr>\n",
              "  </tbody>\n",
              "</table>\n",
              "</div>\n",
              "      <button class=\"colab-df-convert\" onclick=\"convertToInteractive('df-71f365fb-d309-463c-80cd-44c5ebfa95d7')\"\n",
              "              title=\"Convert this dataframe to an interactive table.\"\n",
              "              style=\"display:none;\">\n",
              "        \n",
              "  <svg xmlns=\"http://www.w3.org/2000/svg\" height=\"24px\"viewBox=\"0 0 24 24\"\n",
              "       width=\"24px\">\n",
              "    <path d=\"M0 0h24v24H0V0z\" fill=\"none\"/>\n",
              "    <path d=\"M18.56 5.44l.94 2.06.94-2.06 2.06-.94-2.06-.94-.94-2.06-.94 2.06-2.06.94zm-11 1L8.5 8.5l.94-2.06 2.06-.94-2.06-.94L8.5 2.5l-.94 2.06-2.06.94zm10 10l.94 2.06.94-2.06 2.06-.94-2.06-.94-.94-2.06-.94 2.06-2.06.94z\"/><path d=\"M17.41 7.96l-1.37-1.37c-.4-.4-.92-.59-1.43-.59-.52 0-1.04.2-1.43.59L10.3 9.45l-7.72 7.72c-.78.78-.78 2.05 0 2.83L4 21.41c.39.39.9.59 1.41.59.51 0 1.02-.2 1.41-.59l7.78-7.78 2.81-2.81c.8-.78.8-2.07 0-2.86zM5.41 20L4 18.59l7.72-7.72 1.47 1.35L5.41 20z\"/>\n",
              "  </svg>\n",
              "      </button>\n",
              "      \n",
              "  <style>\n",
              "    .colab-df-container {\n",
              "      display:flex;\n",
              "      flex-wrap:wrap;\n",
              "      gap: 12px;\n",
              "    }\n",
              "\n",
              "    .colab-df-convert {\n",
              "      background-color: #E8F0FE;\n",
              "      border: none;\n",
              "      border-radius: 50%;\n",
              "      cursor: pointer;\n",
              "      display: none;\n",
              "      fill: #1967D2;\n",
              "      height: 32px;\n",
              "      padding: 0 0 0 0;\n",
              "      width: 32px;\n",
              "    }\n",
              "\n",
              "    .colab-df-convert:hover {\n",
              "      background-color: #E2EBFA;\n",
              "      box-shadow: 0px 1px 2px rgba(60, 64, 67, 0.3), 0px 1px 3px 1px rgba(60, 64, 67, 0.15);\n",
              "      fill: #174EA6;\n",
              "    }\n",
              "\n",
              "    [theme=dark] .colab-df-convert {\n",
              "      background-color: #3B4455;\n",
              "      fill: #D2E3FC;\n",
              "    }\n",
              "\n",
              "    [theme=dark] .colab-df-convert:hover {\n",
              "      background-color: #434B5C;\n",
              "      box-shadow: 0px 1px 3px 1px rgba(0, 0, 0, 0.15);\n",
              "      filter: drop-shadow(0px 1px 2px rgba(0, 0, 0, 0.3));\n",
              "      fill: #FFFFFF;\n",
              "    }\n",
              "  </style>\n",
              "\n",
              "      <script>\n",
              "        const buttonEl =\n",
              "          document.querySelector('#df-71f365fb-d309-463c-80cd-44c5ebfa95d7 button.colab-df-convert');\n",
              "        buttonEl.style.display =\n",
              "          google.colab.kernel.accessAllowed ? 'block' : 'none';\n",
              "\n",
              "        async function convertToInteractive(key) {\n",
              "          const element = document.querySelector('#df-71f365fb-d309-463c-80cd-44c5ebfa95d7');\n",
              "          const dataTable =\n",
              "            await google.colab.kernel.invokeFunction('convertToInteractive',\n",
              "                                                     [key], {});\n",
              "          if (!dataTable) return;\n",
              "\n",
              "          const docLinkHtml = 'Like what you see? Visit the ' +\n",
              "            '<a target=\"_blank\" href=https://colab.research.google.com/notebooks/data_table.ipynb>data table notebook</a>'\n",
              "            + ' to learn more about interactive tables.';\n",
              "          element.innerHTML = '';\n",
              "          dataTable['output_type'] = 'display_data';\n",
              "          await google.colab.output.renderOutput(dataTable, element);\n",
              "          const docLink = document.createElement('div');\n",
              "          docLink.innerHTML = docLinkHtml;\n",
              "          element.appendChild(docLink);\n",
              "        }\n",
              "      </script>\n",
              "    </div>\n",
              "  </div>\n",
              "  "
            ]
          },
          "metadata": {},
          "execution_count": 92
        }
      ]
    },
    {
      "cell_type": "code",
      "source": [
        "#Menghitung jumlah kolom x train\n",
        "x_train.shape"
      ],
      "metadata": {
        "colab": {
          "base_uri": "https://localhost:8080/"
        },
        "id": "-rSKgt3Gvpse",
        "outputId": "798978bd-1e43-42fd-f0d1-a3cd9dc52c52"
      },
      "id": "-rSKgt3Gvpse",
      "execution_count": null,
      "outputs": [
        {
          "output_type": "execute_result",
          "data": {
            "text/plain": [
              "(7495, 20)"
            ]
          },
          "metadata": {},
          "execution_count": 93
        }
      ]
    },
    {
      "cell_type": "code",
      "source": [
        "y_train.head(5)"
      ],
      "metadata": {
        "colab": {
          "base_uri": "https://localhost:8080/"
        },
        "id": "L8WWL9Thvv5m",
        "outputId": "df299083-c8bb-4257-a6e5-f5182a0100bb"
      },
      "id": "L8WWL9Thvv5m",
      "execution_count": null,
      "outputs": [
        {
          "output_type": "execute_result",
          "data": {
            "text/plain": [
              "7619    0\n",
              "5585    0\n",
              "3417    0\n",
              "7563    0\n",
              "4496    0\n",
              "Name: Output_Profit, dtype: int64"
            ]
          },
          "metadata": {},
          "execution_count": 94
        }
      ]
    },
    {
      "cell_type": "code",
      "source": [
        "#Menghitung jumlah kolom y train\n",
        "y_train.shape"
      ],
      "metadata": {
        "colab": {
          "base_uri": "https://localhost:8080/"
        },
        "id": "NLq8HF2Qv-aE",
        "outputId": "23b914a4-fd01-42a0-d76f-8fc587772b67"
      },
      "id": "NLq8HF2Qv-aE",
      "execution_count": null,
      "outputs": [
        {
          "output_type": "execute_result",
          "data": {
            "text/plain": [
              "(7495,)"
            ]
          },
          "metadata": {},
          "execution_count": 95
        }
      ]
    },
    {
      "cell_type": "code",
      "source": [
        "x_test.head(5)"
      ],
      "metadata": {
        "colab": {
          "base_uri": "https://localhost:8080/",
          "height": 287
        },
        "id": "ZNj-kfIUwIoQ",
        "outputId": "f40484ef-0330-40e5-d556-e600d4891adb"
      },
      "id": "ZNj-kfIUwIoQ",
      "execution_count": null,
      "outputs": [
        {
          "output_type": "execute_result",
          "data": {
            "text/plain": [
              "      Row ID  Order ID  Order Date  Ship Date  Ship Mode  Customer ID  \\\n",
              "6077    6078      2496        1130       1324          3          591   \n",
              "6620    6621      4998          10         29          2          164   \n",
              "3300    3301      4336         229        264          3          172   \n",
              "1888    1889       517         131        143          0          738   \n",
              "8297    8298      4473        1011        996          3          658   \n",
              "\n",
              "      Customer Name  Segment  Country  City  State  Postal Code  Region  \\\n",
              "6077            586        0        0   329     30        10011       1   \n",
              "6620            137        1        0   464     23        65807       0   \n",
              "3300            128        0        0   374     36        19140       1   \n",
              "1888            765        0        0   147     33        45014       1   \n",
              "8297            649        1        0    74     31        28205       2   \n",
              "\n",
              "      Product ID  Category  Sub-Category  Product Name     Sales  Quantity  \\\n",
              "6077        1558         2             0          1077  3.859732  0.717567   \n",
              "6620        1442         1            15          1043  6.829165  1.745231   \n",
              "3300        1398         1            14          1381  3.906415  0.000000   \n",
              "1888         468         1             1           662  4.274241  1.486283   \n",
              "8297         274         0             9          1486  1.533605  0.717567   \n",
              "\n",
              "      Discount  \n",
              "6077       0.0  \n",
              "6620       0.0  \n",
              "3300       0.2  \n",
              "1888       0.2  \n",
              "8297       0.2  "
            ],
            "text/html": [
              "\n",
              "  <div id=\"df-cb8be3cf-494e-4ae8-98a4-e99ecae1af11\">\n",
              "    <div class=\"colab-df-container\">\n",
              "      <div>\n",
              "<style scoped>\n",
              "    .dataframe tbody tr th:only-of-type {\n",
              "        vertical-align: middle;\n",
              "    }\n",
              "\n",
              "    .dataframe tbody tr th {\n",
              "        vertical-align: top;\n",
              "    }\n",
              "\n",
              "    .dataframe thead th {\n",
              "        text-align: right;\n",
              "    }\n",
              "</style>\n",
              "<table border=\"1\" class=\"dataframe\">\n",
              "  <thead>\n",
              "    <tr style=\"text-align: right;\">\n",
              "      <th></th>\n",
              "      <th>Row ID</th>\n",
              "      <th>Order ID</th>\n",
              "      <th>Order Date</th>\n",
              "      <th>Ship Date</th>\n",
              "      <th>Ship Mode</th>\n",
              "      <th>Customer ID</th>\n",
              "      <th>Customer Name</th>\n",
              "      <th>Segment</th>\n",
              "      <th>Country</th>\n",
              "      <th>City</th>\n",
              "      <th>State</th>\n",
              "      <th>Postal Code</th>\n",
              "      <th>Region</th>\n",
              "      <th>Product ID</th>\n",
              "      <th>Category</th>\n",
              "      <th>Sub-Category</th>\n",
              "      <th>Product Name</th>\n",
              "      <th>Sales</th>\n",
              "      <th>Quantity</th>\n",
              "      <th>Discount</th>\n",
              "    </tr>\n",
              "  </thead>\n",
              "  <tbody>\n",
              "    <tr>\n",
              "      <th>6077</th>\n",
              "      <td>6078</td>\n",
              "      <td>2496</td>\n",
              "      <td>1130</td>\n",
              "      <td>1324</td>\n",
              "      <td>3</td>\n",
              "      <td>591</td>\n",
              "      <td>586</td>\n",
              "      <td>0</td>\n",
              "      <td>0</td>\n",
              "      <td>329</td>\n",
              "      <td>30</td>\n",
              "      <td>10011</td>\n",
              "      <td>1</td>\n",
              "      <td>1558</td>\n",
              "      <td>2</td>\n",
              "      <td>0</td>\n",
              "      <td>1077</td>\n",
              "      <td>3.859732</td>\n",
              "      <td>0.717567</td>\n",
              "      <td>0.0</td>\n",
              "    </tr>\n",
              "    <tr>\n",
              "      <th>6620</th>\n",
              "      <td>6621</td>\n",
              "      <td>4998</td>\n",
              "      <td>10</td>\n",
              "      <td>29</td>\n",
              "      <td>2</td>\n",
              "      <td>164</td>\n",
              "      <td>137</td>\n",
              "      <td>1</td>\n",
              "      <td>0</td>\n",
              "      <td>464</td>\n",
              "      <td>23</td>\n",
              "      <td>65807</td>\n",
              "      <td>0</td>\n",
              "      <td>1442</td>\n",
              "      <td>1</td>\n",
              "      <td>15</td>\n",
              "      <td>1043</td>\n",
              "      <td>6.829165</td>\n",
              "      <td>1.745231</td>\n",
              "      <td>0.0</td>\n",
              "    </tr>\n",
              "    <tr>\n",
              "      <th>3300</th>\n",
              "      <td>3301</td>\n",
              "      <td>4336</td>\n",
              "      <td>229</td>\n",
              "      <td>264</td>\n",
              "      <td>3</td>\n",
              "      <td>172</td>\n",
              "      <td>128</td>\n",
              "      <td>0</td>\n",
              "      <td>0</td>\n",
              "      <td>374</td>\n",
              "      <td>36</td>\n",
              "      <td>19140</td>\n",
              "      <td>1</td>\n",
              "      <td>1398</td>\n",
              "      <td>1</td>\n",
              "      <td>14</td>\n",
              "      <td>1381</td>\n",
              "      <td>3.906415</td>\n",
              "      <td>0.000000</td>\n",
              "      <td>0.2</td>\n",
              "    </tr>\n",
              "    <tr>\n",
              "      <th>1888</th>\n",
              "      <td>1889</td>\n",
              "      <td>517</td>\n",
              "      <td>131</td>\n",
              "      <td>143</td>\n",
              "      <td>0</td>\n",
              "      <td>738</td>\n",
              "      <td>765</td>\n",
              "      <td>0</td>\n",
              "      <td>0</td>\n",
              "      <td>147</td>\n",
              "      <td>33</td>\n",
              "      <td>45014</td>\n",
              "      <td>1</td>\n",
              "      <td>468</td>\n",
              "      <td>1</td>\n",
              "      <td>1</td>\n",
              "      <td>662</td>\n",
              "      <td>4.274241</td>\n",
              "      <td>1.486283</td>\n",
              "      <td>0.2</td>\n",
              "    </tr>\n",
              "    <tr>\n",
              "      <th>8297</th>\n",
              "      <td>8298</td>\n",
              "      <td>4473</td>\n",
              "      <td>1011</td>\n",
              "      <td>996</td>\n",
              "      <td>3</td>\n",
              "      <td>658</td>\n",
              "      <td>649</td>\n",
              "      <td>1</td>\n",
              "      <td>0</td>\n",
              "      <td>74</td>\n",
              "      <td>31</td>\n",
              "      <td>28205</td>\n",
              "      <td>2</td>\n",
              "      <td>274</td>\n",
              "      <td>0</td>\n",
              "      <td>9</td>\n",
              "      <td>1486</td>\n",
              "      <td>1.533605</td>\n",
              "      <td>0.717567</td>\n",
              "      <td>0.2</td>\n",
              "    </tr>\n",
              "  </tbody>\n",
              "</table>\n",
              "</div>\n",
              "      <button class=\"colab-df-convert\" onclick=\"convertToInteractive('df-cb8be3cf-494e-4ae8-98a4-e99ecae1af11')\"\n",
              "              title=\"Convert this dataframe to an interactive table.\"\n",
              "              style=\"display:none;\">\n",
              "        \n",
              "  <svg xmlns=\"http://www.w3.org/2000/svg\" height=\"24px\"viewBox=\"0 0 24 24\"\n",
              "       width=\"24px\">\n",
              "    <path d=\"M0 0h24v24H0V0z\" fill=\"none\"/>\n",
              "    <path d=\"M18.56 5.44l.94 2.06.94-2.06 2.06-.94-2.06-.94-.94-2.06-.94 2.06-2.06.94zm-11 1L8.5 8.5l.94-2.06 2.06-.94-2.06-.94L8.5 2.5l-.94 2.06-2.06.94zm10 10l.94 2.06.94-2.06 2.06-.94-2.06-.94-.94-2.06-.94 2.06-2.06.94z\"/><path d=\"M17.41 7.96l-1.37-1.37c-.4-.4-.92-.59-1.43-.59-.52 0-1.04.2-1.43.59L10.3 9.45l-7.72 7.72c-.78.78-.78 2.05 0 2.83L4 21.41c.39.39.9.59 1.41.59.51 0 1.02-.2 1.41-.59l7.78-7.78 2.81-2.81c.8-.78.8-2.07 0-2.86zM5.41 20L4 18.59l7.72-7.72 1.47 1.35L5.41 20z\"/>\n",
              "  </svg>\n",
              "      </button>\n",
              "      \n",
              "  <style>\n",
              "    .colab-df-container {\n",
              "      display:flex;\n",
              "      flex-wrap:wrap;\n",
              "      gap: 12px;\n",
              "    }\n",
              "\n",
              "    .colab-df-convert {\n",
              "      background-color: #E8F0FE;\n",
              "      border: none;\n",
              "      border-radius: 50%;\n",
              "      cursor: pointer;\n",
              "      display: none;\n",
              "      fill: #1967D2;\n",
              "      height: 32px;\n",
              "      padding: 0 0 0 0;\n",
              "      width: 32px;\n",
              "    }\n",
              "\n",
              "    .colab-df-convert:hover {\n",
              "      background-color: #E2EBFA;\n",
              "      box-shadow: 0px 1px 2px rgba(60, 64, 67, 0.3), 0px 1px 3px 1px rgba(60, 64, 67, 0.15);\n",
              "      fill: #174EA6;\n",
              "    }\n",
              "\n",
              "    [theme=dark] .colab-df-convert {\n",
              "      background-color: #3B4455;\n",
              "      fill: #D2E3FC;\n",
              "    }\n",
              "\n",
              "    [theme=dark] .colab-df-convert:hover {\n",
              "      background-color: #434B5C;\n",
              "      box-shadow: 0px 1px 3px 1px rgba(0, 0, 0, 0.15);\n",
              "      filter: drop-shadow(0px 1px 2px rgba(0, 0, 0, 0.3));\n",
              "      fill: #FFFFFF;\n",
              "    }\n",
              "  </style>\n",
              "\n",
              "      <script>\n",
              "        const buttonEl =\n",
              "          document.querySelector('#df-cb8be3cf-494e-4ae8-98a4-e99ecae1af11 button.colab-df-convert');\n",
              "        buttonEl.style.display =\n",
              "          google.colab.kernel.accessAllowed ? 'block' : 'none';\n",
              "\n",
              "        async function convertToInteractive(key) {\n",
              "          const element = document.querySelector('#df-cb8be3cf-494e-4ae8-98a4-e99ecae1af11');\n",
              "          const dataTable =\n",
              "            await google.colab.kernel.invokeFunction('convertToInteractive',\n",
              "                                                     [key], {});\n",
              "          if (!dataTable) return;\n",
              "\n",
              "          const docLinkHtml = 'Like what you see? Visit the ' +\n",
              "            '<a target=\"_blank\" href=https://colab.research.google.com/notebooks/data_table.ipynb>data table notebook</a>'\n",
              "            + ' to learn more about interactive tables.';\n",
              "          element.innerHTML = '';\n",
              "          dataTable['output_type'] = 'display_data';\n",
              "          await google.colab.output.renderOutput(dataTable, element);\n",
              "          const docLink = document.createElement('div');\n",
              "          docLink.innerHTML = docLinkHtml;\n",
              "          element.appendChild(docLink);\n",
              "        }\n",
              "      </script>\n",
              "    </div>\n",
              "  </div>\n",
              "  "
            ]
          },
          "metadata": {},
          "execution_count": 96
        }
      ]
    },
    {
      "cell_type": "code",
      "source": [
        "#Menghitung jumlah kolom x test\n",
        "x_test.shape"
      ],
      "metadata": {
        "colab": {
          "base_uri": "https://localhost:8080/"
        },
        "id": "dZWhJ5t4wLjR",
        "outputId": "53f299bf-3cb0-4e04-da0e-e259e1fcfb21"
      },
      "id": "dZWhJ5t4wLjR",
      "execution_count": null,
      "outputs": [
        {
          "output_type": "execute_result",
          "data": {
            "text/plain": [
              "(2499, 20)"
            ]
          },
          "metadata": {},
          "execution_count": 97
        }
      ]
    },
    {
      "cell_type": "code",
      "source": [
        "#Masukan model naive bayes\n",
        "gnb = GaussianNB()\n",
        "\n",
        "gnb.fit(x_train, y_train)"
      ],
      "metadata": {
        "colab": {
          "base_uri": "https://localhost:8080/"
        },
        "id": "lZnuXybQwSBH",
        "outputId": "a9189d95-0e4b-47d6-fe5d-949d485c1a48"
      },
      "id": "lZnuXybQwSBH",
      "execution_count": null,
      "outputs": [
        {
          "output_type": "execute_result",
          "data": {
            "text/plain": [
              "GaussianNB()"
            ]
          },
          "metadata": {},
          "execution_count": 98
        }
      ]
    },
    {
      "cell_type": "markdown",
      "source": [
        "######Melakukan Prediksi"
      ],
      "metadata": {
        "id": "6-wjW606wg59"
      },
      "id": "6-wjW606wg59"
    },
    {
      "cell_type": "code",
      "source": [
        "y_pred = gnb.predict(x_test)\n",
        "\n",
        "y_pred"
      ],
      "metadata": {
        "colab": {
          "base_uri": "https://localhost:8080/"
        },
        "id": "zdjTRZuIwjs_",
        "outputId": "33bbcb38-7e69-41b7-88fa-40989a23ad7e"
      },
      "id": "zdjTRZuIwjs_",
      "execution_count": null,
      "outputs": [
        {
          "output_type": "execute_result",
          "data": {
            "text/plain": [
              "array([0, 0, 0, ..., 0, 0, 0])"
            ]
          },
          "metadata": {},
          "execution_count": 99
        }
      ]
    },
    {
      "cell_type": "code",
      "source": [
        "#Menampilkan hasil skor akurasi model\n",
        "print('Model accuracy score: {0:0.2f}'. format(accuracy_score(y_test, y_pred)))"
      ],
      "metadata": {
        "colab": {
          "base_uri": "https://localhost:8080/"
        },
        "id": "dEgTv8Uiwkyi",
        "outputId": "d718ab16-2444-4c37-bdeb-7045002efd12"
      },
      "id": "dEgTv8Uiwkyi",
      "execution_count": null,
      "outputs": [
        {
          "output_type": "stream",
          "name": "stdout",
          "text": [
            "Model accuracy score: 0.84\n"
          ]
        }
      ]
    },
    {
      "cell_type": "markdown",
      "source": [
        "Di sini, y_test adalah label kelas sebenarnya dan y_pred adalah label kelas yang diprediksi dalam set pengujian."
      ],
      "metadata": {
        "id": "m7Sbenkyw6Sg"
      },
      "id": "m7Sbenkyw6Sg"
    },
    {
      "cell_type": "code",
      "source": [
        "#Membandingkan accuracy dari train-set and test-set\n",
        "\n",
        "y_pred_train = gnb.predict(x_train)\n",
        "\n",
        "y_pred_train"
      ],
      "metadata": {
        "colab": {
          "base_uri": "https://localhost:8080/"
        },
        "id": "fuhN3QZ9w7yI",
        "outputId": "6b34d8f4-f88d-443f-fa2b-c6491af86437"
      },
      "id": "fuhN3QZ9w7yI",
      "execution_count": null,
      "outputs": [
        {
          "output_type": "execute_result",
          "data": {
            "text/plain": [
              "array([0, 0, 0, ..., 0, 0, 0])"
            ]
          },
          "metadata": {},
          "execution_count": 101
        }
      ]
    },
    {
      "cell_type": "code",
      "source": [
        "#Menampilkan perbandingan akurasi\n",
        "print('Training set score: {:.4f}'.format(gnb.score(x_train, y_train)))\n",
        "\n",
        "print('Test set score: {:.4f}'.format(gnb.score(x_test, y_test)))"
      ],
      "metadata": {
        "colab": {
          "base_uri": "https://localhost:8080/"
        },
        "id": "wVM1HbbfxOnc",
        "outputId": "7af099d6-0be4-4854-bbaa-c5ec5b65f923"
      },
      "id": "wVM1HbbfxOnc",
      "execution_count": null,
      "outputs": [
        {
          "output_type": "stream",
          "name": "stdout",
          "text": [
            "Training set score: 0.8319\n",
            "Test set score: 0.8351\n"
          ]
        }
      ]
    },
    {
      "cell_type": "markdown",
      "source": [
        "######Confusion Matrix"
      ],
      "metadata": {
        "id": "zccsnDmpfYbU"
      },
      "id": "zccsnDmpfYbU"
    },
    {
      "cell_type": "code",
      "source": [
        "# Print the Confusion Matrix and slice it into four pieces\n",
        "\n",
        "from sklearn.metrics import confusion_matrix\n",
        "\n",
        "cm = confusion_matrix(y_test, y_pred)\n",
        "\n",
        "print('Confusion matrix\\n\\n', cm)\n",
        "\n",
        "print('\\nTrue Positives(TP) = ', cm[0,0])\n",
        "\n",
        "print('\\nTrue Negatives(TN) = ', cm[1,1])\n",
        "\n",
        "print('\\nFalse Positives(FP) = ', cm[0,1])\n",
        "\n",
        "print('\\nFalse Negatives(FN) = ', cm[1,0])"
      ],
      "metadata": {
        "colab": {
          "base_uri": "https://localhost:8080/"
        },
        "id": "eXjLdoAGfFhf",
        "outputId": "4c7af493-8a26-4028-ca54-e073cc215415"
      },
      "id": "eXjLdoAGfFhf",
      "execution_count": null,
      "outputs": [
        {
          "output_type": "stream",
          "name": "stdout",
          "text": [
            "Confusion matrix\n",
            "\n",
            " [[1981   33    0]\n",
            " [ 365  106    0]\n",
            " [  14    0    0]]\n",
            "\n",
            "True Positives(TP) =  1981\n",
            "\n",
            "True Negatives(TN) =  106\n",
            "\n",
            "False Positives(FP) =  33\n",
            "\n",
            "False Negatives(FN) =  365\n"
          ]
        }
      ]
    },
    {
      "cell_type": "code",
      "source": [
        "from sklearn.metrics import classification_report\n",
        "\n",
        "print(classification_report(y_test, y_pred))"
      ],
      "metadata": {
        "colab": {
          "base_uri": "https://localhost:8080/"
        },
        "id": "gzrR209tfOn7",
        "outputId": "533e337b-4ad7-4bb7-ca8d-a50cfaf8a104"
      },
      "id": "gzrR209tfOn7",
      "execution_count": null,
      "outputs": [
        {
          "output_type": "stream",
          "name": "stdout",
          "text": [
            "              precision    recall  f1-score   support\n",
            "\n",
            "           0       0.84      0.98      0.91      2014\n",
            "           1       0.76      0.23      0.35       471\n",
            "           2       0.00      0.00      0.00        14\n",
            "\n",
            "    accuracy                           0.84      2499\n",
            "   macro avg       0.53      0.40      0.42      2499\n",
            "weighted avg       0.82      0.84      0.80      2499\n",
            "\n"
          ]
        }
      ]
    },
    {
      "cell_type": "markdown",
      "source": [
        "######Menghitung Probabilitas"
      ],
      "metadata": {
        "id": "n9eHBHkv79Yq"
      },
      "id": "n9eHBHkv79Yq"
    },
    {
      "cell_type": "code",
      "source": [
        "y_pred_prob = gnb.predict_proba(x_test)\n",
        "\n",
        "y_pred_prob"
      ],
      "metadata": {
        "colab": {
          "base_uri": "https://localhost:8080/"
        },
        "id": "LfEc0rQT8P9O",
        "outputId": "a9f8f02e-43c6-4165-8eee-7aafe2c4d1f6"
      },
      "id": "LfEc0rQT8P9O",
      "execution_count": null,
      "outputs": [
        {
          "output_type": "execute_result",
          "data": {
            "text/plain": [
              "array([[9.28805273e-01, 7.06573836e-02, 5.37343096e-04],\n",
              "       [7.35579441e-01, 2.45001314e-01, 1.94192442e-02],\n",
              "       [8.91947850e-01, 1.00470595e-01, 7.58155559e-03],\n",
              "       ...,\n",
              "       [9.29384930e-01, 6.80100820e-02, 2.60498796e-03],\n",
              "       [9.69882090e-01, 2.74118135e-02, 2.70609607e-03],\n",
              "       [9.02769793e-01, 9.54532488e-02, 1.77695778e-03]])"
            ]
          },
          "metadata": {},
          "execution_count": 105
        }
      ]
    },
    {
      "cell_type": "code",
      "source": [
        "#Menampilkan prediksi untuk kelas 0 / probability dari profit > 0\n",
        "\n",
        "gnb.predict_proba(x_test)[0:10, 0]"
      ],
      "metadata": {
        "colab": {
          "base_uri": "https://localhost:8080/"
        },
        "id": "DY_V7pmzX4-0",
        "outputId": "bd227d3c-cf31-4eba-a673-77de33fc23be"
      },
      "id": "DY_V7pmzX4-0",
      "execution_count": null,
      "outputs": [
        {
          "output_type": "execute_result",
          "data": {
            "text/plain": [
              "array([0.92880527, 0.73557944, 0.89194785, 0.56771256, 0.55777598,\n",
              "       0.92728024, 0.8804964 , 0.94687112, 0.9086795 , 0.93952983])"
            ]
          },
          "metadata": {},
          "execution_count": 106
        }
      ]
    },
    {
      "cell_type": "code",
      "source": [
        "y_pred1 = gnb.predict_proba(x_test)[:, 0]"
      ],
      "metadata": {
        "id": "v_4_DQ5lbj3W"
      },
      "id": "v_4_DQ5lbj3W",
      "execution_count": null,
      "outputs": []
    },
    {
      "cell_type": "code",
      "source": [
        "#Plot histogram dari prediksi probability\n",
        "\n",
        "\n",
        "#Atur ukuran \n",
        "plt.rcParams['font.size'] = 12\n",
        "\n",
        "\n",
        "#Buat plot histogram dengan 10 bins\n",
        "plt.hist(y_pred1, bins = 10)\n",
        "\n",
        "\n",
        "#Atur judul\n",
        "plt.title('Histogram dari prediksi probability pendapatan > 0')\n",
        "\n",
        "\n",
        "#Atur limit x-axis\n",
        "plt.xlim(0,1)\n",
        "\n",
        "\n",
        "#Atur judul\n",
        "plt.xlabel('Prediksi probability dari profit > 0')\n",
        "plt.ylabel('Frequency')"
      ],
      "metadata": {
        "colab": {
          "base_uri": "https://localhost:8080/",
          "height": 319
        },
        "id": "6BqMQNa7dPSO",
        "outputId": "9a870241-a0d7-4f2e-a622-912d023e028e"
      },
      "id": "6BqMQNa7dPSO",
      "execution_count": null,
      "outputs": [
        {
          "output_type": "execute_result",
          "data": {
            "text/plain": [
              "Text(0, 0.5, 'Frequency')"
            ]
          },
          "metadata": {},
          "execution_count": 108
        },
        {
          "output_type": "display_data",
          "data": {
            "text/plain": [
              "<Figure size 432x288 with 1 Axes>"
            ],
            "image/png": "[encoded data removed]"
          },
          "metadata": {
            "needs_background": "light"
          }
        }
      ]
    },
    {
      "cell_type": "markdown",
      "source": [
        "######Pengujian dengan K-Fold Cross Validation"
      ],
      "metadata": {
        "id": "RsJEkVupggG8"
      },
      "id": "RsJEkVupggG8"
    },
    {
      "cell_type": "code",
      "source": [
        "#Menampilkan skor akurasi 10-Fold Cross Validation\n",
        "\n",
        "from sklearn.model_selection import cross_val_score\n",
        "\n",
        "scores = cross_val_score(gnb, x_train, y_train, cv = 10, scoring='accuracy')\n",
        "\n",
        "print('Cross-validation scores:{}'.format(scores))"
      ],
      "metadata": {
        "colab": {
          "base_uri": "https://localhost:8080/"
        },
        "id": "_KdqBXA1gRso",
        "outputId": "302c83bd-bb35-4614-8196-5731fcb6345c"
      },
      "id": "_KdqBXA1gRso",
      "execution_count": null,
      "outputs": [
        {
          "output_type": "stream",
          "name": "stdout",
          "text": [
            "Cross-validation scores:[0.82666667 0.83466667 0.828      0.82133333 0.82266667 0.8317757\n",
            " 0.83978638 0.83711615 0.83845127 0.82643525]\n"
          ]
        }
      ]
    },
    {
      "cell_type": "code",
      "source": [
        "#Menghitung rata-rata skor cross-validation\n",
        "\n",
        "print('Average cross-validation score: {:.4f}'.format(scores.mean()))"
      ],
      "metadata": {
        "colab": {
          "base_uri": "https://localhost:8080/"
        },
        "id": "D6uAkN3hgWpK",
        "outputId": "44d7fcf5-68b0-41c5-da8c-9d4687d68456"
      },
      "id": "D6uAkN3hgWpK",
      "execution_count": null,
      "outputs": [
        {
          "output_type": "stream",
          "name": "stdout",
          "text": [
            "Average cross-validation score: 0.8307\n"
          ]
        }
      ]
    },
    {
      "cell_type": "markdown",
      "id": "361275bf",
      "metadata": {
        "papermill": {
          "duration": 0.027186,
          "end_time": "2022-10-15T12:35:25.732033",
          "exception": false,
          "start_time": "2022-10-15T12:35:25.704847",
          "status": "completed"
        },
        "tags": [],
        "id": "361275bf"
      },
      "source": [
        "### **Random Forest Classifier Model**"
      ]
    },
    {
      "cell_type": "code",
      "execution_count": null,
      "id": "622aa6ef",
      "metadata": {
        "execution": {
          "iopub.execute_input": "2022-10-15T12:35:25.789317Z",
          "iopub.status.busy": "2022-10-15T12:35:25.788898Z",
          "iopub.status.idle": "2022-10-15T12:35:25.794530Z",
          "shell.execute_reply": "2022-10-15T12:35:25.793408Z"
        },
        "papermill": {
          "duration": 0.03718,
          "end_time": "2022-10-15T12:35:25.796755",
          "exception": false,
          "start_time": "2022-10-15T12:35:25.759575",
          "status": "completed"
        },
        "tags": [],
        "id": "622aa6ef"
      },
      "outputs": [],
      "source": [
        "cm_rfc = Pipeline([('std_scaler', StandardScaler()),('rfc_classifier',RandomForestClassifier(n_estimators=150,max_depth=7,random_state=5))])"
      ]
    },
    {
      "cell_type": "code",
      "execution_count": null,
      "id": "abf4775d",
      "metadata": {
        "execution": {
          "iopub.execute_input": "2022-10-15T12:35:25.852422Z",
          "iopub.status.busy": "2022-10-15T12:35:25.851960Z",
          "iopub.status.idle": "2022-10-15T12:35:27.344039Z",
          "shell.execute_reply": "2022-10-15T12:35:27.342901Z"
        },
        "papermill": {
          "duration": 1.522398,
          "end_time": "2022-10-15T12:35:27.346238",
          "exception": false,
          "start_time": "2022-10-15T12:35:25.823840",
          "status": "completed"
        },
        "tags": [],
        "id": "abf4775d",
        "colab": {
          "base_uri": "https://localhost:8080/"
        },
        "outputId": "d23e5dbf-5e47-4d42-b8dd-f5b361bd084c"
      },
      "outputs": [
        {
          "output_type": "execute_result",
          "data": {
            "text/plain": [
              "Pipeline(steps=[('std_scaler', StandardScaler()),\n",
              "                ('rfc_classifier',\n",
              "                 RandomForestClassifier(max_depth=7, n_estimators=150,\n",
              "                                        random_state=5))])"
            ]
          },
          "metadata": {},
          "execution_count": 127
        }
      ],
      "source": [
        "cm_rfc.fit(x_train, y_train)"
      ]
    },
    {
      "cell_type": "code",
      "execution_count": null,
      "id": "1649822c",
      "metadata": {
        "execution": {
          "iopub.execute_input": "2022-10-15T12:35:27.399436Z",
          "iopub.status.busy": "2022-10-15T12:35:27.398625Z",
          "iopub.status.idle": "2022-10-15T12:35:27.609722Z",
          "shell.execute_reply": "2022-10-15T12:35:27.608531Z"
        },
        "papermill": {
          "duration": 0.240735,
          "end_time": "2022-10-15T12:35:27.612385",
          "exception": false,
          "start_time": "2022-10-15T12:35:27.371650",
          "status": "completed"
        },
        "tags": [],
        "id": "1649822c",
        "colab": {
          "base_uri": "https://localhost:8080/"
        },
        "outputId": "8da2a2f0-b11b-46ed-ffcb-c19bb7b91015"
      },
      "outputs": [
        {
          "output_type": "execute_result",
          "data": {
            "text/plain": [
              "(0.9411607738492328, 0.936374549819928)"
            ]
          },
          "metadata": {},
          "execution_count": 128
        }
      ],
      "source": [
        "cm_rfc.score(x_train,y_train), cm_rfc.score(x_test,y_test)"
      ]
    },
    {
      "cell_type": "markdown",
      "id": "ac562ec6",
      "metadata": {
        "papermill": {
          "duration": 0.029759,
          "end_time": "2022-10-15T12:35:49.789017",
          "exception": false,
          "start_time": "2022-10-15T12:35:49.759258",
          "status": "completed"
        },
        "tags": [],
        "id": "ac562ec6"
      },
      "source": [
        "## **Kesimpulan Perbandingan**"
      ]
    },
    {
      "cell_type": "code",
      "execution_count": null,
      "id": "4e793ceb",
      "metadata": {
        "execution": {
          "iopub.execute_input": "2022-10-15T12:35:49.851962Z",
          "iopub.status.busy": "2022-10-15T12:35:49.850897Z",
          "iopub.status.idle": "2022-10-15T12:35:49.857694Z",
          "shell.execute_reply": "2022-10-15T12:35:49.856684Z"
        },
        "papermill": {
          "duration": 0.040651,
          "end_time": "2022-10-15T12:35:49.859961",
          "exception": false,
          "start_time": "2022-10-15T12:35:49.819310",
          "status": "completed"
        },
        "tags": [],
        "id": "4e793ceb"
      },
      "outputs": [],
      "source": [
        "#Membuat kolom perbandingan\n",
        "models = ['Naive Bayes','Random Forest']\n",
        "conclusion = pd.DataFrame(models,columns=['Models'])"
      ]
    },
    {
      "cell_type": "code",
      "execution_count": null,
      "id": "539056fb",
      "metadata": {
        "execution": {
          "iopub.execute_input": "2022-10-15T12:35:49.922899Z",
          "iopub.status.busy": "2022-10-15T12:35:49.921782Z",
          "iopub.status.idle": "2022-10-15T12:35:52.451231Z",
          "shell.execute_reply": "2022-10-15T12:35:52.450261Z"
        },
        "papermill": {
          "duration": 2.563607,
          "end_time": "2022-10-15T12:35:52.454021",
          "exception": false,
          "start_time": "2022-10-15T12:35:49.890414",
          "status": "completed"
        },
        "tags": [],
        "id": "539056fb"
      },
      "outputs": [],
      "source": [
        "m = [gnb,cm_rfc]\n",
        "train = []\n",
        "test = []\n",
        "for i in m:\n",
        "    train.append(i.score(x_train,y_train))\n",
        "    test.append(i.score(x_test,y_test))"
      ]
    },
    {
      "cell_type": "code",
      "execution_count": null,
      "id": "48454045",
      "metadata": {
        "execution": {
          "iopub.execute_input": "2022-10-15T12:35:52.516647Z",
          "iopub.status.busy": "2022-10-15T12:35:52.515950Z",
          "iopub.status.idle": "2022-10-15T12:35:52.521436Z",
          "shell.execute_reply": "2022-10-15T12:35:52.520611Z"
        },
        "papermill": {
          "duration": 0.038589,
          "end_time": "2022-10-15T12:35:52.523495",
          "exception": false,
          "start_time": "2022-10-15T12:35:52.484906",
          "status": "completed"
        },
        "tags": [],
        "id": "48454045"
      },
      "outputs": [],
      "source": [
        "conclusion['Train_score']=train\n",
        "conclusion['Test_score']=test"
      ]
    },
    {
      "cell_type": "code",
      "execution_count": null,
      "id": "8430c48a",
      "metadata": {
        "_kg_hide-input": false,
        "execution": {
          "iopub.execute_input": "2022-10-15T12:35:52.583475Z",
          "iopub.status.busy": "2022-10-15T12:35:52.582820Z",
          "iopub.status.idle": "2022-10-15T12:35:52.654579Z",
          "shell.execute_reply": "2022-10-15T12:35:52.653426Z"
        },
        "papermill": {
          "duration": 0.104663,
          "end_time": "2022-10-15T12:35:52.656852",
          "exception": false,
          "start_time": "2022-10-15T12:35:52.552189",
          "status": "completed"
        },
        "tags": [],
        "id": "8430c48a",
        "colab": {
          "base_uri": "https://localhost:8080/",
          "height": 112
        },
        "outputId": "3fde42c9-cbb0-4c23-f6d3-d59e9583cd4b"
      },
      "outputs": [
        {
          "output_type": "execute_result",
          "data": {
            "text/plain": [
              "<pandas.io.formats.style.Styler at 0x7f78c52c3700>"
            ],
            "text/html": [
              "<style type=\"text/css\">\n",
              "#T_d4625_row1_col0, #T_d4625_row1_col1, #T_d4625_row1_col2 {\n",
              "  background-color: yellow;\n",
              "}\n",
              "</style>\n",
              "<table id=\"T_d4625_\" class=\"dataframe\">\n",
              "  <thead>\n",
              "    <tr>\n",
              "      <th class=\"blank level0\" >&nbsp;</th>\n",
              "      <th class=\"col_heading level0 col0\" >Models</th>\n",
              "      <th class=\"col_heading level0 col1\" >Train_score</th>\n",
              "      <th class=\"col_heading level0 col2\" >Test_score</th>\n",
              "    </tr>\n",
              "  </thead>\n",
              "  <tbody>\n",
              "    <tr>\n",
              "      <th id=\"T_d4625_level0_row0\" class=\"row_heading level0 row0\" >0</th>\n",
              "      <td id=\"T_d4625_row0_col0\" class=\"data row0 col0\" >Naive Bayes</td>\n",
              "      <td id=\"T_d4625_row0_col1\" class=\"data row0 col1\" >0.831888</td>\n",
              "      <td id=\"T_d4625_row0_col2\" class=\"data row0 col2\" >0.835134</td>\n",
              "    </tr>\n",
              "    <tr>\n",
              "      <th id=\"T_d4625_level0_row1\" class=\"row_heading level0 row1\" >1</th>\n",
              "      <td id=\"T_d4625_row1_col0\" class=\"data row1 col0\" >Random Forest</td>\n",
              "      <td id=\"T_d4625_row1_col1\" class=\"data row1 col1\" >0.941161</td>\n",
              "      <td id=\"T_d4625_row1_col2\" class=\"data row1 col2\" >0.936375</td>\n",
              "    </tr>\n",
              "  </tbody>\n",
              "</table>\n"
            ]
          },
          "metadata": {},
          "execution_count": 117
        }
      ],
      "source": [
        "#Menampilkan perbandingan hasil akurasi dari model naive bayes dan random forest\n",
        "conclusion.style.highlight_max()"
      ]
    }
  ],
  "metadata": {
    "kernelspec": {
      "display_name": "Python 3",
      "language": "python",
      "name": "python3"
    },
    "language_info": {
      "codemirror_mode": {
        "name": "ipython",
        "version": 3
      },
      "file_extension": ".py",
      "mimetype": "text/x-python",
      "name": "python",
      "nbconvert_exporter": "python",
      "pygments_lexer": "ipython3",
      "version": "3.7.12"
    },
    "papermill": {
      "default_parameters": {},
      "duration": 67.830087,
      "end_time": "2022-10-15T12:35:54.211939",
      "environment_variables": {},
      "exception": null,
      "input_path": "__notebook__.ipynb",
      "output_path": "__notebook__.ipynb",
      "parameters": {},
      "start_time": "2022-10-15T12:34:46.381852",
      "version": "2.3.4"
    },
    "colab": {
      "provenance": [],
      "collapsed_sections": [
        "715341f5",
        "d53838ca",
        "c206d135",
        "2ab7a850",
        "039f1564"
      ],
      "include_colab_link": true
    }
  },
  "nbformat": 4,
  "nbformat_minor": 5
}